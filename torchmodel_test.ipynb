{
 "metadata": {
  "language_info": {
   "codemirror_mode": {
    "name": "ipython",
    "version": 3
   },
   "file_extension": ".py",
   "mimetype": "text/x-python",
   "name": "python",
   "nbconvert_exporter": "python",
   "pygments_lexer": "ipython3",
   "version": "3.8.5-final"
  },
  "orig_nbformat": 2,
  "kernelspec": {
   "name": "python3",
   "display_name": "Python 3",
   "language": "python"
  }
 },
 "nbformat": 4,
 "nbformat_minor": 2,
 "cells": [
  {
   "cell_type": "code",
   "execution_count": 2,
   "metadata": {},
   "outputs": [],
   "source": [
    "import torch\n",
    "import torchvision.models as models\n",
    "import matplotlib.pyplot as plt\n",
    "import time\n",
    "%matplotlib inline"
   ]
  },
  {
   "cell_type": "code",
   "execution_count": 5,
   "metadata": {},
   "outputs": [
    {
     "output_type": "stream",
     "name": "stdout",
     "text": [
      "23.1 model loaded\n"
     ]
    }
   ],
   "source": [
    "\n",
    "base=time.time()\n",
    "model=models.segmentation.deeplabv3_resnet101(pretrained=True)\n",
    "model.eval()\n",
    "print('{:.1f} model loaded'.format(time.time()-base))"
   ]
  },
  {
   "cell_type": "code",
   "execution_count": 50,
   "metadata": {},
   "outputs": [
    {
     "output_type": "stream",
     "name": "stdout",
     "text": [
      "0.2 image processed\n"
     ]
    }
   ],
   "source": [
    "\n",
    "\n",
    "\n",
    "base=time.time()\n",
    "from PIL import Image\n",
    "from torchvision import transforms\n",
    "\n",
    "input_image = Image.open('a.jpg')\n",
    "#input_image = Image.open(r'.\\CrackForest\\Images\\001.jpg')\n",
    "input_image=input_image.resize((240,320))\n",
    "\n",
    "preprocess = transforms.Compose([\n",
    "    transforms.ToTensor(),\n",
    "    transforms.Normalize(mean=[0.485, 0.456, 0.406], std=[0.229, 0.224, 0.225]),\n",
    "])\n",
    "\n",
    "input_tensor = preprocess(input_image)\n",
    "input_batch = input_tensor.unsqueeze(0) # create a mini-batch as expected by the model\n",
    "print('{:.1f} image processed'.format(time.time()-base))\n"
   ]
  },
  {
   "cell_type": "code",
   "execution_count": 39,
   "metadata": {},
   "outputs": [
    {
     "output_type": "stream",
     "name": "stdout",
     "text": [
      "1.7 model predicted\n"
     ]
    },
    {
     "output_type": "execute_result",
     "data": {
      "text/plain": [
       "torch.Size([21, 320, 240])"
      ]
     },
     "metadata": {},
     "execution_count": 39
    }
   ],
   "source": [
    "\n",
    "\n",
    "base=time.time()\n",
    "with torch.no_grad():\n",
    "    output = model(input_batch)['out'][0]\n",
    "\n",
    "\n",
    "print('{:.1f} model predicted'.format(time.time()-base))\n",
    "# create a color pallette, selecting a color for each class\n",
    "output.shape\n"
   ]
  },
  {
   "cell_type": "code",
   "execution_count": 40,
   "metadata": {},
   "outputs": [
    {
     "output_type": "execute_result",
     "data": {
      "text/plain": [
       "tensor([[[10.4898, 10.4898, 10.4898,  ..., 10.6074, 10.6074, 10.6074],\n",
       "         [10.4898, 10.4898, 10.4898,  ..., 10.6074, 10.6074, 10.6074],\n",
       "         [10.4898, 10.4898, 10.4898,  ..., 10.6074, 10.6074, 10.6074],\n",
       "         ...,\n",
       "         [ 9.5785,  9.5785,  9.5785,  ...,  8.1371,  8.1371,  8.1371],\n",
       "         [ 9.5785,  9.5785,  9.5785,  ...,  8.1371,  8.1371,  8.1371],\n",
       "         [ 9.5785,  9.5785,  9.5785,  ...,  8.1371,  8.1371,  8.1371]],\n",
       "\n",
       "        [[-0.2921, -0.2921, -0.2921,  ..., -0.1744, -0.1744, -0.1744],\n",
       "         [-0.2921, -0.2921, -0.2921,  ..., -0.1744, -0.1744, -0.1744],\n",
       "         [-0.2921, -0.2921, -0.2921,  ..., -0.1744, -0.1744, -0.1744],\n",
       "         ...,\n",
       "         [-1.0044, -1.0044, -1.0044,  ..., -0.5717, -0.5717, -0.5717],\n",
       "         [-1.0044, -1.0044, -1.0044,  ..., -0.5717, -0.5717, -0.5717],\n",
       "         [-1.0044, -1.0044, -1.0044,  ..., -0.5717, -0.5717, -0.5717]],\n",
       "\n",
       "        [[-2.0153, -2.0153, -2.0153,  ..., -2.2364, -2.2364, -2.2364],\n",
       "         [-2.0153, -2.0153, -2.0153,  ..., -2.2364, -2.2364, -2.2364],\n",
       "         [-2.0153, -2.0153, -2.0153,  ..., -2.2364, -2.2364, -2.2364],\n",
       "         ...,\n",
       "         [-2.8440, -2.8440, -2.8440,  ..., -2.8375, -2.8375, -2.8375],\n",
       "         [-2.8440, -2.8440, -2.8440,  ..., -2.8375, -2.8375, -2.8376],\n",
       "         [-2.8440, -2.8440, -2.8440,  ..., -2.8375, -2.8375, -2.8375]],\n",
       "\n",
       "        ...,\n",
       "\n",
       "        [[ 1.0708,  1.0708,  1.0708,  ...,  1.0831,  1.0831,  1.0831],\n",
       "         [ 1.0708,  1.0708,  1.0708,  ...,  1.0831,  1.0831,  1.0831],\n",
       "         [ 1.0708,  1.0708,  1.0708,  ...,  1.0831,  1.0831,  1.0831],\n",
       "         ...,\n",
       "         [ 4.2949,  4.2949,  4.2949,  ...,  4.0539,  4.0539,  4.0539],\n",
       "         [ 4.2949,  4.2949,  4.2949,  ...,  4.0539,  4.0539,  4.0539],\n",
       "         [ 4.2949,  4.2949,  4.2949,  ...,  4.0539,  4.0539,  4.0539]],\n",
       "\n",
       "        [[ 0.4921,  0.4921,  0.4921,  ...,  0.6740,  0.6740,  0.6740],\n",
       "         [ 0.4921,  0.4921,  0.4921,  ...,  0.6740,  0.6740,  0.6740],\n",
       "         [ 0.4921,  0.4921,  0.4921,  ...,  0.6740,  0.6740,  0.6740],\n",
       "         ...,\n",
       "         [-0.4369, -0.4369, -0.4369,  ..., -0.1929, -0.1929, -0.1929],\n",
       "         [-0.4369, -0.4369, -0.4369,  ..., -0.1929, -0.1929, -0.1929],\n",
       "         [-0.4369, -0.4369, -0.4369,  ..., -0.1929, -0.1929, -0.1929]],\n",
       "\n",
       "        [[ 1.6791,  1.6791,  1.6791,  ...,  1.7135,  1.7135,  1.7135],\n",
       "         [ 1.6791,  1.6791,  1.6791,  ...,  1.7135,  1.7135,  1.7135],\n",
       "         [ 1.6791,  1.6791,  1.6791,  ...,  1.7135,  1.7135,  1.7135],\n",
       "         ...,\n",
       "         [ 2.0499,  2.0499,  2.0499,  ...,  1.7699,  1.7699,  1.7699],\n",
       "         [ 2.0499,  2.0499,  2.0499,  ...,  1.7699,  1.7699,  1.7699],\n",
       "         [ 2.0499,  2.0499,  2.0499,  ...,  1.7699,  1.7699,  1.7699]]])"
      ]
     },
     "metadata": {},
     "execution_count": 40
    }
   ],
   "source": [
    "output"
   ]
  },
  {
   "cell_type": "code",
   "execution_count": null,
   "metadata": {},
   "outputs": [],
   "source": [
    "output"
   ]
  },
  {
   "cell_type": "code",
   "execution_count": 41,
   "metadata": {},
   "outputs": [
    {
     "output_type": "execute_result",
     "data": {
      "text/plain": [
       "tensor([[0, 0, 0,  ..., 0, 0, 0],\n",
       "        [0, 0, 0,  ..., 0, 0, 0],\n",
       "        [0, 0, 0,  ..., 0, 0, 0],\n",
       "        ...,\n",
       "        [0, 0, 0,  ..., 0, 0, 0],\n",
       "        [0, 0, 0,  ..., 0, 0, 0],\n",
       "        [0, 0, 0,  ..., 0, 0, 0]])"
      ]
     },
     "metadata": {},
     "execution_count": 41
    }
   ],
   "source": [
    "output_predictions = output.argmax(0)\n",
    "output_predictions"
   ]
  },
  {
   "cell_type": "code",
   "execution_count": 35,
   "metadata": {},
   "outputs": [
    {
     "output_type": "error",
     "ename": "NameError",
     "evalue": "name 'np' is not defined",
     "traceback": [
      "\u001b[1;31m---------------------------------------------------------------------------\u001b[0m",
      "\u001b[1;31mNameError\u001b[0m                                 Traceback (most recent call last)",
      "\u001b[1;32m<ipython-input-35-4f2c3eeb630b>\u001b[0m in \u001b[0;36m<module>\u001b[1;34m\u001b[0m\n\u001b[1;32m----> 1\u001b[1;33m \u001b[0mnp\u001b[0m\u001b[1;33m.\u001b[0m\u001b[0munique\u001b[0m\u001b[1;33m(\u001b[0m\u001b[0moutput_predictions\u001b[0m\u001b[1;33m)\u001b[0m\u001b[1;33m\u001b[0m\u001b[1;33m\u001b[0m\u001b[0m\n\u001b[0m",
      "\u001b[1;31mNameError\u001b[0m: name 'np' is not defined"
     ]
    }
   ],
   "source": [
    "np.unique(output_predictions)"
   ]
  },
  {
   "cell_type": "code",
   "execution_count": 42,
   "metadata": {},
   "outputs": [
    {
     "output_type": "execute_result",
     "data": {
      "text/plain": [
       "(320, 240)"
      ]
     },
     "metadata": {},
     "execution_count": 42
    }
   ],
   "source": [
    "output_predictions = output.argmax(0)\n",
    "out=output_predictions.detach().cpu().numpy()\n",
    "out.shape"
   ]
  },
  {
   "cell_type": "code",
   "execution_count": 44,
   "metadata": {},
   "outputs": [
    {
     "output_type": "execute_result",
     "data": {
      "text/plain": [
       "array([ 0,  9, 15, 20], dtype=int64)"
      ]
     },
     "metadata": {},
     "execution_count": 44
    }
   ],
   "source": [
    "import numpy as np\n",
    "np.unique(out)"
   ]
  },
  {
   "cell_type": "code",
   "execution_count": 22,
   "metadata": {},
   "outputs": [
    {
     "output_type": "execute_result",
     "data": {
      "text/plain": [
       "<matplotlib.image.AxesImage at 0x2c5b2889280>"
      ]
     },
     "metadata": {},
     "execution_count": 22
    },
    {
     "output_type": "display_data",
     "data": {
      "text/plain": "<Figure size 432x288 with 1 Axes>",
      "image/svg+xml": "<?xml version=\"1.0\" encoding=\"utf-8\" standalone=\"no\"?>\r\n<!DOCTYPE svg PUBLIC \"-//W3C//DTD SVG 1.1//EN\"\r\n  \"http://www.w3.org/Graphics/SVG/1.1/DTD/svg11.dtd\">\r\n<!-- Created with matplotlib (https://matplotlib.org/) -->\r\n<svg height=\"252.276548pt\" version=\"1.1\" viewBox=\"0 0 209.950398 252.276548\" width=\"209.950398pt\" xmlns=\"http://www.w3.org/2000/svg\" xmlns:xlink=\"http://www.w3.org/1999/xlink\">\r\n <metadata>\r\n  <rdf:RDF xmlns:cc=\"http://creativecommons.org/ns#\" xmlns:dc=\"http://purl.org/dc/elements/1.1/\" xmlns:rdf=\"http://www.w3.org/1999/02/22-rdf-syntax-ns#\">\r\n   <cc:Work>\r\n    <dc:type rdf:resource=\"http://purl.org/dc/dcmitype/StillImage\"/>\r\n    <dc:date>2021-01-13T18:33:19.402875</dc:date>\r\n    <dc:format>image/svg+xml</dc:format>\r\n    <dc:creator>\r\n     <cc:Agent>\r\n      <dc:title>Matplotlib v3.3.3, https://matplotlib.org/</dc:title>\r\n     </cc:Agent>\r\n    </dc:creator>\r\n   </cc:Work>\r\n  </rdf:RDF>\r\n </metadata>\r\n <defs>\r\n  <style type=\"text/css\">*{stroke-linecap:butt;stroke-linejoin:round;}</style>\r\n </defs>\r\n <g id=\"figure_1\">\r\n  <g id=\"patch_1\">\r\n   <path d=\"M 0 252.276548 \r\nL 209.950398 252.276548 \r\nL 209.950398 0 \r\nL 0 0 \r\nz\r\n\" style=\"fill:none;\"/>\r\n  </g>\r\n  <g id=\"axes_1\">\r\n   <g id=\"patch_2\">\r\n    <path d=\"M 39.65 228.398423 \r\nL 202.750398 228.398423 \r\nL 202.750398 10.958423 \r\nL 39.65 10.958423 \r\nz\r\n\" style=\"fill:#ffffff;\"/>\r\n   </g>\r\n   <g clip-path=\"url(#pbdf6d67c61)\">\r\n    <image height=\"218\" id=\"imagee4c6eaf022\" transform=\"scale(1 -1)translate(0 -218)\" width=\"164\" x=\"39.65\" xlink:href=\"data:image/png;base64,\r\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\" y=\"-10.398423\"/>\r\n   </g>\r\n   <g id=\"matplotlib.axis_1\">\r\n    <g id=\"xtick_1\">\r\n     <g id=\"line2d_1\">\r\n      <defs>\r\n       <path d=\"M 0 0 \r\nL 0 3.5 \r\n\" id=\"m74e174f767\" style=\"stroke:#000000;stroke-width:0.8;\"/>\r\n      </defs>\r\n      <g>\r\n       <use style=\"stroke:#000000;stroke-width:0.8;\" x=\"39.690795\" xlink:href=\"#m74e174f767\" y=\"228.398423\"/>\r\n      </g>\r\n     </g>\r\n     <g id=\"text_1\">\r\n      <!-- 0 -->\r\n      <g transform=\"translate(36.509545 242.996861)scale(0.1 -0.1)\">\r\n       <defs>\r\n        <path d=\"M 31.78125 66.40625 \r\nQ 24.171875 66.40625 20.328125 58.90625 \r\nQ 16.5 51.421875 16.5 36.375 \r\nQ 16.5 21.390625 20.328125 13.890625 \r\nQ 24.171875 6.390625 31.78125 6.390625 \r\nQ 39.453125 6.390625 43.28125 13.890625 \r\nQ 47.125 21.390625 47.125 36.375 \r\nQ 47.125 51.421875 43.28125 58.90625 \r\nQ 39.453125 66.40625 31.78125 66.40625 \r\nz\r\nM 31.78125 74.21875 \r\nQ 44.046875 74.21875 50.515625 64.515625 \r\nQ 56.984375 54.828125 56.984375 36.375 \r\nQ 56.984375 17.96875 50.515625 8.265625 \r\nQ 44.046875 -1.421875 31.78125 -1.421875 \r\nQ 19.53125 -1.421875 13.0625 8.265625 \r\nQ 6.59375 17.96875 6.59375 36.375 \r\nQ 6.59375 54.828125 13.0625 64.515625 \r\nQ 19.53125 74.21875 31.78125 74.21875 \r\nz\r\n\" id=\"DejaVuSans-48\"/>\r\n       </defs>\r\n       <use xlink:href=\"#DejaVuSans-48\"/>\r\n      </g>\r\n     </g>\r\n    </g>\r\n    <g id=\"xtick_2\">\r\n     <g id=\"line2d_2\">\r\n      <g>\r\n       <use style=\"stroke:#000000;stroke-width:0.8;\" x=\"80.486293\" xlink:href=\"#m74e174f767\" y=\"228.398423\"/>\r\n      </g>\r\n     </g>\r\n     <g id=\"text_2\">\r\n      <!-- 500 -->\r\n      <g transform=\"translate(70.942543 242.996861)scale(0.1 -0.1)\">\r\n       <defs>\r\n        <path d=\"M 10.796875 72.90625 \r\nL 49.515625 72.90625 \r\nL 49.515625 64.59375 \r\nL 19.828125 64.59375 \r\nL 19.828125 46.734375 \r\nQ 21.96875 47.46875 24.109375 47.828125 \r\nQ 26.265625 48.1875 28.421875 48.1875 \r\nQ 40.625 48.1875 47.75 41.5 \r\nQ 54.890625 34.8125 54.890625 23.390625 \r\nQ 54.890625 11.625 47.5625 5.09375 \r\nQ 40.234375 -1.421875 26.90625 -1.421875 \r\nQ 22.3125 -1.421875 17.546875 -0.640625 \r\nQ 12.796875 0.140625 7.71875 1.703125 \r\nL 7.71875 11.625 \r\nQ 12.109375 9.234375 16.796875 8.0625 \r\nQ 21.484375 6.890625 26.703125 6.890625 \r\nQ 35.15625 6.890625 40.078125 11.328125 \r\nQ 45.015625 15.765625 45.015625 23.390625 \r\nQ 45.015625 31 40.078125 35.4375 \r\nQ 35.15625 39.890625 26.703125 39.890625 \r\nQ 22.75 39.890625 18.8125 39.015625 \r\nQ 14.890625 38.140625 10.796875 36.28125 \r\nz\r\n\" id=\"DejaVuSans-53\"/>\r\n       </defs>\r\n       <use xlink:href=\"#DejaVuSans-53\"/>\r\n       <use x=\"63.623047\" xlink:href=\"#DejaVuSans-48\"/>\r\n       <use x=\"127.246094\" xlink:href=\"#DejaVuSans-48\"/>\r\n      </g>\r\n     </g>\r\n    </g>\r\n    <g id=\"xtick_3\">\r\n     <g id=\"line2d_3\">\r\n      <g>\r\n       <use style=\"stroke:#000000;stroke-width:0.8;\" x=\"121.28179\" xlink:href=\"#m74e174f767\" y=\"228.398423\"/>\r\n      </g>\r\n     </g>\r\n     <g id=\"text_3\">\r\n      <!-- 1000 -->\r\n      <g transform=\"translate(108.55679 242.996861)scale(0.1 -0.1)\">\r\n       <defs>\r\n        <path d=\"M 12.40625 8.296875 \r\nL 28.515625 8.296875 \r\nL 28.515625 63.921875 \r\nL 10.984375 60.40625 \r\nL 10.984375 69.390625 \r\nL 28.421875 72.90625 \r\nL 38.28125 72.90625 \r\nL 38.28125 8.296875 \r\nL 54.390625 8.296875 \r\nL 54.390625 0 \r\nL 12.40625 0 \r\nz\r\n\" id=\"DejaVuSans-49\"/>\r\n       </defs>\r\n       <use xlink:href=\"#DejaVuSans-49\"/>\r\n       <use x=\"63.623047\" xlink:href=\"#DejaVuSans-48\"/>\r\n       <use x=\"127.246094\" xlink:href=\"#DejaVuSans-48\"/>\r\n       <use x=\"190.869141\" xlink:href=\"#DejaVuSans-48\"/>\r\n      </g>\r\n     </g>\r\n    </g>\r\n    <g id=\"xtick_4\">\r\n     <g id=\"line2d_4\">\r\n      <g>\r\n       <use style=\"stroke:#000000;stroke-width:0.8;\" x=\"162.077287\" xlink:href=\"#m74e174f767\" y=\"228.398423\"/>\r\n      </g>\r\n     </g>\r\n     <g id=\"text_4\">\r\n      <!-- 1500 -->\r\n      <g transform=\"translate(149.352287 242.996861)scale(0.1 -0.1)\">\r\n       <use xlink:href=\"#DejaVuSans-49\"/>\r\n       <use x=\"63.623047\" xlink:href=\"#DejaVuSans-53\"/>\r\n       <use x=\"127.246094\" xlink:href=\"#DejaVuSans-48\"/>\r\n       <use x=\"190.869141\" xlink:href=\"#DejaVuSans-48\"/>\r\n      </g>\r\n     </g>\r\n    </g>\r\n   </g>\r\n   <g id=\"matplotlib.axis_2\">\r\n    <g id=\"ytick_1\">\r\n     <g id=\"line2d_5\">\r\n      <defs>\r\n       <path d=\"M 0 0 \r\nL -3.5 0 \r\n\" id=\"md68cf9644c\" style=\"stroke:#000000;stroke-width:0.8;\"/>\r\n      </defs>\r\n      <g>\r\n       <use style=\"stroke:#000000;stroke-width:0.8;\" x=\"39.65\" xlink:href=\"#md68cf9644c\" y=\"10.999219\"/>\r\n      </g>\r\n     </g>\r\n     <g id=\"text_5\">\r\n      <!-- 0 -->\r\n      <g transform=\"translate(26.2875 14.798438)scale(0.1 -0.1)\">\r\n       <use xlink:href=\"#DejaVuSans-48\"/>\r\n      </g>\r\n     </g>\r\n    </g>\r\n    <g id=\"ytick_2\">\r\n     <g id=\"line2d_6\">\r\n      <g>\r\n       <use style=\"stroke:#000000;stroke-width:0.8;\" x=\"39.65\" xlink:href=\"#md68cf9644c\" y=\"51.794716\"/>\r\n      </g>\r\n     </g>\r\n     <g id=\"text_6\">\r\n      <!-- 500 -->\r\n      <g transform=\"translate(13.5625 55.593935)scale(0.1 -0.1)\">\r\n       <use xlink:href=\"#DejaVuSans-53\"/>\r\n       <use x=\"63.623047\" xlink:href=\"#DejaVuSans-48\"/>\r\n       <use x=\"127.246094\" xlink:href=\"#DejaVuSans-48\"/>\r\n      </g>\r\n     </g>\r\n    </g>\r\n    <g id=\"ytick_3\">\r\n     <g id=\"line2d_7\">\r\n      <g>\r\n       <use style=\"stroke:#000000;stroke-width:0.8;\" x=\"39.65\" xlink:href=\"#md68cf9644c\" y=\"92.590213\"/>\r\n      </g>\r\n     </g>\r\n     <g id=\"text_7\">\r\n      <!-- 1000 -->\r\n      <g transform=\"translate(7.2 96.389432)scale(0.1 -0.1)\">\r\n       <use xlink:href=\"#DejaVuSans-49\"/>\r\n       <use x=\"63.623047\" xlink:href=\"#DejaVuSans-48\"/>\r\n       <use x=\"127.246094\" xlink:href=\"#DejaVuSans-48\"/>\r\n       <use x=\"190.869141\" xlink:href=\"#DejaVuSans-48\"/>\r\n      </g>\r\n     </g>\r\n    </g>\r\n    <g id=\"ytick_4\">\r\n     <g id=\"line2d_8\">\r\n      <g>\r\n       <use style=\"stroke:#000000;stroke-width:0.8;\" x=\"39.65\" xlink:href=\"#md68cf9644c\" y=\"133.38571\"/>\r\n      </g>\r\n     </g>\r\n     <g id=\"text_8\">\r\n      <!-- 1500 -->\r\n      <g transform=\"translate(7.2 137.184929)scale(0.1 -0.1)\">\r\n       <use xlink:href=\"#DejaVuSans-49\"/>\r\n       <use x=\"63.623047\" xlink:href=\"#DejaVuSans-53\"/>\r\n       <use x=\"127.246094\" xlink:href=\"#DejaVuSans-48\"/>\r\n       <use x=\"190.869141\" xlink:href=\"#DejaVuSans-48\"/>\r\n      </g>\r\n     </g>\r\n    </g>\r\n    <g id=\"ytick_5\">\r\n     <g id=\"line2d_9\">\r\n      <g>\r\n       <use style=\"stroke:#000000;stroke-width:0.8;\" x=\"39.65\" xlink:href=\"#md68cf9644c\" y=\"174.181207\"/>\r\n      </g>\r\n     </g>\r\n     <g id=\"text_9\">\r\n      <!-- 2000 -->\r\n      <g transform=\"translate(7.2 177.980426)scale(0.1 -0.1)\">\r\n       <defs>\r\n        <path d=\"M 19.1875 8.296875 \r\nL 53.609375 8.296875 \r\nL 53.609375 0 \r\nL 7.328125 0 \r\nL 7.328125 8.296875 \r\nQ 12.9375 14.109375 22.625 23.890625 \r\nQ 32.328125 33.6875 34.8125 36.53125 \r\nQ 39.546875 41.84375 41.421875 45.53125 \r\nQ 43.3125 49.21875 43.3125 52.78125 \r\nQ 43.3125 58.59375 39.234375 62.25 \r\nQ 35.15625 65.921875 28.609375 65.921875 \r\nQ 23.96875 65.921875 18.8125 64.3125 \r\nQ 13.671875 62.703125 7.8125 59.421875 \r\nL 7.8125 69.390625 \r\nQ 13.765625 71.78125 18.9375 73 \r\nQ 24.125 74.21875 28.421875 74.21875 \r\nQ 39.75 74.21875 46.484375 68.546875 \r\nQ 53.21875 62.890625 53.21875 53.421875 \r\nQ 53.21875 48.921875 51.53125 44.890625 \r\nQ 49.859375 40.875 45.40625 35.40625 \r\nQ 44.1875 33.984375 37.640625 27.21875 \r\nQ 31.109375 20.453125 19.1875 8.296875 \r\nz\r\n\" id=\"DejaVuSans-50\"/>\r\n       </defs>\r\n       <use xlink:href=\"#DejaVuSans-50\"/>\r\n       <use x=\"63.623047\" xlink:href=\"#DejaVuSans-48\"/>\r\n       <use x=\"127.246094\" xlink:href=\"#DejaVuSans-48\"/>\r\n       <use x=\"190.869141\" xlink:href=\"#DejaVuSans-48\"/>\r\n      </g>\r\n     </g>\r\n    </g>\r\n    <g id=\"ytick_6\">\r\n     <g id=\"line2d_10\">\r\n      <g>\r\n       <use style=\"stroke:#000000;stroke-width:0.8;\" x=\"39.65\" xlink:href=\"#md68cf9644c\" y=\"214.976705\"/>\r\n      </g>\r\n     </g>\r\n     <g id=\"text_10\">\r\n      <!-- 2500 -->\r\n      <g transform=\"translate(7.2 218.775923)scale(0.1 -0.1)\">\r\n       <use xlink:href=\"#DejaVuSans-50\"/>\r\n       <use x=\"63.623047\" xlink:href=\"#DejaVuSans-53\"/>\r\n       <use x=\"127.246094\" xlink:href=\"#DejaVuSans-48\"/>\r\n       <use x=\"190.869141\" xlink:href=\"#DejaVuSans-48\"/>\r\n      </g>\r\n     </g>\r\n    </g>\r\n   </g>\r\n   <g id=\"patch_3\">\r\n    <path d=\"M 39.65 228.398423 \r\nL 39.65 10.958423 \r\n\" style=\"fill:none;stroke:#000000;stroke-linecap:square;stroke-linejoin:miter;stroke-width:0.8;\"/>\r\n   </g>\r\n   <g id=\"patch_4\">\r\n    <path d=\"M 202.750398 228.398423 \r\nL 202.750398 10.958423 \r\n\" style=\"fill:none;stroke:#000000;stroke-linecap:square;stroke-linejoin:miter;stroke-width:0.8;\"/>\r\n   </g>\r\n   <g id=\"patch_5\">\r\n    <path d=\"M 39.65 228.398423 \r\nL 202.750398 228.398423 \r\n\" style=\"fill:none;stroke:#000000;stroke-linecap:square;stroke-linejoin:miter;stroke-width:0.8;\"/>\r\n   </g>\r\n   <g id=\"patch_6\">\r\n    <path d=\"M 39.65 10.958423 \r\nL 202.750398 10.958423 \r\n\" style=\"fill:none;stroke:#000000;stroke-linecap:square;stroke-linejoin:miter;stroke-width:0.8;\"/>\r\n   </g>\r\n  </g>\r\n </g>\r\n <defs>\r\n  <clipPath id=\"pbdf6d67c61\">\r\n   <rect height=\"217.44\" width=\"163.100398\" x=\"39.65\" y=\"10.958423\"/>\r\n  </clipPath>\r\n </defs>\r\n</svg>\r\n",
      "image/png": "[encoded data removed]"
     },
     "metadata": {
      "needs_background": "light"
     }
    }
   ],
   "source": [
    "plt.imshow(output_predictions)"
   ]
  },
  {
   "cell_type": "code",
   "execution_count": 13,
   "metadata": {},
   "outputs": [],
   "source": [
    "states=torch.load('FloorExp\\Jan21a.pt')"
   ]
  },
  {
   "cell_type": "code",
   "execution_count": 14,
   "metadata": {},
   "outputs": [
    {
     "output_type": "execute_result",
     "data": {
      "text/plain": [
       "<All keys matched successfully>"
      ]
     },
     "metadata": {},
     "execution_count": 14
    }
   ],
   "source": [
    "from model import createDeepLabv3\n",
    "tmodel = createDeepLabv3()\n",
    "tmodel.load_state_dict(states['model_state_dict'])"
   ]
  },
  {
   "cell_type": "code",
   "execution_count": 1,
   "metadata": {},
   "outputs": [
    {
     "output_type": "execute_result",
     "data": {
      "text/plain": [
       "), bias=False)\n",
       "        (bn3): BatchNorm2d(512, eps=1e-05, momentum=0.1, affine=True, track_running_stats=True)\n",
       "        (relu): ReLU(inplace=True)\n",
       "      )\n",
       "      (3): Bottleneck(\n",
       "        (conv1): Conv2d(512, 128, kernel_size=(1, 1), stride=(1, 1), bias=False)\n",
       "        (bn1): BatchNorm2d(128, eps=1e-05, momentum=0.1, affine=True, track_running_stats=True)\n",
       "        (conv2): Conv2d(128, 128, kernel_size=(3, 3), stride=(1, 1), padding=(1, 1), bias=False)\n",
       "        (bn2): BatchNorm2d(128, eps=1e-05, momentum=0.1, affine=True, track_running_stats=True)\n",
       "        (conv3): Conv2d(128, 512, kernel_size=(1, 1), stride=(1, 1), bias=False)\n",
       "        (bn3): BatchNorm2d(512, eps=1e-05, momentum=0.1, affine=True, track_running_stats=True)\n",
       "        (relu): ReLU(inplace=True)\n",
       "      )\n",
       "    )\n",
       "    (layer3): Sequential(\n",
       "      (0): Bottleneck(\n",
       "        (conv1): Conv2d(512, 256, kernel_size=(1, 1), stride=(1, 1), bias=False)\n",
       "        (bn1): BatchNorm2d(256, eps=1e-05, momentum=0.1, affine=True, track_running_stats=True)\n",
       "        (conv2): Conv2d(256, 256, kernel_size=(3, 3), stride=(1, 1), padding=(1, 1), bias=False)\n",
       "        (bn2): BatchNorm2d(256, eps=1e-05, momentum=0.1, affine=True, track_running_stats=True)\n",
       "        (conv3): Conv2d(256, 1024, kernel_size=(1, 1), stride=(1, 1), bias=False)\n",
       "        (bn3): BatchNorm2d(1024, eps=1e-05, momentum=0.1, affine=True, track_running_stats=True)\n",
       "        (relu): ReLU(inplace=True)\n",
       "        (downsample): Sequential(\n",
       "          (0): Conv2d(512, 1024, kernel_size=(1, 1), stride=(1, 1), bias=False)\n",
       "          (1): BatchNorm2d(1024, eps=1e-05, momentum=0.1, affine=True, track_running_stats=True)\n",
       "        )\n",
       "      )\n",
       "      (1): Bottleneck(\n",
       "        (conv1): Conv2d(1024, 256, kernel_size=(1, 1), stride=(1, 1), bias=False)\n",
       "        (bn1): BatchNorm2d(256, eps=1e-05, momentum=0.1, affine=True, track_running_stats=True)\n",
       "        (conv2): Conv2d(256, 256, kernel_size=(3, 3), stride=(1, 1), padding=(2, 2), dilation=(2, 2), bias=False)\n",
       "        (bn2): BatchNorm2d(256, eps=1e-05, momentum=0.1, affine=True, track_running_stats=True)\n",
       "        (conv3): Conv2d(256, 1024, kernel_size=(1, 1), stride=(1, 1), bias=False)\n",
       "        (bn3): BatchNorm2d(1024, eps=1e-05, momentum=0.1, affine=True, track_running_stats=True)\n",
       "        (relu): ReLU(inplace=True)\n",
       "      )\n",
       "      (2): Bottleneck(\n",
       "        (conv1): Conv2d(1024, 256, kernel_size=(1, 1), stride=(1, 1), bias=False)\n",
       "        (bn1): BatchNorm2d(256, eps=1e-05, momentum=0.1, affine=True, track_running_stats=True)\n",
       "        (conv2): Conv2d(256, 256, kernel_size=(3, 3), stride=(1, 1), padding=(2, 2), dilation=(2, 2), bias=False)\n",
       "        (bn2): BatchNorm2d(256, eps=1e-05, momentum=0.1, affine=True, track_running_stats=True)\n",
       "        (conv3): Conv2d(256, 1024, kernel_size=(1, 1), stride=(1, 1), bias=False)\n",
       "        (bn3): BatchNorm2d(1024, eps=1e-05, momentum=0.1, affine=True, track_running_stats=True)\n",
       "        (relu): ReLU(inplace=True)\n",
       "      )\n",
       "      (3): Bottleneck(\n",
       "        (conv1): Conv2d(1024, 256, kernel_size=(1, 1), stride=(1, 1), bias=False)\n",
       "        (bn1): BatchNorm2d(256, eps=1e-05, momentum=0.1, affine=True, track_running_stats=True)\n",
       "        (conv2): Conv2d(256, 256, kernel_size=(3, 3), stride=(1, 1), padding=(2, 2), dilation=(2, 2), bias=False)\n",
       "        (bn2): BatchNorm2d(256, eps=1e-05, momentum=0.1, affine=True, track_running_stats=True)\n",
       "        (conv3): Conv2d(256, 1024, kernel_size=(1, 1), stride=(1, 1), bias=False)\n",
       "        (bn3): BatchNorm2d(1024, eps=1e-05, momentum=0.1, affine=True, track_running_stats=True)\n",
       "        (relu): ReLU(inplace=True)\n",
       "      )\n",
       "      (4): Bottleneck(\n",
       "        (conv1): Conv2d(1024, 256, kernel_size=(1, 1), stride=(1, 1), bias=False)\n",
       "        (bn1): BatchNorm2d(256, eps=1e-05, momentum=0.1, affine=True, track_running_stats=True)\n",
       "        (conv2): Conv2d(256, 256, kernel_size=(3, 3), stride=(1, 1), padding=(2, 2), dilation=(2, 2), bias=False)\n",
       "        (bn2): BatchNorm2d(256, eps=1e-05, momentum=0.1, affine=True, track_running_stats=True)\n",
       "        (conv3): Conv2d(256, 1024, kernel_size=(1, 1), stride=(1, 1), bias=False)\n",
       "        (bn3): BatchNorm2d(1024, eps=1e-05, momentum=0.1, affine=True, track_running_stats=True)\n",
       "        (relu): ReLU(inplace=True)\n",
       "      )\n",
       "      (5): Bottleneck(\n",
       "        (conv1): Conv2d(1024, 256, kernel_size=(1, 1), stride=(1, 1), bias=False)\n",
       "        (bn1): BatchNorm2d(256, eps=1e-05, momentum=0.1, affine=True, track_running_stats=True)\n",
       "        (conv2): Conv2d(256, 256, kernel_size=(3, 3), stride=(1, 1), padding=(2, 2), dilation=(2, 2), bias=False)\n",
       "        (bn2): BatchNorm2d(256, eps=1e-05, momentum=0.1, affine=True, track_running_stats=True)\n",
       "        (conv3): Conv2d(256, 1024, kernel_size=(1, 1), stride=(1, 1), bias=False)\n",
       "        (bn3): BatchNorm2d(1024, eps=1e-05, momentum=0.1, affine=True, track_running_stats=True)\n",
       "        (relu): ReLU(inplace=True)\n",
       "      )\n",
       "      (6): Bottleneck(\n",
       "        (conv1): Conv2d(1024, 256, kernel_size=(1, 1), stride=(1, 1), bias=False)\n",
       "        (bn1): BatchNorm2d(256, eps=1e-05, momentum=0.1, affine=True, track_running_stats=True)\n",
       "        (conv2): Conv2d(256, 256, kernel_size=(3, 3), stride=(1, 1), padding=(2, 2), dilation=(2, 2), bias=False)\n",
       "        (bn2): BatchNorm2d(256, eps=1e-05, momentum=0.1, affine=True, track_running_stats=True)\n",
       "        (conv3): Conv2d(256, 1024, kernel_size=(1, 1), stride=(1, 1), bias=False)\n",
       "        (bn3): BatchNorm2d(1024, eps=1e-05, momentum=0.1, affine=True, track_running_stats=True)\n",
       "        (relu): ReLU(inplace=True)\n",
       "      )\n",
       "      (7): Bottleneck(\n",
       "        (conv1): Conv2d(1024, 256, kernel_size=(1, 1), stride=(1, 1), bias=False)\n",
       "        (bn1): BatchNorm2d(256, eps=1e-05, momentum=0.1, affine=True, track_running_stats=True)\n",
       "        (conv2): Conv2d(256, 256, kernel_size=(3, 3), stride=(1, 1), padding=(2, 2), dilation=(2, 2), bias=False)\n",
       "        (bn2): BatchNorm2d(256, eps=1e-05, momentum=0.1, affine=True, track_running_stats=True)\n",
       "        (conv3): Conv2d(256, 1024, kernel_size=(1, 1), stride=(1, 1), bias=False)\n",
       "        (bn3): BatchNorm2d(1024, eps=1e-05, momentum=0.1, affine=True, track_running_stats=True)\n",
       "        (relu): ReLU(inplace=True)\n",
       "      )\n",
       "      (8): Bottleneck(\n",
       "        (conv1): Conv2d(1024, 256, kernel_size=(1, 1), stride=(1, 1), bias=False)\n",
       "        (bn1): BatchNorm2d(256, eps=1e-05, momentum=0.1, affine=True, track_running_stats=True)\n",
       "        (conv2): Conv2d(256, 256, kernel_size=(3, 3), stride=(1, 1), padding=(2, 2), dilation=(2, 2), bias=False)\n",
       "        (bn2): BatchNorm2d(256, eps=1e-05, momentum=0.1, affine=True, track_running_stats=True)\n",
       "        (conv3): Conv2d(256, 1024, kernel_size=(1, 1), stride=(1, 1), bias=False)\n",
       "        (bn3): BatchNorm2d(1024, eps=1e-05, momentum=0.1, affine=True, track_running_stats=True)\n",
       "        (relu): ReLU(inplace=True)\n",
       "      )\n",
       "      (9): Bottleneck(\n",
       "        (conv1): Conv2d(1024, 256, kernel_size=(1, 1), stride=(1, 1), bias=False)\n",
       "        (bn1): BatchNorm2d(256, eps=1e-05, momentum=0.1, affine=True, track_running_stats=True)\n",
       "        (conv2): Conv2d(256, 256, kernel_size=(3, 3), stride=(1, 1), padding=(2, 2), dilation=(2, 2), bias=False)\n",
       "        (bn2): BatchNorm2d(256, eps=1e-05, momentum=0.1, affine=True, track_running_stats=True)\n",
       "        (conv3): Conv2d(256, 1024, kernel_size=(1, 1), stride=(1, 1), bias=False)\n",
       "        (bn3): BatchNorm2d(1024, eps=1e-05, momentum=0.1, affine=True, track_running_stats=True)\n",
       "        (relu): ReLU(inplace=True)\n",
       "      )\n",
       "      (10): Bottleneck(\n",
       "        (conv1): Conv2d(1024, 256, kernel_size=(1, 1), stride=(1, 1), bias=False)\n",
       "        (bn1): BatchNorm2d(256, eps=1e-05, momentum=0.1, affine=True, track_running_stats=True)\n",
       "        (conv2): Conv2d(256, 256, kernel_size=(3, 3), stride=(1, 1), padding=(2, 2), dilation=(2, 2), bias=False)\n",
       "        (bn2): BatchNorm2d(256, eps=1e-05, momentum=0.1, affine=True, track_running_stats=True)\n",
       "        (conv3): Conv2d(256, 1024, kernel_size=(1, 1), stride=(1, 1), bias=False)\n",
       "        (bn3): BatchNorm2d(1024, eps=1e-05, momentum=0.1, affine=True, track_running_stats=True)\n",
       "        (relu): ReLU(inplace=True)\n",
       "      )\n",
       "      (11): Bottleneck(\n",
       "        (conv1): Conv2d(1024, 256, kernel_size=(1, 1), stride=(1, 1), bias=False)\n",
       "        (bn1): BatchNorm2d(256, eps=1e-05, momentum=0.1, affine=True, track_running_stats=True)\n",
       "        (conv2): Conv2d(256, 256, kernel_size=(3, 3), stride=(1, 1), padding=(2, 2), dilation=(2, 2), bias=False)\n",
       "        (bn2): BatchNorm2d(256, eps=1e-05, momentum=0.1, affine=True, track_running_stats=True)\n",
       "        (conv3): Conv2d(256, 1024, kernel_size=(1, 1), stride=(1, 1), bias=False)\n",
       "        (bn3): BatchNorm2d(1024, eps=1e-05, momentum=0.1, affine=True, track_running_stats=True)\n",
       "        (relu): ReLU(inplace=True)\n",
       "      )\n",
       "      (12): Bottleneck(\n",
       "        (conv1): Conv2d(1024, 256, kernel_size=(1, 1), stride=(1, 1), bias=False)\n",
       "        (bn1): BatchNorm2d(256, eps=1e-05, momentum=0.1, affine=True, track_running_stats=True)\n",
       "        (conv2): Conv2d(256, 256, kernel_size=(3, 3), stride=(1, 1), padding=(2, 2), dilation=(2, 2), bias=False)\n",
       "        (bn2): BatchNorm2d(256, eps=1e-05, momentum=0.1, affine=True, track_running_stats=True)\n",
       "        (conv3): Conv2d(256, 1024, kernel_size=(1, 1), stride=(1, 1), bias=False)\n",
       "        (bn3): BatchNorm2d(1024, eps=1e-05, momentum=0.1, affine=True, track_running_stats=True)\n",
       "        (relu): ReLU(inplace=True)\n",
       "      )\n",
       "      (13): Bottleneck(\n",
       "        (conv1): Conv2d(1024, 256, kernel_size=(1, 1), stride=(1, 1), bias=False)\n",
       "        (bn1): BatchNorm2d(256, eps=1e-05, momentum=0.1, affine=True, track_running_stats=True)\n",
       "        (conv2): Conv2d(256, 256, kernel_size=(3, 3), stride=(1, 1), padding=(2, 2), dilation=(2, 2), bias=False)\n",
       "        (bn2): BatchNorm2d(256, eps=1e-05, momentum=0.1, affine=True, track_running_stats=True)\n",
       "        (conv3): Conv2d(256, 1024, kernel_size=(1, 1), stride=(1, 1), bias=False)\n",
       "        (bn3): BatchNorm2d(1024, eps=1e-05, momentum=0.1, affine=True, track_running_stats=True)\n",
       "        (relu): ReLU(inplace=True)\n",
       "      )\n",
       "      (14): Bottleneck(\n",
       "        (conv1): Conv2d(1024, 256, kernel_size=(1, 1), stride=(1, 1), bias=False)\n",
       "        (bn1): BatchNorm2d(256, eps=1e-05, momentum=0.1, affine=True, track_running_stats=True)\n",
       "        (conv2): Conv2d(256, 256, kernel_size=(3, 3), stride=(1, 1), padding=(2, 2), dilation=(2, 2), bias=False)\n",
       "        (bn2): BatchNorm2d(256, eps=1e-05, momentum=0.1, affine=True, track_running_stats=True)\n",
       "        (conv3): Conv2d(256, 1024, kernel_size=(1, 1), stride=(1, 1), bias=False)\n",
       "        (bn3): BatchNorm2d(1024, eps=1e-05, momentum=0.1, affine=True, track_running_stats=True)\n",
       "        (relu): ReLU(inplace=True)\n",
       "      )\n",
       "      (15): Bottleneck(\n",
       "        (conv1): Conv2d(1024, 256, kernel_size=(1, 1), stride=(1, 1), bias=False)\n",
       "        (bn1): BatchNorm2d(256, eps=1e-05, momentum=0.1, affine=True, track_running_stats=True)\n",
       "        (conv2): Conv2d(256, 256, kernel_size=(3, 3), stride=(1, 1), padding=(2, 2), dilation=(2, 2), bias=False)\n",
       "        (bn2): BatchNorm2d(256, eps=1e-05, momentum=0.1, affine=True, track_running_stats=True)\n",
       "        (conv3): Conv2d(256, 1024, kernel_size=(1, 1), stride=(1, 1), bias=False)\n",
       "        (bn3): BatchNorm2d(1024, eps=1e-05, momentum=0.1, affine=True, track_running_stats=True)\n",
       "        (relu): ReLU(inplace=True)\n",
       "      )\n",
       "      (16): Bottleneck(\n",
       "        (conv1): Conv2d(1024, 256, kernel_size=(1, 1), stride=(1, 1), bias=False)\n",
       "        (bn1): BatchNorm2d(256, eps=1e-05, momentum=0.1, affine=True, track_running_stats=True)\n",
       "        (conv2): Conv2d(256, 256, kernel_size=(3, 3), stride=(1, 1), padding=(2, 2), dilation=(2, 2), bias=False)\n",
       "        (bn2): BatchNorm2d(256, eps=1e-05, momentum=0.1, affine=True, track_running_stats=True)\n",
       "        (conv3): Conv2d(256, 1024, kernel_size=(1, 1), stride=(1, 1), bias=False)\n",
       "        (bn3): BatchNorm2d(1024, eps=1e-05, momentum=0.1, affine=True, track_running_stats=True)\n",
       "        (relu): ReLU(inplace=True)\n",
       "      )\n",
       "      (17): Bottleneck(\n",
       "        (conv1): Conv2d(1024, 256, kernel_size=(1, 1), stride=(1, 1), bias=False)\n",
       "        (bn1): BatchNorm2d(256, eps=1e-05, momentum=0.1, affine=True, track_running_stats=True)\n",
       "        (conv2): Conv2d(256, 256, kernel_size=(3, 3), stride=(1, 1), padding=(2, 2), dilation=(2, 2), bias=False)\n",
       "        (bn2): BatchNorm2d(256, eps=1e-05, momentum=0.1, affine=True, track_running_stats=True)\n",
       "        (conv3): Conv2d(256, 1024, kernel_size=(1, 1), stride=(1, 1), bias=False)\n",
       "        (bn3): BatchNorm2d(1024, eps=1e-05, momentum=0.1, affine=True, track_running_stats=True)\n",
       "        (relu): ReLU(inplace=True)\n",
       "      )\n",
       "      (18): Bottleneck(\n",
       "        (conv1): Conv2d(1024, 256, kernel_size=(1, 1), stride=(1, 1), bias=False)\n",
       "        (bn1): BatchNorm2d(256, eps=1e-05, momentum=0.1, affine=True, track_running_stats=True)\n",
       "        (conv2): Conv2d(256, 256, kernel_size=(3, 3), stride=(1, 1), padding=(2, 2), dilation=(2, 2), bias=False)\n",
       "        (bn2): BatchNorm2d(256, eps=1e-05, momentum=0.1, affine=True, track_running_stats=True)\n",
       "        (conv3): Conv2d(256, 1024, kernel_size=(1, 1), stride=(1, 1), bias=False)\n",
       "        (bn3): BatchNorm2d(1024, eps=1e-05, momentum=0.1, affine=True, track_running_stats=True)\n",
       "        (relu): ReLU(inplace=True)\n",
       "      )\n",
       "      (19): Bottleneck(\n",
       "        (conv1): Conv2d(1024, 256, kernel_size=(1, 1), stride=(1, 1), bias=False)\n",
       "        (bn1): BatchNorm2d(256, eps=1e-05, momentum=0.1, affine=True, track_running_stats=True)\n",
       "        (conv2): Conv2d(256, 256, kernel_size=(3, 3), stride=(1, 1), padding=(2, 2), dilation=(2, 2), bias=False)\n",
       "        (bn2): BatchNorm2d(256, eps=1e-05, momentum=0.1, affine=True, track_running_stats=True)\n",
       "        (conv3): Conv2d(256, 1024, kernel_size=(1, 1), stride=(1, 1), bias=False)\n",
       "        (bn3): BatchNorm2d(1024, eps=1e-05, momentum=0.1, affine=True, track_running_stats=True)\n",
       "        (relu): ReLU(inplace=True)\n",
       "      )\n",
       "      (20): Bottleneck(\n",
       "        (conv1): Conv2d(1024, 256, kernel_size=(1, 1), stride=(1, 1), bias=False)\n",
       "        (bn1): BatchNorm2d(256, eps=1e-05, momentum=0.1, affine=True, track_running_stats=True)\n",
       "        (conv2): Conv2d(256, 256, kernel_size=(3, 3), stride=(1, 1), padding=(2, 2), dilation=(2, 2), bias=False)\n",
       "        (bn2): BatchNorm2d(256, eps=1e-05, momentum=0.1, affine=True, track_running_stats=True)\n",
       "        (conv3): Conv2d(256, 1024, kernel_size=(1, 1), stride=(1, 1), bias=False)\n",
       "        (bn3): BatchNorm2d(1024, eps=1e-05, momentum=0.1, affine=True, track_running_stats=True)\n",
       "        (relu): ReLU(inplace=True)\n",
       "      )\n",
       "      (21): Bottleneck(\n",
       "        (conv1): Conv2d(1024, 256, kernel_size=(1, 1), stride=(1, 1), bias=False)\n",
       "        (bn1): BatchNorm2d(256, eps=1e-05, momentum=0.1, affine=True, track_running_stats=True)\n",
       "        (conv2): Conv2d(256, 256, kernel_size=(3, 3), stride=(1, 1), padding=(2, 2), dilation=(2, 2), bias=False)\n",
       "        (bn2): BatchNorm2d(256, eps=1e-05, momentum=0.1, affine=True, track_running_stats=True)\n",
       "        (conv3): Conv2d(256, 1024, kernel_size=(1, 1), stride=(1, 1), bias=False)\n",
       "        (bn3): BatchNorm2d(1024, eps=1e-05, momentum=0.1, affine=True, track_running_stats=True)\n",
       "        (relu): ReLU(inplace=True)\n",
       "      )\n",
       "      (22): Bottleneck(\n",
       "        (conv1): Conv2d(1024, 256, kernel_size=(1, 1), stride=(1, 1), bias=False)\n",
       "        (bn1): BatchNorm2d(256, eps=1e-05, momentum=0.1, affine=True, track_running_stats=True)\n",
       "        (conv2): Conv2d(256, 256, kernel_size=(3, 3), stride=(1, 1), padding=(2, 2), dilation=(2, 2), bias=False)\n",
       "        (bn2): BatchNorm2d(256, eps=1e-05, momentum=0.1, affine=True, track_running_stats=True)\n",
       "        (conv3): Conv2d(256, 1024, kernel_size=(1, 1), stride=(1, 1), bias=False)\n",
       "        (bn3): BatchNorm2d(1024, eps=1e-05, momentum=0.1, affine=True, track_running_stats=True)\n",
       "        (relu): ReLU(inplace=True)\n",
       "      )\n",
       "    )\n",
       "    (layer4): Sequential(\n",
       "      (0): Bottleneck(\n",
       "        (conv1): Conv2d(1024, 512, kernel_size=(1, 1), stride=(1, 1), bias=False)\n",
       "        (bn1): BatchNorm2d(512, eps=1e-05, momentum=0.1, affine=True, track_running_stats=True)\n",
       "        (conv2): Conv2d(512, 512, kernel_size=(3, 3), stride=(1, 1), padding=(2, 2), dilation=(2, 2), bias=False)\n",
       "        (bn2): BatchNorm2d(512, eps=1e-05, momentum=0.1, affine=True, track_running_stats=True)\n",
       "        (conv3): Conv2d(512, 2048, kernel_size=(1, 1), stride=(1, 1), bias=False)\n",
       "        (bn3): BatchNorm2d(2048, eps=1e-05, momentum=0.1, affine=True, track_running_stats=True)\n",
       "        (relu): ReLU(inplace=True)\n",
       "        (downsample): Sequential(\n",
       "          (0): Conv2d(1024, 2048, kernel_size=(1, 1), stride=(1, 1), bias=False)\n",
       "          (1): BatchNorm2d(2048, eps=1e-05, momentum=0.1, affine=True, track_running_stats=True)\n",
       "        )\n",
       "      )\n",
       "      (1): Bottleneck(\n",
       "        (conv1): Conv2d(2048, 512, kernel_size=(1, 1), stride=(1, 1), bias=False)\n",
       "        (bn1): BatchNorm2d(512, eps=1e-05, momentum=0.1, affine=True, track_running_stats=True)\n",
       "        (conv2): Conv2d(512, 512, kernel_size=(3, 3), stride=(1, 1), padding=(4, 4), dilation=(4, 4), bias=False)\n",
       "        (bn2): BatchNorm2d(512, eps=1e-05, momentum=0.1, affine=True, track_running_stats=True)\n",
       "        (conv3): Conv2d(512, 2048, kernel_size=(1, 1), stride=(1, 1), bias=False)\n",
       "        (bn3): BatchNorm2d(2048, eps=1e-05, momentum=0.1, affine=True, track_running_stats=True)\n",
       "        (relu): ReLU(inplace=True)\n",
       "      )\n",
       "      (2): Bottleneck(\n",
       "        (conv1): Conv2d(2048, 512, kernel_size=(1, 1), stride=(1, 1), bias=False)\n",
       "        (bn1): BatchNorm2d(512, eps=1e-05, momentum=0.1, affine=True, track_running_stats=True)\n",
       "        (conv2): Conv2d(512, 512, kernel_size=(3, 3), stride=(1, 1), padding=(4, 4), dilation=(4, 4), bias=False)\n",
       "        (bn2): BatchNorm2d(512, eps=1e-05, momentum=0.1, affine=True, track_running_stats=True)\n",
       "        (conv3): Conv2d(512, 2048, kernel_size=(1, 1), stride=(1, 1), bias=False)\n",
       "        (bn3): BatchNorm2d(2048, eps=1e-05, momentum=0.1, affine=True, track_running_stats=True)\n",
       "        (relu): ReLU(inplace=True)\n",
       "      )\n",
       "    )\n",
       "  )\n",
       "  (classifier): DeepLabHead(\n",
       "    (0): ASPP(\n",
       "      (convs): ModuleList(\n",
       "        (0): Sequential(\n",
       "          (0): Conv2d(2048, 256, kernel_size=(1, 1), stride=(1, 1), bias=False)\n",
       "          (1): BatchNorm2d(256, eps=1e-05, momentum=0.1, affine=True, track_running_stats=True)\n",
       "          (2): ReLU()\n",
       "        )\n",
       "        (1): ASPPConv(\n",
       "          (0): Conv2d(2048, 256, kernel_size=(3, 3), stride=(1, 1), padding=(12, 12), dilation=(12, 12), bias=False)\n",
       "          (1): BatchNorm2d(256, eps=1e-05, momentum=0.1, affine=True, track_running_stats=True)\n",
       "          (2): ReLU()\n",
       "        )\n",
       "        (2): ASPPConv(\n",
       "          (0): Conv2d(2048, 256, kernel_size=(3, 3), stride=(1, 1), padding=(24, 24), dilation=(24, 24), bias=False)\n",
       "          (1): BatchNorm2d(256, eps=1e-05, momentum=0.1, affine=True, track_running_stats=True)\n",
       "          (2): ReLU()\n",
       "        )\n",
       "        (3): ASPPConv(\n",
       "          (0): Conv2d(2048, 256, kernel_size=(3, 3), stride=(1, 1), padding=(36, 36), dilation=(36, 36), bias=False)\n",
       "          (1): BatchNorm2d(256, eps=1e-05, momentum=0.1, affine=True, track_running_stats=True)\n",
       "          (2): ReLU()\n",
       "        )\n",
       "        (4): ASPPPooling(\n",
       "          (0): AdaptiveAvgPool2d(output_size=1)\n",
       "          (1): Conv2d(2048, 256, kernel_size=(1, 1), stride=(1, 1), bias=False)\n",
       "          (2): BatchNorm2d(256, eps=1e-05, momentum=0.1, affine=True, track_running_stats=True)\n",
       "          (3): ReLU()\n",
       "        )\n",
       "      )\n",
       "      (project): Sequential(\n",
       "        (0): Conv2d(1280, 256, kernel_size=(1, 1), stride=(1, 1), bias=False)\n",
       "        (1): BatchNorm2d(256, eps=1e-05, momentum=0.1, affine=True, track_running_stats=True)\n",
       "        (2): ReLU()\n",
       "        (3): Dropout(p=0.5, inplace=False)\n",
       "      )\n",
       "    )\n",
       "    (1): Conv2d(256, 256, kernel_size=(3, 3), stride=(1, 1), padding=(1, 1), bias=False)\n",
       "    (2): BatchNorm2d(256, eps=1e-05, momentum=0.1, affine=True, track_running_stats=True)\n",
       "    (3): ReLU()\n",
       "    (4): Conv2d(256, 1, kernel_size=(1, 1), stride=(1, 1))\n",
       "  )\n",
       "  (aux_classifier): FCNHead(\n",
       "    (0): Conv2d(1024, 256, kernel_size=(3, 3), stride=(1, 1), padding=(1, 1), bias=False)\n",
       "    (1): BatchNorm2d(256, eps=1e-05, momentum=0.1, affine=True, track_running_stats=True)\n",
       "    (2): ReLU()\n",
       "    (3): Dropout(p=0.1, inplace=False)\n",
       "    (4): Conv2d(256, 21, kernel_size=(1, 1), stride=(1, 1))\n",
       "  )\n",
       ")"
      ]
     },
     "metadata": {},
     "execution_count": 1
    }
   ],
   "source": [
    "import torch\n",
    "dev = torch.device(\"cpu\") #if torch.cuda.is_available() else torch.device(\"cpu\")\n",
    "tmodel=torch.load('FloorExp\\weights.pt')\n",
    "\n",
    "tmodel.eval()\n",
    "tmodel.to(dev)"
   ]
  },
  {
   "cell_type": "code",
   "execution_count": 24,
   "metadata": {},
   "outputs": [
    {
     "output_type": "stream",
     "name": "stdout",
     "text": [
      "0.3 image processed\n"
     ]
    }
   ],
   "source": [
    "import time\n",
    "base=time.time()\n",
    "from PIL import Image\n",
    "from torchvision import transforms\n",
    "\n",
    "input_image = Image.open('a.jpg')\n",
    "#input_image = Image.open(r'.\\CrackForest\\Images\\001.jpg')\n",
    "input_image=input_image.resize((320,240))\n",
    "\n",
    "preprocess = transforms.Compose([\n",
    "    transforms.ToTensor(),\n",
    "    transforms.Normalize(mean=[0.485, 0.456, 0.406], std=[0.229, 0.224, 0.225]),\n",
    "])\n",
    "\n",
    "input_tensor = preprocess(input_image)\n",
    "input_batch = input_tensor.unsqueeze(0) # create a mini-batch as expected by the model\n",
    "input_batch.to(dev)\n",
    "print('{:.1f} image processed'.format(time.time()-base))"
   ]
  },
  {
   "cell_type": "code",
   "execution_count": 25,
   "metadata": {},
   "outputs": [
    {
     "output_type": "execute_result",
     "data": {
      "text/plain": [
       "128, eps=1e-05, momentum=0.1, affine=True, track_running_stats=True)\n",
       "        (conv2): Conv2d(128, 128, kernel_size=(3, 3), stride=(1, 1), padding=(1, 1), bias=False)\n",
       "        (bn2): BatchNorm2d(128, eps=1e-05, momentum=0.1, affine=True, track_running_stats=True)\n",
       "        (conv3): Conv2d(128, 512, kernel_size=(1, 1), stride=(1, 1), bias=False)\n",
       "        (bn3): BatchNorm2d(512, eps=1e-05, momentum=0.1, affine=True, track_running_stats=True)\n",
       "        (relu): ReLU(inplace=True)\n",
       "      )\n",
       "      (3): Bottleneck(\n",
       "        (conv1): Conv2d(512, 128, kernel_size=(1, 1), stride=(1, 1), bias=False)\n",
       "        (bn1): BatchNorm2d(128, eps=1e-05, momentum=0.1, affine=True, track_running_stats=True)\n",
       "        (conv2): Conv2d(128, 128, kernel_size=(3, 3), stride=(1, 1), padding=(1, 1), bias=False)\n",
       "        (bn2): BatchNorm2d(128, eps=1e-05, momentum=0.1, affine=True, track_running_stats=True)\n",
       "        (conv3): Conv2d(128, 512, kernel_size=(1, 1), stride=(1, 1), bias=False)\n",
       "        (bn3): BatchNorm2d(512, eps=1e-05, momentum=0.1, affine=True, track_running_stats=True)\n",
       "        (relu): ReLU(inplace=True)\n",
       "      )\n",
       "    )\n",
       "    (layer3): Sequential(\n",
       "      (0): Bottleneck(\n",
       "        (conv1): Conv2d(512, 256, kernel_size=(1, 1), stride=(1, 1), bias=False)\n",
       "        (bn1): BatchNorm2d(256, eps=1e-05, momentum=0.1, affine=True, track_running_stats=True)\n",
       "        (conv2): Conv2d(256, 256, kernel_size=(3, 3), stride=(1, 1), padding=(1, 1), bias=False)\n",
       "        (bn2): BatchNorm2d(256, eps=1e-05, momentum=0.1, affine=True, track_running_stats=True)\n",
       "        (conv3): Conv2d(256, 1024, kernel_size=(1, 1), stride=(1, 1), bias=False)\n",
       "        (bn3): BatchNorm2d(1024, eps=1e-05, momentum=0.1, affine=True, track_running_stats=True)\n",
       "        (relu): ReLU(inplace=True)\n",
       "        (downsample): Sequential(\n",
       "          (0): Conv2d(512, 1024, kernel_size=(1, 1), stride=(1, 1), bias=False)\n",
       "          (1): BatchNorm2d(1024, eps=1e-05, momentum=0.1, affine=True, track_running_stats=True)\n",
       "        )\n",
       "      )\n",
       "      (1): Bottleneck(\n",
       "        (conv1): Conv2d(1024, 256, kernel_size=(1, 1), stride=(1, 1), bias=False)\n",
       "        (bn1): BatchNorm2d(256, eps=1e-05, momentum=0.1, affine=True, track_running_stats=True)\n",
       "        (conv2): Conv2d(256, 256, kernel_size=(3, 3), stride=(1, 1), padding=(2, 2), dilation=(2, 2), bias=False)\n",
       "        (bn2): BatchNorm2d(256, eps=1e-05, momentum=0.1, affine=True, track_running_stats=True)\n",
       "        (conv3): Conv2d(256, 1024, kernel_size=(1, 1), stride=(1, 1), bias=False)\n",
       "        (bn3): BatchNorm2d(1024, eps=1e-05, momentum=0.1, affine=True, track_running_stats=True)\n",
       "        (relu): ReLU(inplace=True)\n",
       "      )\n",
       "      (2): Bottleneck(\n",
       "        (conv1): Conv2d(1024, 256, kernel_size=(1, 1), stride=(1, 1), bias=False)\n",
       "        (bn1): BatchNorm2d(256, eps=1e-05, momentum=0.1, affine=True, track_running_stats=True)\n",
       "        (conv2): Conv2d(256, 256, kernel_size=(3, 3), stride=(1, 1), padding=(2, 2), dilation=(2, 2), bias=False)\n",
       "        (bn2): BatchNorm2d(256, eps=1e-05, momentum=0.1, affine=True, track_running_stats=True)\n",
       "        (conv3): Conv2d(256, 1024, kernel_size=(1, 1), stride=(1, 1), bias=False)\n",
       "        (bn3): BatchNorm2d(1024, eps=1e-05, momentum=0.1, affine=True, track_running_stats=True)\n",
       "        (relu): ReLU(inplace=True)\n",
       "      )\n",
       "      (3): Bottleneck(\n",
       "        (conv1): Conv2d(1024, 256, kernel_size=(1, 1), stride=(1, 1), bias=False)\n",
       "        (bn1): BatchNorm2d(256, eps=1e-05, momentum=0.1, affine=True, track_running_stats=True)\n",
       "        (conv2): Conv2d(256, 256, kernel_size=(3, 3), stride=(1, 1), padding=(2, 2), dilation=(2, 2), bias=False)\n",
       "        (bn2): BatchNorm2d(256, eps=1e-05, momentum=0.1, affine=True, track_running_stats=True)\n",
       "        (conv3): Conv2d(256, 1024, kernel_size=(1, 1), stride=(1, 1), bias=False)\n",
       "        (bn3): BatchNorm2d(1024, eps=1e-05, momentum=0.1, affine=True, track_running_stats=True)\n",
       "        (relu): ReLU(inplace=True)\n",
       "      )\n",
       "      (4): Bottleneck(\n",
       "        (conv1): Conv2d(1024, 256, kernel_size=(1, 1), stride=(1, 1), bias=False)\n",
       "        (bn1): BatchNorm2d(256, eps=1e-05, momentum=0.1, affine=True, track_running_stats=True)\n",
       "        (conv2): Conv2d(256, 256, kernel_size=(3, 3), stride=(1, 1), padding=(2, 2), dilation=(2, 2), bias=False)\n",
       "        (bn2): BatchNorm2d(256, eps=1e-05, momentum=0.1, affine=True, track_running_stats=True)\n",
       "        (conv3): Conv2d(256, 1024, kernel_size=(1, 1), stride=(1, 1), bias=False)\n",
       "        (bn3): BatchNorm2d(1024, eps=1e-05, momentum=0.1, affine=True, track_running_stats=True)\n",
       "        (relu): ReLU(inplace=True)\n",
       "      )\n",
       "      (5): Bottleneck(\n",
       "        (conv1): Conv2d(1024, 256, kernel_size=(1, 1), stride=(1, 1), bias=False)\n",
       "        (bn1): BatchNorm2d(256, eps=1e-05, momentum=0.1, affine=True, track_running_stats=True)\n",
       "        (conv2): Conv2d(256, 256, kernel_size=(3, 3), stride=(1, 1), padding=(2, 2), dilation=(2, 2), bias=False)\n",
       "        (bn2): BatchNorm2d(256, eps=1e-05, momentum=0.1, affine=True, track_running_stats=True)\n",
       "        (conv3): Conv2d(256, 1024, kernel_size=(1, 1), stride=(1, 1), bias=False)\n",
       "        (bn3): BatchNorm2d(1024, eps=1e-05, momentum=0.1, affine=True, track_running_stats=True)\n",
       "        (relu): ReLU(inplace=True)\n",
       "      )\n",
       "      (6): Bottleneck(\n",
       "        (conv1): Conv2d(1024, 256, kernel_size=(1, 1), stride=(1, 1), bias=False)\n",
       "        (bn1): BatchNorm2d(256, eps=1e-05, momentum=0.1, affine=True, track_running_stats=True)\n",
       "        (conv2): Conv2d(256, 256, kernel_size=(3, 3), stride=(1, 1), padding=(2, 2), dilation=(2, 2), bias=False)\n",
       "        (bn2): BatchNorm2d(256, eps=1e-05, momentum=0.1, affine=True, track_running_stats=True)\n",
       "        (conv3): Conv2d(256, 1024, kernel_size=(1, 1), stride=(1, 1), bias=False)\n",
       "        (bn3): BatchNorm2d(1024, eps=1e-05, momentum=0.1, affine=True, track_running_stats=True)\n",
       "        (relu): ReLU(inplace=True)\n",
       "      )\n",
       "      (7): Bottleneck(\n",
       "        (conv1): Conv2d(1024, 256, kernel_size=(1, 1), stride=(1, 1), bias=False)\n",
       "        (bn1): BatchNorm2d(256, eps=1e-05, momentum=0.1, affine=True, track_running_stats=True)\n",
       "        (conv2): Conv2d(256, 256, kernel_size=(3, 3), stride=(1, 1), padding=(2, 2), dilation=(2, 2), bias=False)\n",
       "        (bn2): BatchNorm2d(256, eps=1e-05, momentum=0.1, affine=True, track_running_stats=True)\n",
       "        (conv3): Conv2d(256, 1024, kernel_size=(1, 1), stride=(1, 1), bias=False)\n",
       "        (bn3): BatchNorm2d(1024, eps=1e-05, momentum=0.1, affine=True, track_running_stats=True)\n",
       "        (relu): ReLU(inplace=True)\n",
       "      )\n",
       "      (8): Bottleneck(\n",
       "        (conv1): Conv2d(1024, 256, kernel_size=(1, 1), stride=(1, 1), bias=False)\n",
       "        (bn1): BatchNorm2d(256, eps=1e-05, momentum=0.1, affine=True, track_running_stats=True)\n",
       "        (conv2): Conv2d(256, 256, kernel_size=(3, 3), stride=(1, 1), padding=(2, 2), dilation=(2, 2), bias=False)\n",
       "        (bn2): BatchNorm2d(256, eps=1e-05, momentum=0.1, affine=True, track_running_stats=True)\n",
       "        (conv3): Conv2d(256, 1024, kernel_size=(1, 1), stride=(1, 1), bias=False)\n",
       "        (bn3): BatchNorm2d(1024, eps=1e-05, momentum=0.1, affine=True, track_running_stats=True)\n",
       "        (relu): ReLU(inplace=True)\n",
       "      )\n",
       "      (9): Bottleneck(\n",
       "        (conv1): Conv2d(1024, 256, kernel_size=(1, 1), stride=(1, 1), bias=False)\n",
       "        (bn1): BatchNorm2d(256, eps=1e-05, momentum=0.1, affine=True, track_running_stats=True)\n",
       "        (conv2): Conv2d(256, 256, kernel_size=(3, 3), stride=(1, 1), padding=(2, 2), dilation=(2, 2), bias=False)\n",
       "        (bn2): BatchNorm2d(256, eps=1e-05, momentum=0.1, affine=True, track_running_stats=True)\n",
       "        (conv3): Conv2d(256, 1024, kernel_size=(1, 1), stride=(1, 1), bias=False)\n",
       "        (bn3): BatchNorm2d(1024, eps=1e-05, momentum=0.1, affine=True, track_running_stats=True)\n",
       "        (relu): ReLU(inplace=True)\n",
       "      )\n",
       "      (10): Bottleneck(\n",
       "        (conv1): Conv2d(1024, 256, kernel_size=(1, 1), stride=(1, 1), bias=False)\n",
       "        (bn1): BatchNorm2d(256, eps=1e-05, momentum=0.1, affine=True, track_running_stats=True)\n",
       "        (conv2): Conv2d(256, 256, kernel_size=(3, 3), stride=(1, 1), padding=(2, 2), dilation=(2, 2), bias=False)\n",
       "        (bn2): BatchNorm2d(256, eps=1e-05, momentum=0.1, affine=True, track_running_stats=True)\n",
       "        (conv3): Conv2d(256, 1024, kernel_size=(1, 1), stride=(1, 1), bias=False)\n",
       "        (bn3): BatchNorm2d(1024, eps=1e-05, momentum=0.1, affine=True, track_running_stats=True)\n",
       "        (relu): ReLU(inplace=True)\n",
       "      )\n",
       "      (11): Bottleneck(\n",
       "        (conv1): Conv2d(1024, 256, kernel_size=(1, 1), stride=(1, 1), bias=False)\n",
       "        (bn1): BatchNorm2d(256, eps=1e-05, momentum=0.1, affine=True, track_running_stats=True)\n",
       "        (conv2): Conv2d(256, 256, kernel_size=(3, 3), stride=(1, 1), padding=(2, 2), dilation=(2, 2), bias=False)\n",
       "        (bn2): BatchNorm2d(256, eps=1e-05, momentum=0.1, affine=True, track_running_stats=True)\n",
       "        (conv3): Conv2d(256, 1024, kernel_size=(1, 1), stride=(1, 1), bias=False)\n",
       "        (bn3): BatchNorm2d(1024, eps=1e-05, momentum=0.1, affine=True, track_running_stats=True)\n",
       "        (relu): ReLU(inplace=True)\n",
       "      )\n",
       "      (12): Bottleneck(\n",
       "        (conv1): Conv2d(1024, 256, kernel_size=(1, 1), stride=(1, 1), bias=False)\n",
       "        (bn1): BatchNorm2d(256, eps=1e-05, momentum=0.1, affine=True, track_running_stats=True)\n",
       "        (conv2): Conv2d(256, 256, kernel_size=(3, 3), stride=(1, 1), padding=(2, 2), dilation=(2, 2), bias=False)\n",
       "        (bn2): BatchNorm2d(256, eps=1e-05, momentum=0.1, affine=True, track_running_stats=True)\n",
       "        (conv3): Conv2d(256, 1024, kernel_size=(1, 1), stride=(1, 1), bias=False)\n",
       "        (bn3): BatchNorm2d(1024, eps=1e-05, momentum=0.1, affine=True, track_running_stats=True)\n",
       "        (relu): ReLU(inplace=True)\n",
       "      )\n",
       "      (13): Bottleneck(\n",
       "        (conv1): Conv2d(1024, 256, kernel_size=(1, 1), stride=(1, 1), bias=False)\n",
       "        (bn1): BatchNorm2d(256, eps=1e-05, momentum=0.1, affine=True, track_running_stats=True)\n",
       "        (conv2): Conv2d(256, 256, kernel_size=(3, 3), stride=(1, 1), padding=(2, 2), dilation=(2, 2), bias=False)\n",
       "        (bn2): BatchNorm2d(256, eps=1e-05, momentum=0.1, affine=True, track_running_stats=True)\n",
       "        (conv3): Conv2d(256, 1024, kernel_size=(1, 1), stride=(1, 1), bias=False)\n",
       "        (bn3): BatchNorm2d(1024, eps=1e-05, momentum=0.1, affine=True, track_running_stats=True)\n",
       "        (relu): ReLU(inplace=True)\n",
       "      )\n",
       "      (14): Bottleneck(\n",
       "        (conv1): Conv2d(1024, 256, kernel_size=(1, 1), stride=(1, 1), bias=False)\n",
       "        (bn1): BatchNorm2d(256, eps=1e-05, momentum=0.1, affine=True, track_running_stats=True)\n",
       "        (conv2): Conv2d(256, 256, kernel_size=(3, 3), stride=(1, 1), padding=(2, 2), dilation=(2, 2), bias=False)\n",
       "        (bn2): BatchNorm2d(256, eps=1e-05, momentum=0.1, affine=True, track_running_stats=True)\n",
       "        (conv3): Conv2d(256, 1024, kernel_size=(1, 1), stride=(1, 1), bias=False)\n",
       "        (bn3): BatchNorm2d(1024, eps=1e-05, momentum=0.1, affine=True, track_running_stats=True)\n",
       "        (relu): ReLU(inplace=True)\n",
       "      )\n",
       "      (15): Bottleneck(\n",
       "        (conv1): Conv2d(1024, 256, kernel_size=(1, 1), stride=(1, 1), bias=False)\n",
       "        (bn1): BatchNorm2d(256, eps=1e-05, momentum=0.1, affine=True, track_running_stats=True)\n",
       "        (conv2): Conv2d(256, 256, kernel_size=(3, 3), stride=(1, 1), padding=(2, 2), dilation=(2, 2), bias=False)\n",
       "        (bn2): BatchNorm2d(256, eps=1e-05, momentum=0.1, affine=True, track_running_stats=True)\n",
       "        (conv3): Conv2d(256, 1024, kernel_size=(1, 1), stride=(1, 1), bias=False)\n",
       "        (bn3): BatchNorm2d(1024, eps=1e-05, momentum=0.1, affine=True, track_running_stats=True)\n",
       "        (relu): ReLU(inplace=True)\n",
       "      )\n",
       "      (16): Bottleneck(\n",
       "        (conv1): Conv2d(1024, 256, kernel_size=(1, 1), stride=(1, 1), bias=False)\n",
       "        (bn1): BatchNorm2d(256, eps=1e-05, momentum=0.1, affine=True, track_running_stats=True)\n",
       "        (conv2): Conv2d(256, 256, kernel_size=(3, 3), stride=(1, 1), padding=(2, 2), dilation=(2, 2), bias=False)\n",
       "        (bn2): BatchNorm2d(256, eps=1e-05, momentum=0.1, affine=True, track_running_stats=True)\n",
       "        (conv3): Conv2d(256, 1024, kernel_size=(1, 1), stride=(1, 1), bias=False)\n",
       "        (bn3): BatchNorm2d(1024, eps=1e-05, momentum=0.1, affine=True, track_running_stats=True)\n",
       "        (relu): ReLU(inplace=True)\n",
       "      )\n",
       "      (17): Bottleneck(\n",
       "        (conv1): Conv2d(1024, 256, kernel_size=(1, 1), stride=(1, 1), bias=False)\n",
       "        (bn1): BatchNorm2d(256, eps=1e-05, momentum=0.1, affine=True, track_running_stats=True)\n",
       "        (conv2): Conv2d(256, 256, kernel_size=(3, 3), stride=(1, 1), padding=(2, 2), dilation=(2, 2), bias=False)\n",
       "        (bn2): BatchNorm2d(256, eps=1e-05, momentum=0.1, affine=True, track_running_stats=True)\n",
       "        (conv3): Conv2d(256, 1024, kernel_size=(1, 1), stride=(1, 1), bias=False)\n",
       "        (bn3): BatchNorm2d(1024, eps=1e-05, momentum=0.1, affine=True, track_running_stats=True)\n",
       "        (relu): ReLU(inplace=True)\n",
       "      )\n",
       "      (18): Bottleneck(\n",
       "        (conv1): Conv2d(1024, 256, kernel_size=(1, 1), stride=(1, 1), bias=False)\n",
       "        (bn1): BatchNorm2d(256, eps=1e-05, momentum=0.1, affine=True, track_running_stats=True)\n",
       "        (conv2): Conv2d(256, 256, kernel_size=(3, 3), stride=(1, 1), padding=(2, 2), dilation=(2, 2), bias=False)\n",
       "        (bn2): BatchNorm2d(256, eps=1e-05, momentum=0.1, affine=True, track_running_stats=True)\n",
       "        (conv3): Conv2d(256, 1024, kernel_size=(1, 1), stride=(1, 1), bias=False)\n",
       "        (bn3): BatchNorm2d(1024, eps=1e-05, momentum=0.1, affine=True, track_running_stats=True)\n",
       "        (relu): ReLU(inplace=True)\n",
       "      )\n",
       "      (19): Bottleneck(\n",
       "        (conv1): Conv2d(1024, 256, kernel_size=(1, 1), stride=(1, 1), bias=False)\n",
       "        (bn1): BatchNorm2d(256, eps=1e-05, momentum=0.1, affine=True, track_running_stats=True)\n",
       "        (conv2): Conv2d(256, 256, kernel_size=(3, 3), stride=(1, 1), padding=(2, 2), dilation=(2, 2), bias=False)\n",
       "        (bn2): BatchNorm2d(256, eps=1e-05, momentum=0.1, affine=True, track_running_stats=True)\n",
       "        (conv3): Conv2d(256, 1024, kernel_size=(1, 1), stride=(1, 1), bias=False)\n",
       "        (bn3): BatchNorm2d(1024, eps=1e-05, momentum=0.1, affine=True, track_running_stats=True)\n",
       "        (relu): ReLU(inplace=True)\n",
       "      )\n",
       "      (20): Bottleneck(\n",
       "        (conv1): Conv2d(1024, 256, kernel_size=(1, 1), stride=(1, 1), bias=False)\n",
       "        (bn1): BatchNorm2d(256, eps=1e-05, momentum=0.1, affine=True, track_running_stats=True)\n",
       "        (conv2): Conv2d(256, 256, kernel_size=(3, 3), stride=(1, 1), padding=(2, 2), dilation=(2, 2), bias=False)\n",
       "        (bn2): BatchNorm2d(256, eps=1e-05, momentum=0.1, affine=True, track_running_stats=True)\n",
       "        (conv3): Conv2d(256, 1024, kernel_size=(1, 1), stride=(1, 1), bias=False)\n",
       "        (bn3): BatchNorm2d(1024, eps=1e-05, momentum=0.1, affine=True, track_running_stats=True)\n",
       "        (relu): ReLU(inplace=True)\n",
       "      )\n",
       "      (21): Bottleneck(\n",
       "        (conv1): Conv2d(1024, 256, kernel_size=(1, 1), stride=(1, 1), bias=False)\n",
       "        (bn1): BatchNorm2d(256, eps=1e-05, momentum=0.1, affine=True, track_running_stats=True)\n",
       "        (conv2): Conv2d(256, 256, kernel_size=(3, 3), stride=(1, 1), padding=(2, 2), dilation=(2, 2), bias=False)\n",
       "        (bn2): BatchNorm2d(256, eps=1e-05, momentum=0.1, affine=True, track_running_stats=True)\n",
       "        (conv3): Conv2d(256, 1024, kernel_size=(1, 1), stride=(1, 1), bias=False)\n",
       "        (bn3): BatchNorm2d(1024, eps=1e-05, momentum=0.1, affine=True, track_running_stats=True)\n",
       "        (relu): ReLU(inplace=True)\n",
       "      )\n",
       "      (22): Bottleneck(\n",
       "        (conv1): Conv2d(1024, 256, kernel_size=(1, 1), stride=(1, 1), bias=False)\n",
       "        (bn1): BatchNorm2d(256, eps=1e-05, momentum=0.1, affine=True, track_running_stats=True)\n",
       "        (conv2): Conv2d(256, 256, kernel_size=(3, 3), stride=(1, 1), padding=(2, 2), dilation=(2, 2), bias=False)\n",
       "        (bn2): BatchNorm2d(256, eps=1e-05, momentum=0.1, affine=True, track_running_stats=True)\n",
       "        (conv3): Conv2d(256, 1024, kernel_size=(1, 1), stride=(1, 1), bias=False)\n",
       "        (bn3): BatchNorm2d(1024, eps=1e-05, momentum=0.1, affine=True, track_running_stats=True)\n",
       "        (relu): ReLU(inplace=True)\n",
       "      )\n",
       "    )\n",
       "    (layer4): Sequential(\n",
       "      (0): Bottleneck(\n",
       "        (conv1): Conv2d(1024, 512, kernel_size=(1, 1), stride=(1, 1), bias=False)\n",
       "        (bn1): BatchNorm2d(512, eps=1e-05, momentum=0.1, affine=True, track_running_stats=True)\n",
       "        (conv2): Conv2d(512, 512, kernel_size=(3, 3), stride=(1, 1), padding=(2, 2), dilation=(2, 2), bias=False)\n",
       "        (bn2): BatchNorm2d(512, eps=1e-05, momentum=0.1, affine=True, track_running_stats=True)\n",
       "        (conv3): Conv2d(512, 2048, kernel_size=(1, 1), stride=(1, 1), bias=False)\n",
       "        (bn3): BatchNorm2d(2048, eps=1e-05, momentum=0.1, affine=True, track_running_stats=True)\n",
       "        (relu): ReLU(inplace=True)\n",
       "        (downsample): Sequential(\n",
       "          (0): Conv2d(1024, 2048, kernel_size=(1, 1), stride=(1, 1), bias=False)\n",
       "          (1): BatchNorm2d(2048, eps=1e-05, momentum=0.1, affine=True, track_running_stats=True)\n",
       "        )\n",
       "      )\n",
       "      (1): Bottleneck(\n",
       "        (conv1): Conv2d(2048, 512, kernel_size=(1, 1), stride=(1, 1), bias=False)\n",
       "        (bn1): BatchNorm2d(512, eps=1e-05, momentum=0.1, affine=True, track_running_stats=True)\n",
       "        (conv2): Conv2d(512, 512, kernel_size=(3, 3), stride=(1, 1), padding=(4, 4), dilation=(4, 4), bias=False)\n",
       "        (bn2): BatchNorm2d(512, eps=1e-05, momentum=0.1, affine=True, track_running_stats=True)\n",
       "        (conv3): Conv2d(512, 2048, kernel_size=(1, 1), stride=(1, 1), bias=False)\n",
       "        (bn3): BatchNorm2d(2048, eps=1e-05, momentum=0.1, affine=True, track_running_stats=True)\n",
       "        (relu): ReLU(inplace=True)\n",
       "      )\n",
       "      (2): Bottleneck(\n",
       "        (conv1): Conv2d(2048, 512, kernel_size=(1, 1), stride=(1, 1), bias=False)\n",
       "        (bn1): BatchNorm2d(512, eps=1e-05, momentum=0.1, affine=True, track_running_stats=True)\n",
       "        (conv2): Conv2d(512, 512, kernel_size=(3, 3), stride=(1, 1), padding=(4, 4), dilation=(4, 4), bias=False)\n",
       "        (bn2): BatchNorm2d(512, eps=1e-05, momentum=0.1, affine=True, track_running_stats=True)\n",
       "        (conv3): Conv2d(512, 2048, kernel_size=(1, 1), stride=(1, 1), bias=False)\n",
       "        (bn3): BatchNorm2d(2048, eps=1e-05, momentum=0.1, affine=True, track_running_stats=True)\n",
       "        (relu): ReLU(inplace=True)\n",
       "      )\n",
       "    )\n",
       "  )\n",
       "  (classifier): DeepLabHead(\n",
       "    (0): ASPP(\n",
       "      (convs): ModuleList(\n",
       "        (0): Sequential(\n",
       "          (0): Conv2d(2048, 256, kernel_size=(1, 1), stride=(1, 1), bias=False)\n",
       "          (1): BatchNorm2d(256, eps=1e-05, momentum=0.1, affine=True, track_running_stats=True)\n",
       "          (2): ReLU()\n",
       "        )\n",
       "        (1): ASPPConv(\n",
       "          (0): Conv2d(2048, 256, kernel_size=(3, 3), stride=(1, 1), padding=(12, 12), dilation=(12, 12), bias=False)\n",
       "          (1): BatchNorm2d(256, eps=1e-05, momentum=0.1, affine=True, track_running_stats=True)\n",
       "          (2): ReLU()\n",
       "        )\n",
       "        (2): ASPPConv(\n",
       "          (0): Conv2d(2048, 256, kernel_size=(3, 3), stride=(1, 1), padding=(24, 24), dilation=(24, 24), bias=False)\n",
       "          (1): BatchNorm2d(256, eps=1e-05, momentum=0.1, affine=True, track_running_stats=True)\n",
       "          (2): ReLU()\n",
       "        )\n",
       "        (3): ASPPConv(\n",
       "          (0): Conv2d(2048, 256, kernel_size=(3, 3), stride=(1, 1), padding=(36, 36), dilation=(36, 36), bias=False)\n",
       "          (1): BatchNorm2d(256, eps=1e-05, momentum=0.1, affine=True, track_running_stats=True)\n",
       "          (2): ReLU()\n",
       "        )\n",
       "        (4): ASPPPooling(\n",
       "          (0): AdaptiveAvgPool2d(output_size=1)\n",
       "          (1): Conv2d(2048, 256, kernel_size=(1, 1), stride=(1, 1), bias=False)\n",
       "          (2): BatchNorm2d(256, eps=1e-05, momentum=0.1, affine=True, track_running_stats=True)\n",
       "          (3): ReLU()\n",
       "        )\n",
       "      )\n",
       "      (project): Sequential(\n",
       "        (0): Conv2d(1280, 256, kernel_size=(1, 1), stride=(1, 1), bias=False)\n",
       "        (1): BatchNorm2d(256, eps=1e-05, momentum=0.1, affine=True, track_running_stats=True)\n",
       "        (2): ReLU()\n",
       "        (3): Dropout(p=0.5, inplace=False)\n",
       "      )\n",
       "    )\n",
       "    (1): Conv2d(256, 256, kernel_size=(3, 3), stride=(1, 1), padding=(1, 1), bias=False)\n",
       "    (2): BatchNorm2d(256, eps=1e-05, momentum=0.1, affine=True, track_running_stats=True)\n",
       "    (3): ReLU()\n",
       "    (4): Conv2d(256, 1, kernel_size=(1, 1), stride=(1, 1))\n",
       "  )\n",
       ")"
      ]
     },
     "metadata": {},
     "execution_count": 25
    }
   ],
   "source": [
    "tmodel.eval()"
   ]
  },
  {
   "cell_type": "code",
   "execution_count": 26,
   "metadata": {},
   "outputs": [
    {
     "output_type": "stream",
     "name": "stdout",
     "text": [
      "1.7 model predicted\n"
     ]
    }
   ],
   "source": [
    "import time\n",
    "base=time.time()\n",
    "with torch.no_grad():\n",
    "    output = tmodel(input_batch)['out'][0]\n",
    "\n",
    "\n",
    "print('{:.1f} model predicted'.format(time.time()-base))\n",
    "# create a color pallette, selecting a color for each class\n"
   ]
  },
  {
   "cell_type": "code",
   "execution_count": 27,
   "metadata": {},
   "outputs": [
    {
     "output_type": "execute_result",
     "data": {
      "text/plain": [
       "array([[[5.1050767e-05, 5.1050767e-05, 5.1050767e-05, ...,\n",
       "         5.8982452e-05, 5.8982452e-05, 5.8982452e-05],\n",
       "        [5.1050767e-05, 5.1050767e-05, 5.1050767e-05, ...,\n",
       "         5.8982452e-05, 5.8982452e-05, 5.8982452e-05],\n",
       "        [5.1050767e-05, 5.1050767e-05, 5.1050767e-05, ...,\n",
       "         5.8982452e-05, 5.8982452e-05, 5.8982452e-05],\n",
       "        ...,\n",
       "        [7.6585871e-01, 7.6585871e-01, 7.6585871e-01, ...,\n",
       "         6.7444992e-01, 6.7444992e-01, 6.7444992e-01],\n",
       "        [7.6585871e-01, 7.6585871e-01, 7.6585871e-01, ...,\n",
       "         6.7444992e-01, 6.7444992e-01, 6.7444992e-01],\n",
       "        [7.6585871e-01, 7.6585871e-01, 7.6585871e-01, ...,\n",
       "         6.7444992e-01, 6.7444992e-01, 6.7444992e-01]]], dtype=float32)"
      ]
     },
     "metadata": {},
     "execution_count": 27
    }
   ],
   "source": [
    "from torch import nn\n",
    "m=nn.Sigmoid()\n",
    "predicted=m(output)\n",
    "predicted=predicted.detach().cpu().numpy()\n",
    "predicted"
   ]
  },
  {
   "cell_type": "code",
   "execution_count": null,
   "metadata": {},
   "outputs": [],
   "source": []
  },
  {
   "cell_type": "code",
   "execution_count": 29,
   "metadata": {},
   "outputs": [
    {
     "output_type": "execute_result",
     "data": {
      "text/plain": [
       "<matplotlib.image.AxesImage at 0x2bf3d8c4d60>"
      ]
     },
     "metadata": {},
     "execution_count": 29
    },
    {
     "output_type": "display_data",
     "data": {
      "text/plain": "<Figure size 432x288 with 1 Axes>",
      "image/svg+xml": "<?xml version=\"1.0\" encoding=\"utf-8\" standalone=\"no\"?>\r\n<!DOCTYPE svg PUBLIC \"-//W3C//DTD SVG 1.1//EN\"\r\n  \"http://www.w3.org/Graphics/SVG/1.1/DTD/svg11.dtd\">\r\n<!-- Created with matplotlib (https://matplotlib.org/) -->\r\n<svg height=\"251.864344pt\" version=\"1.1\" viewBox=\"0 0 330.4075 251.864344\" width=\"330.4075pt\" xmlns=\"http://www.w3.org/2000/svg\" xmlns:xlink=\"http://www.w3.org/1999/xlink\">\r\n <metadata>\r\n  <rdf:RDF xmlns:cc=\"http://creativecommons.org/ns#\" xmlns:dc=\"http://purl.org/dc/elements/1.1/\" xmlns:rdf=\"http://www.w3.org/1999/02/22-rdf-syntax-ns#\">\r\n   <cc:Work>\r\n    <dc:type rdf:resource=\"http://purl.org/dc/dcmitype/StillImage\"/>\r\n    <dc:date>2021-01-25T09:46:36.514692</dc:date>\r\n    <dc:format>image/svg+xml</dc:format>\r\n    <dc:creator>\r\n     <cc:Agent>\r\n      <dc:title>Matplotlib v3.3.3, https://matplotlib.org/</dc:title>\r\n     </cc:Agent>\r\n    </dc:creator>\r\n   </cc:Work>\r\n  </rdf:RDF>\r\n </metadata>\r\n <defs>\r\n  <style type=\"text/css\">*{stroke-linecap:butt;stroke-linejoin:round;}</style>\r\n </defs>\r\n <g id=\"figure_1\">\r\n  <g id=\"patch_1\">\r\n   <path d=\"M 0 251.864344 \r\nL 330.4075 251.864344 \r\nL 330.4075 0 \r\nL 0 0 \r\nz\r\n\" style=\"fill:none;\"/>\r\n  </g>\r\n  <g id=\"axes_1\">\r\n   <g id=\"patch_2\">\r\n    <path d=\"M 33.2875 227.986219 \r\nL 323.2075 227.986219 \r\nL 323.2075 10.546219 \r\nL 33.2875 10.546219 \r\nz\r\n\" style=\"fill:#ffffff;\"/>\r\n   </g>\r\n   <g clip-path=\"url(#pb9fcf85266)\">\r\n    <image height=\"218\" id=\"image6800904c69\" transform=\"scale(1 -1)translate(0 -218)\" width=\"290\" x=\"33\" xlink:href=\"data:image/png;base64,\r\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\" y=\"-9.864344\"/>\r\n   </g>\r\n   <g id=\"matplotlib.axis_1\">\r\n    <g id=\"xtick_1\">\r\n     <g id=\"line2d_1\">\r\n      <defs>\r\n       <path d=\"M 0 0 \r\nL 0 3.5 \r\n\" id=\"m180c75043d\" style=\"stroke:#000000;stroke-width:0.8;\"/>\r\n      </defs>\r\n      <g>\r\n       <use style=\"stroke:#000000;stroke-width:0.8;\" x=\"33.7405\" xlink:href=\"#m180c75043d\" y=\"227.986219\"/>\r\n      </g>\r\n     </g>\r\n     <g id=\"text_1\">\r\n      <!-- 0 -->\r\n      <g transform=\"translate(30.55925 242.584656)scale(0.1 -0.1)\">\r\n       <defs>\r\n        <path d=\"M 31.78125 66.40625 \r\nQ 24.171875 66.40625 20.328125 58.90625 \r\nQ 16.5 51.421875 16.5 36.375 \r\nQ 16.5 21.390625 20.328125 13.890625 \r\nQ 24.171875 6.390625 31.78125 6.390625 \r\nQ 39.453125 6.390625 43.28125 13.890625 \r\nQ 47.125 21.390625 47.125 36.375 \r\nQ 47.125 51.421875 43.28125 58.90625 \r\nQ 39.453125 66.40625 31.78125 66.40625 \r\nz\r\nM 31.78125 74.21875 \r\nQ 44.046875 74.21875 50.515625 64.515625 \r\nQ 56.984375 54.828125 56.984375 36.375 \r\nQ 56.984375 17.96875 50.515625 8.265625 \r\nQ 44.046875 -1.421875 31.78125 -1.421875 \r\nQ 19.53125 -1.421875 13.0625 8.265625 \r\nQ 6.59375 17.96875 6.59375 36.375 \r\nQ 6.59375 54.828125 13.0625 64.515625 \r\nQ 19.53125 74.21875 31.78125 74.21875 \r\nz\r\n\" id=\"DejaVuSans-48\"/>\r\n       </defs>\r\n       <use xlink:href=\"#DejaVuSans-48\"/>\r\n      </g>\r\n     </g>\r\n    </g>\r\n    <g id=\"xtick_2\">\r\n     <g id=\"line2d_2\">\r\n      <g>\r\n       <use style=\"stroke:#000000;stroke-width:0.8;\" x=\"79.0405\" xlink:href=\"#m180c75043d\" y=\"227.986219\"/>\r\n      </g>\r\n     </g>\r\n     <g id=\"text_2\">\r\n      <!-- 50 -->\r\n      <g transform=\"translate(72.678 242.584656)scale(0.1 -0.1)\">\r\n       <defs>\r\n        <path d=\"M 10.796875 72.90625 \r\nL 49.515625 72.90625 \r\nL 49.515625 64.59375 \r\nL 19.828125 64.59375 \r\nL 19.828125 46.734375 \r\nQ 21.96875 47.46875 24.109375 47.828125 \r\nQ 26.265625 48.1875 28.421875 48.1875 \r\nQ 40.625 48.1875 47.75 41.5 \r\nQ 54.890625 34.8125 54.890625 23.390625 \r\nQ 54.890625 11.625 47.5625 5.09375 \r\nQ 40.234375 -1.421875 26.90625 -1.421875 \r\nQ 22.3125 -1.421875 17.546875 -0.640625 \r\nQ 12.796875 0.140625 7.71875 1.703125 \r\nL 7.71875 11.625 \r\nQ 12.109375 9.234375 16.796875 8.0625 \r\nQ 21.484375 6.890625 26.703125 6.890625 \r\nQ 35.15625 6.890625 40.078125 11.328125 \r\nQ 45.015625 15.765625 45.015625 23.390625 \r\nQ 45.015625 31 40.078125 35.4375 \r\nQ 35.15625 39.890625 26.703125 39.890625 \r\nQ 22.75 39.890625 18.8125 39.015625 \r\nQ 14.890625 38.140625 10.796875 36.28125 \r\nz\r\n\" id=\"DejaVuSans-53\"/>\r\n       </defs>\r\n       <use xlink:href=\"#DejaVuSans-53\"/>\r\n       <use x=\"63.623047\" xlink:href=\"#DejaVuSans-48\"/>\r\n      </g>\r\n     </g>\r\n    </g>\r\n    <g id=\"xtick_3\">\r\n     <g id=\"line2d_3\">\r\n      <g>\r\n       <use style=\"stroke:#000000;stroke-width:0.8;\" x=\"124.3405\" xlink:href=\"#m180c75043d\" y=\"227.986219\"/>\r\n      </g>\r\n     </g>\r\n     <g id=\"text_3\">\r\n      <!-- 100 -->\r\n      <g transform=\"translate(114.79675 242.584656)scale(0.1 -0.1)\">\r\n       <defs>\r\n        <path d=\"M 12.40625 8.296875 \r\nL 28.515625 8.296875 \r\nL 28.515625 63.921875 \r\nL 10.984375 60.40625 \r\nL 10.984375 69.390625 \r\nL 28.421875 72.90625 \r\nL 38.28125 72.90625 \r\nL 38.28125 8.296875 \r\nL 54.390625 8.296875 \r\nL 54.390625 0 \r\nL 12.40625 0 \r\nz\r\n\" id=\"DejaVuSans-49\"/>\r\n       </defs>\r\n       <use xlink:href=\"#DejaVuSans-49\"/>\r\n       <use x=\"63.623047\" xlink:href=\"#DejaVuSans-48\"/>\r\n       <use x=\"127.246094\" xlink:href=\"#DejaVuSans-48\"/>\r\n      </g>\r\n     </g>\r\n    </g>\r\n    <g id=\"xtick_4\">\r\n     <g id=\"line2d_4\">\r\n      <g>\r\n       <use style=\"stroke:#000000;stroke-width:0.8;\" x=\"169.6405\" xlink:href=\"#m180c75043d\" y=\"227.986219\"/>\r\n      </g>\r\n     </g>\r\n     <g id=\"text_4\">\r\n      <!-- 150 -->\r\n      <g transform=\"translate(160.09675 242.584656)scale(0.1 -0.1)\">\r\n       <use xlink:href=\"#DejaVuSans-49\"/>\r\n       <use x=\"63.623047\" xlink:href=\"#DejaVuSans-53\"/>\r\n       <use x=\"127.246094\" xlink:href=\"#DejaVuSans-48\"/>\r\n      </g>\r\n     </g>\r\n    </g>\r\n    <g id=\"xtick_5\">\r\n     <g id=\"line2d_5\">\r\n      <g>\r\n       <use style=\"stroke:#000000;stroke-width:0.8;\" x=\"214.9405\" xlink:href=\"#m180c75043d\" y=\"227.986219\"/>\r\n      </g>\r\n     </g>\r\n     <g id=\"text_5\">\r\n      <!-- 200 -->\r\n      <g transform=\"translate(205.39675 242.584656)scale(0.1 -0.1)\">\r\n       <defs>\r\n        <path d=\"M 19.1875 8.296875 \r\nL 53.609375 8.296875 \r\nL 53.609375 0 \r\nL 7.328125 0 \r\nL 7.328125 8.296875 \r\nQ 12.9375 14.109375 22.625 23.890625 \r\nQ 32.328125 33.6875 34.8125 36.53125 \r\nQ 39.546875 41.84375 41.421875 45.53125 \r\nQ 43.3125 49.21875 43.3125 52.78125 \r\nQ 43.3125 58.59375 39.234375 62.25 \r\nQ 35.15625 65.921875 28.609375 65.921875 \r\nQ 23.96875 65.921875 18.8125 64.3125 \r\nQ 13.671875 62.703125 7.8125 59.421875 \r\nL 7.8125 69.390625 \r\nQ 13.765625 71.78125 18.9375 73 \r\nQ 24.125 74.21875 28.421875 74.21875 \r\nQ 39.75 74.21875 46.484375 68.546875 \r\nQ 53.21875 62.890625 53.21875 53.421875 \r\nQ 53.21875 48.921875 51.53125 44.890625 \r\nQ 49.859375 40.875 45.40625 35.40625 \r\nQ 44.1875 33.984375 37.640625 27.21875 \r\nQ 31.109375 20.453125 19.1875 8.296875 \r\nz\r\n\" id=\"DejaVuSans-50\"/>\r\n       </defs>\r\n       <use xlink:href=\"#DejaVuSans-50\"/>\r\n       <use x=\"63.623047\" xlink:href=\"#DejaVuSans-48\"/>\r\n       <use x=\"127.246094\" xlink:href=\"#DejaVuSans-48\"/>\r\n      </g>\r\n     </g>\r\n    </g>\r\n    <g id=\"xtick_6\">\r\n     <g id=\"line2d_6\">\r\n      <g>\r\n       <use style=\"stroke:#000000;stroke-width:0.8;\" x=\"260.2405\" xlink:href=\"#m180c75043d\" y=\"227.986219\"/>\r\n      </g>\r\n     </g>\r\n     <g id=\"text_6\">\r\n      <!-- 250 -->\r\n      <g transform=\"translate(250.69675 242.584656)scale(0.1 -0.1)\">\r\n       <use xlink:href=\"#DejaVuSans-50\"/>\r\n       <use x=\"63.623047\" xlink:href=\"#DejaVuSans-53\"/>\r\n       <use x=\"127.246094\" xlink:href=\"#DejaVuSans-48\"/>\r\n      </g>\r\n     </g>\r\n    </g>\r\n    <g id=\"xtick_7\">\r\n     <g id=\"line2d_7\">\r\n      <g>\r\n       <use style=\"stroke:#000000;stroke-width:0.8;\" x=\"305.5405\" xlink:href=\"#m180c75043d\" y=\"227.986219\"/>\r\n      </g>\r\n     </g>\r\n     <g id=\"text_7\">\r\n      <!-- 300 -->\r\n      <g transform=\"translate(295.99675 242.584656)scale(0.1 -0.1)\">\r\n       <defs>\r\n        <path d=\"M 40.578125 39.3125 \r\nQ 47.65625 37.796875 51.625 33 \r\nQ 55.609375 28.21875 55.609375 21.1875 \r\nQ 55.609375 10.40625 48.1875 4.484375 \r\nQ 40.765625 -1.421875 27.09375 -1.421875 \r\nQ 22.515625 -1.421875 17.65625 -0.515625 \r\nQ 12.796875 0.390625 7.625 2.203125 \r\nL 7.625 11.71875 \r\nQ 11.71875 9.328125 16.59375 8.109375 \r\nQ 21.484375 6.890625 26.8125 6.890625 \r\nQ 36.078125 6.890625 40.9375 10.546875 \r\nQ 45.796875 14.203125 45.796875 21.1875 \r\nQ 45.796875 27.640625 41.28125 31.265625 \r\nQ 36.765625 34.90625 28.71875 34.90625 \r\nL 20.21875 34.90625 \r\nL 20.21875 43.015625 \r\nL 29.109375 43.015625 \r\nQ 36.375 43.015625 40.234375 45.921875 \r\nQ 44.09375 48.828125 44.09375 54.296875 \r\nQ 44.09375 59.90625 40.109375 62.90625 \r\nQ 36.140625 65.921875 28.71875 65.921875 \r\nQ 24.65625 65.921875 20.015625 65.03125 \r\nQ 15.375 64.15625 9.8125 62.3125 \r\nL 9.8125 71.09375 \r\nQ 15.4375 72.65625 20.34375 73.4375 \r\nQ 25.25 74.21875 29.59375 74.21875 \r\nQ 40.828125 74.21875 47.359375 69.109375 \r\nQ 53.90625 64.015625 53.90625 55.328125 \r\nQ 53.90625 49.265625 50.4375 45.09375 \r\nQ 46.96875 40.921875 40.578125 39.3125 \r\nz\r\n\" id=\"DejaVuSans-51\"/>\r\n       </defs>\r\n       <use xlink:href=\"#DejaVuSans-51\"/>\r\n       <use x=\"63.623047\" xlink:href=\"#DejaVuSans-48\"/>\r\n       <use x=\"127.246094\" xlink:href=\"#DejaVuSans-48\"/>\r\n      </g>\r\n     </g>\r\n    </g>\r\n   </g>\r\n   <g id=\"matplotlib.axis_2\">\r\n    <g id=\"ytick_1\">\r\n     <g id=\"line2d_8\">\r\n      <defs>\r\n       <path d=\"M 0 0 \r\nL -3.5 0 \r\n\" id=\"m618aea7b56\" style=\"stroke:#000000;stroke-width:0.8;\"/>\r\n      </defs>\r\n      <g>\r\n       <use style=\"stroke:#000000;stroke-width:0.8;\" x=\"33.2875\" xlink:href=\"#m618aea7b56\" y=\"10.999219\"/>\r\n      </g>\r\n     </g>\r\n     <g id=\"text_8\">\r\n      <!-- 0 -->\r\n      <g transform=\"translate(19.925 14.798437)scale(0.1 -0.1)\">\r\n       <use xlink:href=\"#DejaVuSans-48\"/>\r\n      </g>\r\n     </g>\r\n    </g>\r\n    <g id=\"ytick_2\">\r\n     <g id=\"line2d_9\">\r\n      <g>\r\n       <use style=\"stroke:#000000;stroke-width:0.8;\" x=\"33.2875\" xlink:href=\"#m618aea7b56\" y=\"56.299219\"/>\r\n      </g>\r\n     </g>\r\n     <g id=\"text_9\">\r\n      <!-- 50 -->\r\n      <g transform=\"translate(13.5625 60.098437)scale(0.1 -0.1)\">\r\n       <use xlink:href=\"#DejaVuSans-53\"/>\r\n       <use x=\"63.623047\" xlink:href=\"#DejaVuSans-48\"/>\r\n      </g>\r\n     </g>\r\n    </g>\r\n    <g id=\"ytick_3\">\r\n     <g id=\"line2d_10\">\r\n      <g>\r\n       <use style=\"stroke:#000000;stroke-width:0.8;\" x=\"33.2875\" xlink:href=\"#m618aea7b56\" y=\"101.599219\"/>\r\n      </g>\r\n     </g>\r\n     <g id=\"text_10\">\r\n      <!-- 100 -->\r\n      <g transform=\"translate(7.2 105.398437)scale(0.1 -0.1)\">\r\n       <use xlink:href=\"#DejaVuSans-49\"/>\r\n       <use x=\"63.623047\" xlink:href=\"#DejaVuSans-48\"/>\r\n       <use x=\"127.246094\" xlink:href=\"#DejaVuSans-48\"/>\r\n      </g>\r\n     </g>\r\n    </g>\r\n    <g id=\"ytick_4\">\r\n     <g id=\"line2d_11\">\r\n      <g>\r\n       <use style=\"stroke:#000000;stroke-width:0.8;\" x=\"33.2875\" xlink:href=\"#m618aea7b56\" y=\"146.899219\"/>\r\n      </g>\r\n     </g>\r\n     <g id=\"text_11\">\r\n      <!-- 150 -->\r\n      <g transform=\"translate(7.2 150.698437)scale(0.1 -0.1)\">\r\n       <use xlink:href=\"#DejaVuSans-49\"/>\r\n       <use x=\"63.623047\" xlink:href=\"#DejaVuSans-53\"/>\r\n       <use x=\"127.246094\" xlink:href=\"#DejaVuSans-48\"/>\r\n      </g>\r\n     </g>\r\n    </g>\r\n    <g id=\"ytick_5\">\r\n     <g id=\"line2d_12\">\r\n      <g>\r\n       <use style=\"stroke:#000000;stroke-width:0.8;\" x=\"33.2875\" xlink:href=\"#m618aea7b56\" y=\"192.199219\"/>\r\n      </g>\r\n     </g>\r\n     <g id=\"text_12\">\r\n      <!-- 200 -->\r\n      <g transform=\"translate(7.2 195.998437)scale(0.1 -0.1)\">\r\n       <use xlink:href=\"#DejaVuSans-50\"/>\r\n       <use x=\"63.623047\" xlink:href=\"#DejaVuSans-48\"/>\r\n       <use x=\"127.246094\" xlink:href=\"#DejaVuSans-48\"/>\r\n      </g>\r\n     </g>\r\n    </g>\r\n   </g>\r\n   <g id=\"patch_3\">\r\n    <path d=\"M 33.2875 227.986219 \r\nL 33.2875 10.546219 \r\n\" style=\"fill:none;stroke:#000000;stroke-linecap:square;stroke-linejoin:miter;stroke-width:0.8;\"/>\r\n   </g>\r\n   <g id=\"patch_4\">\r\n    <path d=\"M 323.2075 227.986219 \r\nL 323.2075 10.546219 \r\n\" style=\"fill:none;stroke:#000000;stroke-linecap:square;stroke-linejoin:miter;stroke-width:0.8;\"/>\r\n   </g>\r\n   <g id=\"patch_5\">\r\n    <path d=\"M 33.2875 227.986219 \r\nL 323.2075 227.986219 \r\n\" style=\"fill:none;stroke:#000000;stroke-linecap:square;stroke-linejoin:miter;stroke-width:0.8;\"/>\r\n   </g>\r\n   <g id=\"patch_6\">\r\n    <path d=\"M 33.2875 10.546219 \r\nL 323.2075 10.546219 \r\n\" style=\"fill:none;stroke:#000000;stroke-linecap:square;stroke-linejoin:miter;stroke-width:0.8;\"/>\r\n   </g>\r\n  </g>\r\n </g>\r\n <defs>\r\n  <clipPath id=\"pb9fcf85266\">\r\n   <rect height=\"217.44\" width=\"289.92\" x=\"33.2875\" y=\"10.546219\"/>\r\n  </clipPath>\r\n </defs>\r\n</svg>\r\n",
      "image/png": "[encoded data removed]"
     },
     "metadata": {
      "needs_background": "light"
     }
    }
   ],
   "source": [
    "import matplotlib.pyplot as plt\n",
    "import numpy as np\n",
    "conpredicted=predicted.copy()\n",
    "threshold=0.8\n",
    "conpredicted[conpredicted>=threshold]=1\n",
    "conpredicted[conpredicted<threshold]=0\n",
    "\n",
    "plt.imshow(np.asarray(input_image))\n",
    "plt.imshow(np.squeeze(conpredicted),alpha=0.5)"
   ]
  },
  {
   "cell_type": "code",
   "execution_count": 31,
   "metadata": {},
   "outputs": [],
   "source": [
    "torch.save(tmodel,'FloorExp/workweights.pt')"
   ]
  },
  {
   "cell_type": "code",
   "execution_count": 9,
   "metadata": {},
   "outputs": [],
   "source": [
    "def save_model_checkpoint(epoch,state_dict,opt_state_dict,loss,chkpath):\n",
    "    torch.save({\n",
    "            'epoch': epoch,\n",
    "            'model_state_dict': state_dict,\n",
    "            'optimizer_state_dict': opt_state_dict,\n",
    "            'loss': loss,\n",
    "            }, chkpath)\n"
   ]
  },
  {
   "cell_type": "code",
   "execution_count": 10,
   "metadata": {},
   "outputs": [],
   "source": [
    "tmsd=tmodel.state_dict()"
   ]
  },
  {
   "cell_type": "code",
   "execution_count": 12,
   "metadata": {},
   "outputs": [],
   "source": [
    "optimizer = torch.optim.Adam(tmodel.parameters(), lr=1e-4)"
   ]
  },
  {
   "cell_type": "code",
   "execution_count": 14,
   "metadata": {},
   "outputs": [],
   "source": [
    "chkpath='.\\FloorExp\\Jan19.pt'\n",
    "save_model_checkpoint(10,tmsd,optimizer.state_dict(),'0.0589',chkpath)"
   ]
  },
  {
   "cell_type": "code",
   "execution_count": null,
   "metadata": {},
   "outputs": [],
   "source": [
    "def load_chk_data(chkpath,model,optimizer):\n",
    "    checkpoint = torch.load(chkpath)\n",
    "    model.load_state_dict(checkpoint['model_state_dict'])\n",
    "    optimizer.load_state_dict(checkpoint['optimizer_state_dict'])\n",
    "    epoch = checkpoint['epoch']\n",
    "    loss = checkpoint['loss']\n",
    "    print(\"load chk model:{},loss:{}\".format(chkpath,loss))"
   ]
  },
  {
   "cell_type": "code",
   "execution_count": 11,
   "metadata": {},
   "outputs": [
    {
     "output_type": "error",
     "ename": "NameError",
     "evalue": "name 'model' is not defined",
     "traceback": [
      "\u001b[1;31m---------------------------------------------------------------------------\u001b[0m",
      "\u001b[1;31mNameError\u001b[0m                                 Traceback (most recent call last)",
      "\u001b[1;32m<ipython-input-11-763d03c4ceba>\u001b[0m in \u001b[0;36m<module>\u001b[1;34m\u001b[0m\n\u001b[0;32m      1\u001b[0m \u001b[1;32mfrom\u001b[0m \u001b[0mmodel\u001b[0m \u001b[1;32mimport\u001b[0m \u001b[0mcreateDeepLabv3\u001b[0m\u001b[1;33m\u001b[0m\u001b[1;33m\u001b[0m\u001b[0m\n\u001b[1;32m----> 2\u001b[1;33m \u001b[0moptimizer\u001b[0m \u001b[1;33m=\u001b[0m \u001b[0mtorch\u001b[0m\u001b[1;33m.\u001b[0m\u001b[0moptim\u001b[0m\u001b[1;33m.\u001b[0m\u001b[0mAdam\u001b[0m\u001b[1;33m(\u001b[0m\u001b[0mmodel\u001b[0m\u001b[1;33m.\u001b[0m\u001b[0mparameters\u001b[0m\u001b[1;33m(\u001b[0m\u001b[1;33m)\u001b[0m\u001b[1;33m,\u001b[0m \u001b[0mlr\u001b[0m\u001b[1;33m=\u001b[0m\u001b[1;36m1e-4\u001b[0m\u001b[1;33m)\u001b[0m\u001b[1;33m\u001b[0m\u001b[1;33m\u001b[0m\u001b[0m\n\u001b[0m\u001b[0;32m      3\u001b[0m \u001b[0mmodel\u001b[0m \u001b[1;33m=\u001b[0m \u001b[0mcreateDeepLabv3\u001b[0m\u001b[1;33m(\u001b[0m\u001b[1;33m)\u001b[0m\u001b[1;33m\u001b[0m\u001b[1;33m\u001b[0m\u001b[0m\n\u001b[0;32m      4\u001b[0m \u001b[0mchkpath\u001b[0m\u001b[1;33m=\u001b[0m\u001b[1;34m'.\\FloorExp\\hJan19_11_57_e3.pt'\u001b[0m\u001b[1;33m\u001b[0m\u001b[1;33m\u001b[0m\u001b[0m\n\u001b[0;32m      5\u001b[0m \u001b[0mload_chk_data\u001b[0m\u001b[1;33m(\u001b[0m\u001b[0mchkpath\u001b[0m\u001b[1;33m,\u001b[0m\u001b[0mmodel\u001b[0m\u001b[1;33m,\u001b[0m\u001b[0moptimizer\u001b[0m\u001b[1;33m)\u001b[0m\u001b[1;33m\u001b[0m\u001b[1;33m\u001b[0m\u001b[0m\n",
      "\u001b[1;31mNameError\u001b[0m: name 'model' is not defined"
     ]
    }
   ],
   "source": [
    "from model import createDeepLabv3\n",
    "\n",
    "model = createDeepLabv3()\n",
    "optimizer = torch.optim.Adam(tmodel.parameters(), lr=1e-4)\n",
    "chkpath='.\\FloorExp\\hJan19_11_57_e3.pt'\n",
    "load_chk_data(chkpath,model,optimizer)"
   ]
  },
  {
   "cell_type": "code",
   "execution_count": 10,
   "metadata": {},
   "outputs": [
    {
     "output_type": "execute_result",
     "data": {
      "text/plain": [
       "<matplotlib.image.AxesImage at 0x159867130a0>"
      ]
     },
     "metadata": {},
     "execution_count": 10
    },
    {
     "output_type": "display_data",
     "data": {
      "text/plain": "<Figure size 432x288 with 1 Axes>",
      "image/svg+xml": "<?xml version=\"1.0\" encoding=\"utf-8\" standalone=\"no\"?>\r\n<!DOCTYPE svg PUBLIC \"-//W3C//DTD SVG 1.1//EN\"\r\n  \"http://www.w3.org/Graphics/SVG/1.1/DTD/svg11.dtd\">\r\n<!-- Created with matplotlib (https://matplotlib.org/) -->\r\n<svg height=\"252.216677pt\" version=\"1.1\" viewBox=\"0 0 207.916667 252.216677\" width=\"207.916667pt\" xmlns=\"http://www.w3.org/2000/svg\" xmlns:xlink=\"http://www.w3.org/1999/xlink\">\r\n <metadata>\r\n  <rdf:RDF xmlns:cc=\"http://creativecommons.org/ns#\" xmlns:dc=\"http://purl.org/dc/elements/1.1/\" xmlns:rdf=\"http://www.w3.org/1999/02/22-rdf-syntax-ns#\">\r\n   <cc:Work>\r\n    <dc:type rdf:resource=\"http://purl.org/dc/dcmitype/StillImage\"/>\r\n    <dc:date>2021-01-14T17:49:10.957541</dc:date>\r\n    <dc:format>image/svg+xml</dc:format>\r\n    <dc:creator>\r\n     <cc:Agent>\r\n      <dc:title>Matplotlib v3.3.3, https://matplotlib.org/</dc:title>\r\n     </cc:Agent>\r\n    </dc:creator>\r\n   </cc:Work>\r\n  </rdf:RDF>\r\n </metadata>\r\n <defs>\r\n  <style type=\"text/css\">*{stroke-linecap:butt;stroke-linejoin:round;}</style>\r\n </defs>\r\n <g id=\"figure_1\">\r\n  <g id=\"patch_1\">\r\n   <path d=\"M 0 252.216677 \r\nL 207.916667 252.216677 \r\nL 207.916667 0 \r\nL 0 0 \r\nz\r\n\" style=\"fill:none;\"/>\r\n  </g>\r\n  <g id=\"axes_1\">\r\n   <g id=\"patch_2\">\r\n    <path d=\"M 39.65 228.338552 \r\nL 200.716667 228.338552 \r\nL 200.716667 10.898552 \r\nL 39.65 10.898552 \r\nz\r\n\" style=\"fill:#ffffff;\"/>\r\n   </g>\r\n   <g clip-path=\"url(#pde83e8ed3a)\">\r\n    <image height=\"218\" id=\"image70a19e8df2\" transform=\"scale(1 -1)translate(0 -218)\" width=\"162\" x=\"39.65\" xlink:href=\"data:image/png;base64,\r\niVBORw0KGgoAAAANSUhEUgAAAKIAAADaCAYAAAAlg5m3AAACWklEQVR4nO3SMQHAMADDsLT8OW8w6kNC4MNn2zd47L4OgM2IRBiRBCOSYEQSjEiCEUkwIglGJMGIJBiRBCOSYEQSjEiCEUkwIglGJMGIJBiRBCOSYEQSjEiCEUkwIglGJMGIJBiRBCOSYEQSjEiCEUkwIglGJMGIJBiRBCOSYEQSjEiCEUkwIglGJMGIJBiRBCOSYEQSjEiCEUkwIglGJMGIJBiRBCOSYEQSjEiCEUkwIglGJMGIJBiRBCOSYEQSjEiCEUkwIglGJMGIJBiRBCOSYEQSjEiCEUkwIglGJMGIJBiRBCOSYEQSjEiCEUkwIglGJMGIJBiRBCOSYEQSjEiCEUkwIglGJMGIJBiRBCOSYEQSjEiCEUkwIglGJMGIJBiRBCOSYEQSjEiCEUkwIglGJMGIJBiRBCOSYEQSjEiCEUkwIglGJMGIJBiRBCOSYEQSjEiCEUkwIglGJMGIJBiRBCOSYEQSjEiCEUkwIglGJMGIJBiRBCOSYEQSjEiCEUkwIglGJMGIJBiRBCOSYEQSjEiCEUkwIglGJMGIJBiRBCOSYEQSjEiCEUkwIglGJMGIJBiRBCOSYEQSjEiCEUkwIglGJMGIJBiRBCOSYEQSjEiCEUkwIglGJMGIJBiRBCOSYEQSjEiCEUkwIglGJMGIJBiRBCOSYEQSjEiCEUkwIglGJMGIJBiRBCOSYEQSjEiCEUkwIglGJMGIJBiRBCOSYEQSjEiCEUkwIglGJMGIJBiRBCOSYEQSjEiCEUkwIglGJMGIJBiRBCOSYEQSjEiCEUkwIglGJOEHgrkCs8szLpkAAAAASUVORK5CYII=\" y=\"-10.338552\"/>\r\n   </g>\r\n   <g id=\"matplotlib.axis_1\">\r\n    <g id=\"xtick_1\">\r\n     <g id=\"line2d_1\">\r\n      <defs>\r\n       <path d=\"M 0 0 \r\nL 0 3.5 \r\n\" id=\"md386233a48\" style=\"stroke:#000000;stroke-width:0.8;\"/>\r\n      </defs>\r\n      <g>\r\n       <use style=\"stroke:#000000;stroke-width:0.8;\" x=\"39.750667\" xlink:href=\"#md386233a48\" y=\"228.338552\"/>\r\n      </g>\r\n     </g>\r\n     <g id=\"text_1\">\r\n      <!-- 0 -->\r\n      <g transform=\"translate(36.569417 242.93699)scale(0.1 -0.1)\">\r\n       <defs>\r\n        <path d=\"M 31.78125 66.40625 \r\nQ 24.171875 66.40625 20.328125 58.90625 \r\nQ 16.5 51.421875 16.5 36.375 \r\nQ 16.5 21.390625 20.328125 13.890625 \r\nQ 24.171875 6.390625 31.78125 6.390625 \r\nQ 39.453125 6.390625 43.28125 13.890625 \r\nQ 47.125 21.390625 47.125 36.375 \r\nQ 47.125 51.421875 43.28125 58.90625 \r\nQ 39.453125 66.40625 31.78125 66.40625 \r\nz\r\nM 31.78125 74.21875 \r\nQ 44.046875 74.21875 50.515625 64.515625 \r\nQ 56.984375 54.828125 56.984375 36.375 \r\nQ 56.984375 17.96875 50.515625 8.265625 \r\nQ 44.046875 -1.421875 31.78125 -1.421875 \r\nQ 19.53125 -1.421875 13.0625 8.265625 \r\nQ 6.59375 17.96875 6.59375 36.375 \r\nQ 6.59375 54.828125 13.0625 64.515625 \r\nQ 19.53125 74.21875 31.78125 74.21875 \r\nz\r\n\" id=\"DejaVuSans-48\"/>\r\n       </defs>\r\n       <use xlink:href=\"#DejaVuSans-48\"/>\r\n      </g>\r\n     </g>\r\n    </g>\r\n    <g id=\"xtick_2\">\r\n     <g id=\"line2d_2\">\r\n      <g>\r\n       <use style=\"stroke:#000000;stroke-width:0.8;\" x=\"80.017333\" xlink:href=\"#md386233a48\" y=\"228.338552\"/>\r\n      </g>\r\n     </g>\r\n     <g id=\"text_2\">\r\n      <!-- 200 -->\r\n      <g transform=\"translate(70.473583 242.93699)scale(0.1 -0.1)\">\r\n       <defs>\r\n        <path d=\"M 19.1875 8.296875 \r\nL 53.609375 8.296875 \r\nL 53.609375 0 \r\nL 7.328125 0 \r\nL 7.328125 8.296875 \r\nQ 12.9375 14.109375 22.625 23.890625 \r\nQ 32.328125 33.6875 34.8125 36.53125 \r\nQ 39.546875 41.84375 41.421875 45.53125 \r\nQ 43.3125 49.21875 43.3125 52.78125 \r\nQ 43.3125 58.59375 39.234375 62.25 \r\nQ 35.15625 65.921875 28.609375 65.921875 \r\nQ 23.96875 65.921875 18.8125 64.3125 \r\nQ 13.671875 62.703125 7.8125 59.421875 \r\nL 7.8125 69.390625 \r\nQ 13.765625 71.78125 18.9375 73 \r\nQ 24.125 74.21875 28.421875 74.21875 \r\nQ 39.75 74.21875 46.484375 68.546875 \r\nQ 53.21875 62.890625 53.21875 53.421875 \r\nQ 53.21875 48.921875 51.53125 44.890625 \r\nQ 49.859375 40.875 45.40625 35.40625 \r\nQ 44.1875 33.984375 37.640625 27.21875 \r\nQ 31.109375 20.453125 19.1875 8.296875 \r\nz\r\n\" id=\"DejaVuSans-50\"/>\r\n       </defs>\r\n       <use xlink:href=\"#DejaVuSans-50\"/>\r\n       <use x=\"63.623047\" xlink:href=\"#DejaVuSans-48\"/>\r\n       <use x=\"127.246094\" xlink:href=\"#DejaVuSans-48\"/>\r\n      </g>\r\n     </g>\r\n    </g>\r\n    <g id=\"xtick_3\">\r\n     <g id=\"line2d_3\">\r\n      <g>\r\n       <use style=\"stroke:#000000;stroke-width:0.8;\" x=\"120.284\" xlink:href=\"#md386233a48\" y=\"228.338552\"/>\r\n      </g>\r\n     </g>\r\n     <g id=\"text_3\">\r\n      <!-- 400 -->\r\n      <g transform=\"translate(110.74025 242.93699)scale(0.1 -0.1)\">\r\n       <defs>\r\n        <path d=\"M 37.796875 64.3125 \r\nL 12.890625 25.390625 \r\nL 37.796875 25.390625 \r\nz\r\nM 35.203125 72.90625 \r\nL 47.609375 72.90625 \r\nL 47.609375 25.390625 \r\nL 58.015625 25.390625 \r\nL 58.015625 17.1875 \r\nL 47.609375 17.1875 \r\nL 47.609375 0 \r\nL 37.796875 0 \r\nL 37.796875 17.1875 \r\nL 4.890625 17.1875 \r\nL 4.890625 26.703125 \r\nz\r\n\" id=\"DejaVuSans-52\"/>\r\n       </defs>\r\n       <use xlink:href=\"#DejaVuSans-52\"/>\r\n       <use x=\"63.623047\" xlink:href=\"#DejaVuSans-48\"/>\r\n       <use x=\"127.246094\" xlink:href=\"#DejaVuSans-48\"/>\r\n      </g>\r\n     </g>\r\n    </g>\r\n    <g id=\"xtick_4\">\r\n     <g id=\"line2d_4\">\r\n      <g>\r\n       <use style=\"stroke:#000000;stroke-width:0.8;\" x=\"160.550667\" xlink:href=\"#md386233a48\" y=\"228.338552\"/>\r\n      </g>\r\n     </g>\r\n     <g id=\"text_4\">\r\n      <!-- 600 -->\r\n      <g transform=\"translate(151.006917 242.93699)scale(0.1 -0.1)\">\r\n       <defs>\r\n        <path d=\"M 33.015625 40.375 \r\nQ 26.375 40.375 22.484375 35.828125 \r\nQ 18.609375 31.296875 18.609375 23.390625 \r\nQ 18.609375 15.53125 22.484375 10.953125 \r\nQ 26.375 6.390625 33.015625 6.390625 \r\nQ 39.65625 6.390625 43.53125 10.953125 \r\nQ 47.40625 15.53125 47.40625 23.390625 \r\nQ 47.40625 31.296875 43.53125 35.828125 \r\nQ 39.65625 40.375 33.015625 40.375 \r\nz\r\nM 52.59375 71.296875 \r\nL 52.59375 62.3125 \r\nQ 48.875 64.0625 45.09375 64.984375 \r\nQ 41.3125 65.921875 37.59375 65.921875 \r\nQ 27.828125 65.921875 22.671875 59.328125 \r\nQ 17.53125 52.734375 16.796875 39.40625 \r\nQ 19.671875 43.65625 24.015625 45.921875 \r\nQ 28.375 48.1875 33.59375 48.1875 \r\nQ 44.578125 48.1875 50.953125 41.515625 \r\nQ 57.328125 34.859375 57.328125 23.390625 \r\nQ 57.328125 12.15625 50.6875 5.359375 \r\nQ 44.046875 -1.421875 33.015625 -1.421875 \r\nQ 20.359375 -1.421875 13.671875 8.265625 \r\nQ 6.984375 17.96875 6.984375 36.375 \r\nQ 6.984375 53.65625 15.1875 63.9375 \r\nQ 23.390625 74.21875 37.203125 74.21875 \r\nQ 40.921875 74.21875 44.703125 73.484375 \r\nQ 48.484375 72.75 52.59375 71.296875 \r\nz\r\n\" id=\"DejaVuSans-54\"/>\r\n       </defs>\r\n       <use xlink:href=\"#DejaVuSans-54\"/>\r\n       <use x=\"63.623047\" xlink:href=\"#DejaVuSans-48\"/>\r\n       <use x=\"127.246094\" xlink:href=\"#DejaVuSans-48\"/>\r\n      </g>\r\n     </g>\r\n    </g>\r\n   </g>\r\n   <g id=\"matplotlib.axis_2\">\r\n    <g id=\"ytick_1\">\r\n     <g id=\"line2d_5\">\r\n      <defs>\r\n       <path d=\"M 0 0 \r\nL -3.5 0 \r\n\" id=\"mbb5e7c4519\" style=\"stroke:#000000;stroke-width:0.8;\"/>\r\n      </defs>\r\n      <g>\r\n       <use style=\"stroke:#000000;stroke-width:0.8;\" x=\"39.65\" xlink:href=\"#mbb5e7c4519\" y=\"10.999219\"/>\r\n      </g>\r\n     </g>\r\n     <g id=\"text_5\">\r\n      <!-- 0 -->\r\n      <g transform=\"translate(26.2875 14.798437)scale(0.1 -0.1)\">\r\n       <use xlink:href=\"#DejaVuSans-48\"/>\r\n      </g>\r\n     </g>\r\n    </g>\r\n    <g id=\"ytick_2\">\r\n     <g id=\"line2d_6\">\r\n      <g>\r\n       <use style=\"stroke:#000000;stroke-width:0.8;\" x=\"39.65\" xlink:href=\"#mbb5e7c4519\" y=\"51.265885\"/>\r\n      </g>\r\n     </g>\r\n     <g id=\"text_6\">\r\n      <!-- 200 -->\r\n      <g transform=\"translate(13.5625 55.065104)scale(0.1 -0.1)\">\r\n       <use xlink:href=\"#DejaVuSans-50\"/>\r\n       <use x=\"63.623047\" xlink:href=\"#DejaVuSans-48\"/>\r\n       <use x=\"127.246094\" xlink:href=\"#DejaVuSans-48\"/>\r\n      </g>\r\n     </g>\r\n    </g>\r\n    <g id=\"ytick_3\">\r\n     <g id=\"line2d_7\">\r\n      <g>\r\n       <use style=\"stroke:#000000;stroke-width:0.8;\" x=\"39.65\" xlink:href=\"#mbb5e7c4519\" y=\"91.532552\"/>\r\n      </g>\r\n     </g>\r\n     <g id=\"text_7\">\r\n      <!-- 400 -->\r\n      <g transform=\"translate(13.5625 95.331771)scale(0.1 -0.1)\">\r\n       <use xlink:href=\"#DejaVuSans-52\"/>\r\n       <use x=\"63.623047\" xlink:href=\"#DejaVuSans-48\"/>\r\n       <use x=\"127.246094\" xlink:href=\"#DejaVuSans-48\"/>\r\n      </g>\r\n     </g>\r\n    </g>\r\n    <g id=\"ytick_4\">\r\n     <g id=\"line2d_8\">\r\n      <g>\r\n       <use style=\"stroke:#000000;stroke-width:0.8;\" x=\"39.65\" xlink:href=\"#mbb5e7c4519\" y=\"131.799219\"/>\r\n      </g>\r\n     </g>\r\n     <g id=\"text_8\">\r\n      <!-- 600 -->\r\n      <g transform=\"translate(13.5625 135.598437)scale(0.1 -0.1)\">\r\n       <use xlink:href=\"#DejaVuSans-54\"/>\r\n       <use x=\"63.623047\" xlink:href=\"#DejaVuSans-48\"/>\r\n       <use x=\"127.246094\" xlink:href=\"#DejaVuSans-48\"/>\r\n      </g>\r\n     </g>\r\n    </g>\r\n    <g id=\"ytick_5\">\r\n     <g id=\"line2d_9\">\r\n      <g>\r\n       <use style=\"stroke:#000000;stroke-width:0.8;\" x=\"39.65\" xlink:href=\"#mbb5e7c4519\" y=\"172.065885\"/>\r\n      </g>\r\n     </g>\r\n     <g id=\"text_9\">\r\n      <!-- 800 -->\r\n      <g transform=\"translate(13.5625 175.865104)scale(0.1 -0.1)\">\r\n       <defs>\r\n        <path d=\"M 31.78125 34.625 \r\nQ 24.75 34.625 20.71875 30.859375 \r\nQ 16.703125 27.09375 16.703125 20.515625 \r\nQ 16.703125 13.921875 20.71875 10.15625 \r\nQ 24.75 6.390625 31.78125 6.390625 \r\nQ 38.8125 6.390625 42.859375 10.171875 \r\nQ 46.921875 13.96875 46.921875 20.515625 \r\nQ 46.921875 27.09375 42.890625 30.859375 \r\nQ 38.875 34.625 31.78125 34.625 \r\nz\r\nM 21.921875 38.8125 \r\nQ 15.578125 40.375 12.03125 44.71875 \r\nQ 8.5 49.078125 8.5 55.328125 \r\nQ 8.5 64.0625 14.71875 69.140625 \r\nQ 20.953125 74.21875 31.78125 74.21875 \r\nQ 42.671875 74.21875 48.875 69.140625 \r\nQ 55.078125 64.0625 55.078125 55.328125 \r\nQ 55.078125 49.078125 51.53125 44.71875 \r\nQ 48 40.375 41.703125 38.8125 \r\nQ 48.828125 37.15625 52.796875 32.3125 \r\nQ 56.78125 27.484375 56.78125 20.515625 \r\nQ 56.78125 9.90625 50.3125 4.234375 \r\nQ 43.84375 -1.421875 31.78125 -1.421875 \r\nQ 19.734375 -1.421875 13.25 4.234375 \r\nQ 6.78125 9.90625 6.78125 20.515625 \r\nQ 6.78125 27.484375 10.78125 32.3125 \r\nQ 14.796875 37.15625 21.921875 38.8125 \r\nz\r\nM 18.3125 54.390625 \r\nQ 18.3125 48.734375 21.84375 45.5625 \r\nQ 25.390625 42.390625 31.78125 42.390625 \r\nQ 38.140625 42.390625 41.71875 45.5625 \r\nQ 45.3125 48.734375 45.3125 54.390625 \r\nQ 45.3125 60.0625 41.71875 63.234375 \r\nQ 38.140625 66.40625 31.78125 66.40625 \r\nQ 25.390625 66.40625 21.84375 63.234375 \r\nQ 18.3125 60.0625 18.3125 54.390625 \r\nz\r\n\" id=\"DejaVuSans-56\"/>\r\n       </defs>\r\n       <use xlink:href=\"#DejaVuSans-56\"/>\r\n       <use x=\"63.623047\" xlink:href=\"#DejaVuSans-48\"/>\r\n       <use x=\"127.246094\" xlink:href=\"#DejaVuSans-48\"/>\r\n      </g>\r\n     </g>\r\n    </g>\r\n    <g id=\"ytick_6\">\r\n     <g id=\"line2d_10\">\r\n      <g>\r\n       <use style=\"stroke:#000000;stroke-width:0.8;\" x=\"39.65\" xlink:href=\"#mbb5e7c4519\" y=\"212.332552\"/>\r\n      </g>\r\n     </g>\r\n     <g id=\"text_10\">\r\n      <!-- 1000 -->\r\n      <g transform=\"translate(7.2 216.131771)scale(0.1 -0.1)\">\r\n       <defs>\r\n        <path d=\"M 12.40625 8.296875 \r\nL 28.515625 8.296875 \r\nL 28.515625 63.921875 \r\nL 10.984375 60.40625 \r\nL 10.984375 69.390625 \r\nL 28.421875 72.90625 \r\nL 38.28125 72.90625 \r\nL 38.28125 8.296875 \r\nL 54.390625 8.296875 \r\nL 54.390625 0 \r\nL 12.40625 0 \r\nz\r\n\" id=\"DejaVuSans-49\"/>\r\n       </defs>\r\n       <use xlink:href=\"#DejaVuSans-49\"/>\r\n       <use x=\"63.623047\" xlink:href=\"#DejaVuSans-48\"/>\r\n       <use x=\"127.246094\" xlink:href=\"#DejaVuSans-48\"/>\r\n       <use x=\"190.869141\" xlink:href=\"#DejaVuSans-48\"/>\r\n      </g>\r\n     </g>\r\n    </g>\r\n   </g>\r\n   <g id=\"patch_3\">\r\n    <path d=\"M 39.65 228.338552 \r\nL 39.65 10.898552 \r\n\" style=\"fill:none;stroke:#000000;stroke-linecap:square;stroke-linejoin:miter;stroke-width:0.8;\"/>\r\n   </g>\r\n   <g id=\"patch_4\">\r\n    <path d=\"M 200.716667 228.338552 \r\nL 200.716667 10.898552 \r\n\" style=\"fill:none;stroke:#000000;stroke-linecap:square;stroke-linejoin:miter;stroke-width:0.8;\"/>\r\n   </g>\r\n   <g id=\"patch_5\">\r\n    <path d=\"M 39.65 228.338552 \r\nL 200.716667 228.338552 \r\n\" style=\"fill:none;stroke:#000000;stroke-linecap:square;stroke-linejoin:miter;stroke-width:0.8;\"/>\r\n   </g>\r\n   <g id=\"patch_6\">\r\n    <path d=\"M 39.65 10.898552 \r\nL 200.716667 10.898552 \r\n\" style=\"fill:none;stroke:#000000;stroke-linecap:square;stroke-linejoin:miter;stroke-width:0.8;\"/>\r\n   </g>\r\n  </g>\r\n </g>\r\n <defs>\r\n  <clipPath id=\"pde83e8ed3a\">\r\n   <rect height=\"217.44\" width=\"161.066667\" x=\"39.65\" y=\"10.898552\"/>\r\n  </clipPath>\r\n </defs>\r\n</svg>\r\n",
      "image/png": "[encoded data removed]"
     },
     "metadata": {
      "needs_background": "light"
     }
    }
   ],
   "source": [
    "palette = torch.tensor([2 ** 25 - 1, 2 ** 15 - 1, 2 ** 21 - 1])\n",
    "colors = torch.as_tensor([i for i in range(21)])[:, None] * palette\n",
    "colors = (colors % 255).numpy().astype(\"uint8\")\n",
    "\n",
    "# plot the semantic segmentation predictions of 21 classes in each color\n",
    "r = Image.fromarray(output_predictions.byte().cpu().numpy()).resize(input_image.size)\n",
    "r.putpalette(colors)\n",
    "\n",
    "plt.imshow(r)\n"
   ]
  },
  {
   "cell_type": "code",
   "execution_count": 90,
   "metadata": {},
   "outputs": [
    {
     "output_type": "stream",
     "name": "stdout",
     "text": [
      "tensor([-1.2926, -0.9919, -0.9192], requires_grad=True) tensor([0., 1., 0.])\n"
     ]
    }
   ],
   "source": [
    "from torch import nn\n",
    "m = nn.Sigmoid()\n",
    "loss = nn.BCELoss()\n",
    "input = torch.randn(3, requires_grad=True)\n",
    "target = torch.empty(3).random_(2)\n",
    "output = loss(m(input), target)\n",
    "output.backward()\n",
    "print(input,target)"
   ]
  },
  {
   "cell_type": "code",
   "execution_count": 94,
   "metadata": {},
   "outputs": [
    {
     "output_type": "execute_result",
     "data": {
      "text/plain": [
       "tensor(0.6285, grad_fn=<BinaryCrossEntropyBackward>)"
      ]
     },
     "metadata": {},
     "execution_count": 94
    }
   ],
   "source": [
    "output"
   ]
  },
  {
   "cell_type": "code",
   "execution_count": 71,
   "metadata": {},
   "outputs": [
    {
     "output_type": "execute_result",
     "data": {
      "text/plain": [
       "-0.04858735157374214"
      ]
     },
     "metadata": {},
     "execution_count": 71
    }
   ],
   "source": [
    "from math import e\n",
    "def softmax(x):\n",
    "    a=pow(e,-x)\n",
    "    return 1.0/(1+a)\n",
    "from math import log\n",
    "log(softmax(3))"
   ]
  },
  {
   "cell_type": "code",
   "execution_count": 77,
   "metadata": {},
   "outputs": [
    {
     "output_type": "stream",
     "name": "stdout",
     "text": [
      "x,y:0.0, -0.69\nx,y:0.0, -0.69\nx,y:0.0, -0.69\nx,y:0.0, -0.69\nx,y:0.0, -0.69\nx,y:0.0, -0.69\nx,y:0.0, -0.69\nx,y:0.0, -0.69\nx,y:0.0, -0.69\nx,y:0.0, -0.69\n"
     ]
    }
   ],
   "source": [
    "for i in range(10):\n",
    "    x=i/1000.\n",
    "    y=log(softmax(x))\n",
    "    print(\"x,y:{:.1f}, {:.2f}\".format(x,y))"
   ]
  },
  {
   "cell_type": "code",
   "execution_count": 5,
   "metadata": {},
   "outputs": [
    {
     "output_type": "stream",
     "name": "stdout",
     "text": [
      "tensor([1, 9, 2, 2, 9, 1, 6, 3, 3, 9])\n"
     ]
    }
   ],
   "source": [
    "import torch\n",
    "\n",
    "target = torch.randint(0, 10, (10,))\n",
    "one_hot = torch.nn.functional.one_hot(target)\n",
    "print(target)"
   ]
  },
  {
   "cell_type": "code",
   "execution_count": 23,
   "metadata": {},
   "outputs": [
    {
     "output_type": "stream",
     "name": "stdout",
     "text": [
      "tensor([2, 3, 1])\ntensor([[0, 0, 1, 0, 0, 0, 0, 0],\n        [0, 0, 0, 1, 0, 0, 0, 0],\n        [0, 1, 0, 0, 0, 0, 0, 0]])\n"
     ]
    }
   ],
   "source": [
    "import numpy as np\n",
    "label=np.asarray([2,3,1])\n",
    "label=torch.from_numpy(label)\n",
    "label=label.to(torch.int64)\n",
    "print(label)\n",
    "label_one_hot=torch.nn.functional.one_hot(label,8)\n",
    "print(label_one_hot)"
   ]
  },
  {
   "cell_type": "code",
   "execution_count": 64,
   "metadata": {},
   "outputs": [
    {
     "output_type": "stream",
     "name": "stdout",
     "text": [
      "a: [[0.94 0.1  0.16]\n [0.72 0.44 0.41]\n [0.45 0.06 0.84]]\nb: [[0.02 0.97 0.5 ]\n [0.69 0.75 0.  ]\n [0.94 0.59 0.32]]\nx: [[[0.94 0.02]\n  [0.1  0.97]\n  [0.16 0.5 ]]\n\n [[0.72 0.69]\n  [0.44 0.75]\n  [0.41 0.  ]]\n\n [[0.45 0.94]\n  [0.06 0.59]\n  [0.84 0.32]]]\n(3, 3, 2)\nx_0 and a [[0.94 0.1  0.16]\n [0.72 0.44 0.41]\n [0.45 0.06 0.84]]\n[[0.94 0.1  0.16]\n [0.72 0.44 0.41]\n [0.45 0.06 0.84]]\n"
     ]
    }
   ],
   "source": [
    "a=np.random.random((3,3))\n",
    "b=np.random.random((3,3))\n",
    "x=np.array([a,b])\n",
    "x=np.einsum('ijk->jki',x)\n",
    "np.set_printoptions(precision=2)\n",
    "print(\"a:\",a)\n",
    "print(\"b:\",b)\n",
    "print(\"x:\",x)\n",
    "print(x.shape)\n",
    "print(\"x_0 and a\",x[:,:,0])\n",
    "print(a)\n"
   ]
  },
  {
   "cell_type": "code",
   "execution_count": 84,
   "metadata": {},
   "outputs": [
    {
     "output_type": "execute_result",
     "data": {
      "text/plain": [
       "tensor([[0.9438, 0.0242],\n",
       "        [0.0952, 0.9732],\n",
       "        [0.1616, 0.5026],\n",
       "        [0.7232, 0.6908],\n",
       "        [0.4419, 0.7470],\n",
       "        [0.4075, 0.0018],\n",
       "        [0.4537, 0.9363],\n",
       "        [0.0585, 0.5896],\n",
       "        [0.8439, 0.3201]], dtype=torch.float64)"
      ]
     },
     "metadata": {},
     "execution_count": 84
    }
   ],
   "source": [
    "predicted=np.reshape(x,[-1,2])\n",
    "predicted=torch.from_numpy(predicted)\n",
    "predicted\n"
   ]
  },
  {
   "cell_type": "code",
   "execution_count": 78,
   "metadata": {},
   "outputs": [
    {
     "output_type": "execute_result",
     "data": {
      "text/plain": [
       "array([0., 1., 0., 1., 1., 0., 0., 1., 0.])"
      ]
     },
     "metadata": {},
     "execution_count": 78
    }
   ],
   "source": [
    "label=np.array([[0., 1., 0.],\n",
    "       [1., 1., 0.],\n",
    "       [0., 1., 0.]])\n",
    "label=np.reshape(label,(-1,))\n",
    "label"
   ]
  },
  {
   "cell_type": "code",
   "execution_count": 79,
   "metadata": {},
   "outputs": [
    {
     "output_type": "execute_result",
     "data": {
      "text/plain": [
       "tensor([[1, 0],\n",
       "        [0, 1],\n",
       "        [1, 0],\n",
       "        [0, 1],\n",
       "        [0, 1],\n",
       "        [1, 0],\n",
       "        [1, 0],\n",
       "        [0, 1],\n",
       "        [1, 0]])"
      ]
     },
     "metadata": {},
     "execution_count": 79
    }
   ],
   "source": [
    "label=torch.from_numpy(label)\n",
    "label=label.to(torch.int64)\n",
    "label_o=torch.nn.functional.one_hot(label,2)\n",
    "label_o"
   ]
  },
  {
   "cell_type": "code",
   "execution_count": 87,
   "metadata": {},
   "outputs": [
    {
     "output_type": "execute_result",
     "data": {
      "text/plain": [
       "tensor([[1., 0.],\n",
       "        [0., 1.],\n",
       "        [1., 0.],\n",
       "        [0., 1.],\n",
       "        [0., 1.],\n",
       "        [1., 0.],\n",
       "        [1., 0.],\n",
       "        [0., 1.],\n",
       "        [1., 0.]])"
      ]
     },
     "metadata": {},
     "execution_count": 87
    }
   ],
   "source": [
    "label_o.to(torch.float)"
   ]
  },
  {
   "cell_type": "code",
   "execution_count": 85,
   "metadata": {},
   "outputs": [
    {
     "output_type": "stream",
     "name": "stdout",
     "text": [
      "torch.Size([9, 2])\ntorch.Size([9, 2])\n"
     ]
    }
   ],
   "source": [
    "print(label_o.shape)\n",
    "print(predicted.shape)"
   ]
  },
  {
   "cell_type": "code",
   "execution_count": 93,
   "metadata": {},
   "outputs": [
    {
     "output_type": "execute_result",
     "data": {
      "text/plain": [
       "tensor([0.9438, 0.0242], dtype=torch.float64)"
      ]
     },
     "metadata": {},
     "execution_count": 93
    }
   ],
   "source": [
    "label_o[0]\n",
    "predicted[0]"
   ]
  },
  {
   "cell_type": "code",
   "execution_count": 92,
   "metadata": {},
   "outputs": [
    {
     "output_type": "error",
     "ename": "IndexError",
     "evalue": "Dimension out of range (expected to be in range of [-1, 0], but got 1)",
     "traceback": [
      "\u001b[1;31m---------------------------------------------------------------------------\u001b[0m",
      "\u001b[1;31mIndexError\u001b[0m                                Traceback (most recent call last)",
      "\u001b[1;32m<ipython-input-92-1819dac8213f>\u001b[0m in \u001b[0;36m<module>\u001b[1;34m\u001b[0m\n\u001b[0;32m      1\u001b[0m \u001b[0mloss\u001b[0m\u001b[1;33m=\u001b[0m\u001b[0mtorch\u001b[0m\u001b[1;33m.\u001b[0m\u001b[0mnn\u001b[0m\u001b[1;33m.\u001b[0m\u001b[0mCrossEntropyLoss\u001b[0m\u001b[1;33m(\u001b[0m\u001b[1;33m)\u001b[0m\u001b[1;33m\u001b[0m\u001b[1;33m\u001b[0m\u001b[0m\n\u001b[1;32m----> 2\u001b[1;33m \u001b[0moutput\u001b[0m\u001b[1;33m=\u001b[0m\u001b[0mloss\u001b[0m\u001b[1;33m(\u001b[0m\u001b[0mpredicted\u001b[0m\u001b[1;33m[\u001b[0m\u001b[1;36m0\u001b[0m\u001b[1;33m]\u001b[0m\u001b[1;33m,\u001b[0m\u001b[0mlabel_o\u001b[0m\u001b[1;33m[\u001b[0m\u001b[1;36m0\u001b[0m\u001b[1;33m]\u001b[0m\u001b[1;33m)\u001b[0m\u001b[1;33m\u001b[0m\u001b[1;33m\u001b[0m\u001b[0m\n\u001b[0m\u001b[0;32m      3\u001b[0m \u001b[0moutput\u001b[0m\u001b[1;33m\u001b[0m\u001b[1;33m\u001b[0m\u001b[0m\n",
      "\u001b[1;32m~\\Anaconda3\\envs\\deeplabtorch\\lib\\site-packages\\torch\\nn\\modules\\module.py\u001b[0m in \u001b[0;36m_call_impl\u001b[1;34m(self, *input, **kwargs)\u001b[0m\n\u001b[0;32m    725\u001b[0m             \u001b[0mresult\u001b[0m \u001b[1;33m=\u001b[0m \u001b[0mself\u001b[0m\u001b[1;33m.\u001b[0m\u001b[0m_slow_forward\u001b[0m\u001b[1;33m(\u001b[0m\u001b[1;33m*\u001b[0m\u001b[0minput\u001b[0m\u001b[1;33m,\u001b[0m \u001b[1;33m**\u001b[0m\u001b[0mkwargs\u001b[0m\u001b[1;33m)\u001b[0m\u001b[1;33m\u001b[0m\u001b[1;33m\u001b[0m\u001b[0m\n\u001b[0;32m    726\u001b[0m         \u001b[1;32melse\u001b[0m\u001b[1;33m:\u001b[0m\u001b[1;33m\u001b[0m\u001b[1;33m\u001b[0m\u001b[0m\n\u001b[1;32m--> 727\u001b[1;33m             \u001b[0mresult\u001b[0m \u001b[1;33m=\u001b[0m \u001b[0mself\u001b[0m\u001b[1;33m.\u001b[0m\u001b[0mforward\u001b[0m\u001b[1;33m(\u001b[0m\u001b[1;33m*\u001b[0m\u001b[0minput\u001b[0m\u001b[1;33m,\u001b[0m \u001b[1;33m**\u001b[0m\u001b[0mkwargs\u001b[0m\u001b[1;33m)\u001b[0m\u001b[1;33m\u001b[0m\u001b[1;33m\u001b[0m\u001b[0m\n\u001b[0m\u001b[0;32m    728\u001b[0m         for hook in itertools.chain(\n\u001b[0;32m    729\u001b[0m                 \u001b[0m_global_forward_hooks\u001b[0m\u001b[1;33m.\u001b[0m\u001b[0mvalues\u001b[0m\u001b[1;33m(\u001b[0m\u001b[1;33m)\u001b[0m\u001b[1;33m,\u001b[0m\u001b[1;33m\u001b[0m\u001b[1;33m\u001b[0m\u001b[0m\n",
      "\u001b[1;32m~\\Anaconda3\\envs\\deeplabtorch\\lib\\site-packages\\torch\\nn\\modules\\loss.py\u001b[0m in \u001b[0;36mforward\u001b[1;34m(self, input, target)\u001b[0m\n\u001b[0;32m    959\u001b[0m \u001b[1;33m\u001b[0m\u001b[0m\n\u001b[0;32m    960\u001b[0m     \u001b[1;32mdef\u001b[0m \u001b[0mforward\u001b[0m\u001b[1;33m(\u001b[0m\u001b[0mself\u001b[0m\u001b[1;33m,\u001b[0m \u001b[0minput\u001b[0m\u001b[1;33m:\u001b[0m \u001b[0mTensor\u001b[0m\u001b[1;33m,\u001b[0m \u001b[0mtarget\u001b[0m\u001b[1;33m:\u001b[0m \u001b[0mTensor\u001b[0m\u001b[1;33m)\u001b[0m \u001b[1;33m->\u001b[0m \u001b[0mTensor\u001b[0m\u001b[1;33m:\u001b[0m\u001b[1;33m\u001b[0m\u001b[1;33m\u001b[0m\u001b[0m\n\u001b[1;32m--> 961\u001b[1;33m         return F.cross_entropy(input, target, weight=self.weight,\n\u001b[0m\u001b[0;32m    962\u001b[0m                                ignore_index=self.ignore_index, reduction=self.reduction)\n\u001b[0;32m    963\u001b[0m \u001b[1;33m\u001b[0m\u001b[0m\n",
      "\u001b[1;32m~\\Anaconda3\\envs\\deeplabtorch\\lib\\site-packages\\torch\\nn\\functional.py\u001b[0m in \u001b[0;36mcross_entropy\u001b[1;34m(input, target, weight, size_average, ignore_index, reduce, reduction)\u001b[0m\n\u001b[0;32m   2466\u001b[0m     \u001b[1;32mif\u001b[0m \u001b[0msize_average\u001b[0m \u001b[1;32mis\u001b[0m \u001b[1;32mnot\u001b[0m \u001b[1;32mNone\u001b[0m \u001b[1;32mor\u001b[0m \u001b[0mreduce\u001b[0m \u001b[1;32mis\u001b[0m \u001b[1;32mnot\u001b[0m \u001b[1;32mNone\u001b[0m\u001b[1;33m:\u001b[0m\u001b[1;33m\u001b[0m\u001b[1;33m\u001b[0m\u001b[0m\n\u001b[0;32m   2467\u001b[0m         \u001b[0mreduction\u001b[0m \u001b[1;33m=\u001b[0m \u001b[0m_Reduction\u001b[0m\u001b[1;33m.\u001b[0m\u001b[0mlegacy_get_string\u001b[0m\u001b[1;33m(\u001b[0m\u001b[0msize_average\u001b[0m\u001b[1;33m,\u001b[0m \u001b[0mreduce\u001b[0m\u001b[1;33m)\u001b[0m\u001b[1;33m\u001b[0m\u001b[1;33m\u001b[0m\u001b[0m\n\u001b[1;32m-> 2468\u001b[1;33m     \u001b[1;32mreturn\u001b[0m \u001b[0mnll_loss\u001b[0m\u001b[1;33m(\u001b[0m\u001b[0mlog_softmax\u001b[0m\u001b[1;33m(\u001b[0m\u001b[0minput\u001b[0m\u001b[1;33m,\u001b[0m \u001b[1;36m1\u001b[0m\u001b[1;33m)\u001b[0m\u001b[1;33m,\u001b[0m \u001b[0mtarget\u001b[0m\u001b[1;33m,\u001b[0m \u001b[0mweight\u001b[0m\u001b[1;33m,\u001b[0m \u001b[1;32mNone\u001b[0m\u001b[1;33m,\u001b[0m \u001b[0mignore_index\u001b[0m\u001b[1;33m,\u001b[0m \u001b[1;32mNone\u001b[0m\u001b[1;33m,\u001b[0m \u001b[0mreduction\u001b[0m\u001b[1;33m)\u001b[0m\u001b[1;33m\u001b[0m\u001b[1;33m\u001b[0m\u001b[0m\n\u001b[0m\u001b[0;32m   2469\u001b[0m \u001b[1;33m\u001b[0m\u001b[0m\n\u001b[0;32m   2470\u001b[0m \u001b[1;33m\u001b[0m\u001b[0m\n",
      "\u001b[1;32m~\\Anaconda3\\envs\\deeplabtorch\\lib\\site-packages\\torch\\nn\\functional.py\u001b[0m in \u001b[0;36mlog_softmax\u001b[1;34m(input, dim, _stacklevel, dtype)\u001b[0m\n\u001b[0;32m   1603\u001b[0m         \u001b[0mdim\u001b[0m \u001b[1;33m=\u001b[0m \u001b[0m_get_softmax_dim\u001b[0m\u001b[1;33m(\u001b[0m\u001b[1;34m'log_softmax'\u001b[0m\u001b[1;33m,\u001b[0m \u001b[0minput\u001b[0m\u001b[1;33m.\u001b[0m\u001b[0mdim\u001b[0m\u001b[1;33m(\u001b[0m\u001b[1;33m)\u001b[0m\u001b[1;33m,\u001b[0m \u001b[0m_stacklevel\u001b[0m\u001b[1;33m)\u001b[0m\u001b[1;33m\u001b[0m\u001b[1;33m\u001b[0m\u001b[0m\n\u001b[0;32m   1604\u001b[0m     \u001b[1;32mif\u001b[0m \u001b[0mdtype\u001b[0m \u001b[1;32mis\u001b[0m \u001b[1;32mNone\u001b[0m\u001b[1;33m:\u001b[0m\u001b[1;33m\u001b[0m\u001b[1;33m\u001b[0m\u001b[0m\n\u001b[1;32m-> 1605\u001b[1;33m         \u001b[0mret\u001b[0m \u001b[1;33m=\u001b[0m \u001b[0minput\u001b[0m\u001b[1;33m.\u001b[0m\u001b[0mlog_softmax\u001b[0m\u001b[1;33m(\u001b[0m\u001b[0mdim\u001b[0m\u001b[1;33m)\u001b[0m\u001b[1;33m\u001b[0m\u001b[1;33m\u001b[0m\u001b[0m\n\u001b[0m\u001b[0;32m   1606\u001b[0m     \u001b[1;32melse\u001b[0m\u001b[1;33m:\u001b[0m\u001b[1;33m\u001b[0m\u001b[1;33m\u001b[0m\u001b[0m\n\u001b[0;32m   1607\u001b[0m         \u001b[0mret\u001b[0m \u001b[1;33m=\u001b[0m \u001b[0minput\u001b[0m\u001b[1;33m.\u001b[0m\u001b[0mlog_softmax\u001b[0m\u001b[1;33m(\u001b[0m\u001b[0mdim\u001b[0m\u001b[1;33m,\u001b[0m \u001b[0mdtype\u001b[0m\u001b[1;33m=\u001b[0m\u001b[0mdtype\u001b[0m\u001b[1;33m)\u001b[0m\u001b[1;33m\u001b[0m\u001b[1;33m\u001b[0m\u001b[0m\n",
      "\u001b[1;31mIndexError\u001b[0m: Dimension out of range (expected to be in range of [-1, 0], but got 1)"
     ]
    }
   ],
   "source": [
    "loss=torch.nn.CrossEntropyLoss()\n",
    "output=loss(predicted[0],label_o[0])\n",
    "output"
   ]
  },
  {
   "cell_type": "code",
   "execution_count": null,
   "metadata": {},
   "outputs": [],
   "source": [
    "CAT, NOT CAT\n",
    "LABEL=CAT:  [1 0]\n",
    "OR Y=1\n"
   ]
  },
  {
   "cell_type": "code",
   "execution_count": 111,
   "metadata": {},
   "outputs": [
    {
     "output_type": "stream",
     "name": "stdout",
     "text": [
      "[100 105] [2.6881171418161212e+43, 3.989519570547194e+45] (0.006692850924284857, 0.993307149075715) [1.0, 1.0]\n"
     ]
    },
    {
     "output_type": "execute_result",
     "data": {
      "text/plain": [
       "5.006715348489118"
      ]
     },
     "metadata": {},
     "execution_count": 111
    }
   ],
   "source": [
    "x=np.array([100,105])\n",
    "from math import e,log\n",
    "t=[pow(e,x[0]),pow(e,x[1])]\n",
    "sft=(t[0]/(t[0]+t[1]),t[1]/(t[0]+t[1]))\n",
    "sig=[1/(1+pow(e,-x[0])),1/(1+pow(e,-x[1]))]\n",
    "print(x,t,sft,sig)\n",
    "label=[1,0]\n",
    "sftloss=-log(sft[0])\n",
    "sftloss"
   ]
  },
  {
   "cell_type": "code",
   "execution_count": 114,
   "metadata": {},
   "outputs": [
    {
     "output_type": "execute_result",
     "data": {
      "text/plain": [
       "1.0261879630648841e-10"
      ]
     },
     "metadata": {},
     "execution_count": 114
    }
   ],
   "source": [
    "x=-23\n",
    "sig=1./(1+pow(e,-x))\n",
    "sig"
   ]
  },
  {
   "cell_type": "code",
   "execution_count": 115,
   "metadata": {},
   "outputs": [
    {
     "output_type": "execute_result",
     "data": {
      "text/plain": [
       "23.000000000102617"
      ]
     },
     "metadata": {},
     "execution_count": 115
    }
   ],
   "source": [
    "label=[1,0]\n",
    "sftloss=-log(sig)\n",
    "sftloss"
   ]
  },
  {
   "cell_type": "code",
   "execution_count": 110,
   "metadata": {},
   "outputs": [
    {
     "output_type": "execute_result",
     "data": {
      "text/plain": [
       "-0.0"
      ]
     },
     "metadata": {},
     "execution_count": 110
    }
   ],
   "source": [
    "sigloss=-log(1)\n",
    "sigloss"
   ]
  },
  {
   "cell_type": "code",
   "execution_count": null,
   "metadata": {},
   "outputs": [],
   "source": [
    "-ylogy+(Y-1)LOG(1-Y)"
   ]
  },
  {
   "cell_type": "code",
   "execution_count": 117,
   "metadata": {},
   "outputs": [],
   "source": [
    "masks=np.array([[[0., 0., 0.],\n",
    "                 [0., 1., 1.],\n",
    "                 [0., 1., 1.]]])\n"
   ]
  },
  {
   "cell_type": "code",
   "execution_count": null,
   "metadata": {},
   "outputs": [],
   "source": [
    "mas"
   ]
  },
  {
   "cell_type": "code",
   "execution_count": 147,
   "metadata": {},
   "outputs": [
    {
     "output_type": "execute_result",
     "data": {
      "text/plain": [
       "tensor([[[0., 0., 0.],\n",
       "         [0., 1., 1.],\n",
       "         [0., 1., 1.]],\n",
       "\n",
       "        [[0., 0., 0.],\n",
       "         [0., 1., 1.],\n",
       "         [0., 1., 1.]]], dtype=torch.float64)"
      ]
     },
     "metadata": {},
     "execution_count": 147
    }
   ],
   "source": [
    "#BCE loss test\n",
    "masks=np.array([[[0., 0., 0.],\n",
    "                 [0., 255., 255.],\n",
    "                 [0., 255., 255.]],[[0., 0., 0.],\n",
    "                 [0., 1., 1.],\n",
    "                 [0., 1., 1.]]])\n",
    "\n",
    "outputs=np.array([[[-180., -180., -180.],\n",
    "                 [-1800., 118.6, 118.],\n",
    "                 [-1800., 118.,118.]],[[-180., -180., -180.],\n",
    "                 [-1800., 118.6, 118.],\n",
    "                 [-1800., 118.,118.]]])\n",
    "\n",
    "masks=torch.from_numpy(masks)\n",
    "outputs=torch.from_numpy(outputs)\n",
    "masks[masks>0]=1\n",
    "masks"
   ]
  },
  {
   "cell_type": "code",
   "execution_count": null,
   "metadata": {},
   "outputs": [],
   "source": []
  },
  {
   "cell_type": "code",
   "execution_count": 148,
   "metadata": {},
   "outputs": [
    {
     "output_type": "execute_result",
     "data": {
      "text/plain": [
       "tensor(0., dtype=torch.float64)"
      ]
     },
     "metadata": {},
     "execution_count": 148
    }
   ],
   "source": [
    "from torch import nn\n",
    "criterion=nn.BCELoss()\n",
    "m=nn.Sigmoid()\n",
    "loss=criterion(m(outputs),masks)\n",
    "loss"
   ]
  },
  {
   "cell_type": "code",
   "execution_count": 211,
   "metadata": {},
   "outputs": [
    {
     "output_type": "execute_result",
     "data": {
      "text/plain": [
       "    ('classifier.2.running_mean',\n",
       "              tensor([ 0.2493,  0.3785,  0.0542, -0.7537, -0.8445, -0.7756, -0.7442, -0.2267,\n",
       "                       0.3372,  0.5637,  0.2993,  0.0152, -0.1460,  0.1442, -0.7012, -0.2675,\n",
       "                       0.1022,  0.4633, -0.6350, -0.7013, -0.7391,  0.4017, -0.9174, -0.0569,\n",
       "                       0.3910, -0.8442, -1.0985,  0.2245, -0.0084, -0.7785,  0.1254, -0.0696,\n",
       "                      -0.4547,  0.2573,  0.0598,  0.1585,  0.3817,  0.3086, -0.8183, -0.1330,\n",
       "                       0.2252, -0.1102, -0.1587,  0.2946,  0.1857, -0.1123,  0.2242, -0.7811,\n",
       "                       0.4505, -0.8303, -0.8702,  0.2993,  0.3612, -0.0812,  0.3936,  0.0218,\n",
       "                       0.2167, -0.3032,  0.3540,  0.0552,  0.0111, -0.8598,  0.4100, -1.1322,\n",
       "                       0.0690, -0.4015,  0.1533,  0.2846,  0.3584,  0.2687, -0.3716,  0.1222,\n",
       "                      -1.1565, -1.0495,  0.3386,  0.0166, -0.0724, -1.0130, -0.1517, -0.5715,\n",
       "                      -0.6237,  0.3454,  0.1919,  0.2642,  0.0358, -0.9336, -0.0913, -0.3090,\n",
       "                       0.2019, -0.1527, -1.0421, -1.1353,  0.2539, -0.3622,  0.0572,  0.5579,\n",
       "                       0.1574,  0.1967, -0.3740, -0.9696,  0.2571,  0.3152,  0.5116,  0.4832,\n",
       "                       0.0608,  0.2750, -0.9228,  0.2851, -1.1085, -0.0489,  0.4502, -0.6884,\n",
       "                       0.4036, -0.1677,  0.2173, -0.8095,  0.2166, -0.2682,  0.0980,  0.1489,\n",
       "                       0.0432, -1.0069, -0.1431, -0.8412, -0.5187,  0.3391,  0.3415,  0.2582,\n",
       "                       0.4123,  0.5384, -0.0278,  0.2239,  0.4270,  0.5089, -0.0274, -0.5805,\n",
       "                      -0.9926, -0.9407,  0.0074,  0.1883,  0.1811,  0.1385,  0.3356, -0.1956,\n",
       "                      -0.1021, -0.2097,  0.2463,  0.0911,  0.2159,  0.4034,  0.1951,  0.1073,\n",
       "                      -0.5142,  0.2478, -0.3864, -0.6542,  0.1122, -0.7738,  0.0829, -0.1791,\n",
       "                       0.4823, -0.0972,  0.3094, -0.1317,  0.4333,  0.3700, -1.0605,  0.1684,\n",
       "                      -0.9399,  0.0595, -0.9697, -0.7544,  0.1768, -1.5079, -0.2224,  0.3360,\n",
       "                      -0.1108,  0.2590,  0.0694, -0.2517,  0.2314,  0.4584,  0.0808, -0.4963,\n",
       "                       0.0560, -0.3478,  0.0810,  0.0289, -0.1043,  0.3087, -0.7054, -1.0249,\n",
       "                       0.2804,  0.1495, -0.5294, -0.2494, -0.6280,  0.0455, -0.0160,  0.1480,\n",
       "                       0.1528,  0.3299, -0.8018,  0.0068,  0.2555,  0.0675,  0.5757,  0.6042,\n",
       "                       0.3381,  0.0651,  0.3154,  0.2292,  0.4695, -1.0279,  0.3838, -0.5674,\n",
       "                      -1.0171,  0.2270, -0.2772, -1.2810,  0.2147,  0.2811, -0.0494, -0.6488,\n",
       "                      -0.4041,  0.2712,  0.4730,  0.1012, -0.3485, -1.1384, -0.9547,  0.2274,\n",
       "                       0.3777,  0.3162, -0.5581,  0.0840,  0.0436,  0.5172,  0.1422, -0.8516,\n",
       "                      -0.3759,  0.1543, -0.9140, -0.2643, -1.2336, -0.9597, -0.9082, -0.9481,\n",
       "                      -0.6395, -0.8613, -0.7257, -0.0933,  0.3075,  0.4220,  0.2007,  0.2563])),\n",
       "             ('classifier.2.running_var',\n",
       "              tensor([4.0669, 3.6636, 3.1760, 4.8948, 3.6345, 4.2783, 3.1008, 3.7476, 3.3838,\n",
       "                      4.2694, 3.9547, 2.7954, 3.0601, 4.2329, 3.3316, 2.4905, 2.8220, 4.5719,\n",
       "                      3.3623, 3.9184, 2.2524, 3.9475, 3.4746, 2.7176, 4.2506, 1.4031, 4.2711,\n",
       "                      4.0149, 2.5580, 3.0066, 3.9966, 2.8513, 3.0243, 4.1912, 3.5729, 4.0476,\n",
       "                      3.2873, 3.5461, 3.8142, 3.7844, 3.6620, 3.1382, 4.4819, 4.4563, 3.4992,\n",
       "                      2.8262, 3.9647, 3.7200, 3.6208, 3.2788, 4.2345, 3.9460, 3.7773, 2.7998,\n",
       "                      3.4785, 3.4247, 3.6975, 2.4880, 2.6594, 3.3443, 2.9349, 2.2748, 4.3349,\n",
       "                      4.6354, 3.3397, 3.0283, 3.6594, 4.1619, 3.7075, 2.7079, 2.9077, 3.8171,\n",
       "                      3.4292, 2.3377, 3.7306, 2.9105, 3.1513, 4.4797, 3.9817, 3.2286, 2.4344,\n",
       "                      4.0133, 3.9769, 3.8062, 2.6420, 3.5039, 2.4810, 4.4822, 4.5081, 2.1594,\n",
       "                      4.0093, 3.0963, 4.5208, 2.8118, 4.0237, 4.5808, 3.5759, 2.6290, 3.0755,\n",
       "                      3.6447, 3.8333, 3.5453, 3.1290, 3.9399, 2.4048, 3.4286, 3.8665, 4.3413,\n",
       "                      2.6180, 3.5459, 3.9743, 4.1615, 4.1718, 2.8536, 4.2195, 3.5510, 4.0800,\n",
       "                      3.0630, 3.6827, 2.7627, 2.6709, 3.7480, 2.8563, 3.1072, 3.1747, 4.1428,\n",
       "                      4.2986, 3.6844, 3.7934, 4.3588, 3.9843, 4.1484, 4.0539, 3.3134, 4.7184,\n",
       "                      2.3433, 4.3634, 3.9746, 1.7528, 3.9900, 2.8828, 3.3925, 3.0944, 2.8707,\n",
       "                      2.1194, 2.5134, 4.0323, 4.0145, 4.1020, 2.4193, 4.0023, 4.3477, 3.7894,\n",
       "                      3.3735, 3.9071, 2.5942, 2.1100, 3.3532, 3.3730, 1.0463, 3.9687, 2.5515,\n",
       "                      3.9408, 1.1295, 3.8680, 3.0922, 3.4988, 3.2705, 3.3413, 4.7066, 4.4038,\n",
       "                      3.4922, 3.0016, 4.6966, 2.7770, 3.2610, 2.8031, 3.6321, 1.5883, 2.5723,\n",
       "                      4.0524, 4.2567, 3.0687, 3.1154, 3.7816, 1.3263, 3.9525, 3.1393, 2.9291,\n",
       "                      3.5938, 3.2630, 3.2586, 3.2002, 3.6512, 2.3432, 3.9801, 2.6421, 4.0178,\n",
       "                      3.8944, 4.1692, 1.1966, 4.0399, 3.3269, 2.5947, 3.5558, 3.0594, 3.8705,\n",
       "                      3.8770, 3.3736, 4.0154, 4.2849, 3.7400, 4.4497, 3.3421, 4.0639, 1.1017,\n",
       "                      3.5855, 3.5847, 1.6478, 4.9872, 3.5860, 3.9739, 3.0140, 3.7142, 3.2336,\n",
       "                      4.0128, 3.7488, 1.0330, 4.1356, 3.5222, 3.6243, 3.9053, 4.1996, 3.5203,\n",
       "                      3.3969, 4.2082, 2.7286, 4.2293, 3.6680, 3.0615, 4.3982, 3.5072, 1.1665,\n",
       "                      2.5013, 4.6983, 4.0355, 3.7855, 3.3619, 3.4170, 4.1857, 3.8325, 3.9341,\n",
       "                      3.7037, 3.7735, 2.6602, 4.9471])),\n",
       "             ('classifier.2.num_batches_tracked', tensor(240)),\n",
       "             ('classifier.4.weight',\n",
       "              tensor([[[[ 1.1235e-02]],\n",
       "              \n",
       "                       [[ 1.8894e-02]],\n",
       "              \n",
       "                       [[-7.2773e-03]],\n",
       "              \n",
       "                       [[-7.2669e-02]],\n",
       "              \n",
       "                       [[-7.5876e-02]],\n",
       "              \n",
       "                       [[-4.2739e-02]],\n",
       "              \n",
       "                       [[-6.5444e-02]],\n",
       "              \n",
       "                       [[ 3.3198e-02]],\n",
       "              \n",
       "                       [[ 2.2108e-02]],\n",
       "              \n",
       "                       [[ 4.3256e-02]],\n",
       "              \n",
       "                       [[ 5.2534e-02]],\n",
       "              \n",
       "                       [[-7.2288e-02]],\n",
       "              \n",
       "                       [[-4.7327e-02]],\n",
       "              \n",
       "                       [[ 4.1342e-02]],\n",
       "              \n",
       "                       [[-7.4018e-02]],\n",
       "              \n",
       "                       [[-5.0361e-02]],\n",
       "              \n",
       "                       [[-3.5386e-02]],\n",
       "              \n",
       "                       [[ 4.1408e-02]],\n",
       "              \n",
       "                       [[-5.7023e-02]],\n",
       "              \n",
       "                       [[-2.0432e-02]],\n",
       "              \n",
       "                       [[-6.5100e-02]],\n",
       "              \n",
       "                       [[ 4.8725e-02]],\n",
       "              \n",
       "                       [[-3.2024e-02]],\n",
       "              \n",
       "                       [[-5.7157e-02]],\n",
       "              \n",
       "                       [[ 1.7317e-02]],\n",
       "              \n",
       "                       [[-5.9426e-02]],\n",
       "              \n",
       "                       [[-1.8558e-02]],\n",
       "              \n",
       "                       [[ 3.4314e-02]],\n",
       "              \n",
       "                       [[-5.5783e-02]],\n",
       "              \n",
       "                       [[-1.7995e-02]],\n",
       "              \n",
       "                       [[ 4.6727e-02]],\n",
       "              \n",
       "                       [[-4.1419e-02]],\n",
       "              \n",
       "                       [[ 2.7959e-02]],\n",
       "              \n",
       "                       [[ 3.6444e-02]],\n",
       "              \n",
       "                       [[ 1.0675e-02]],\n",
       "              \n",
       "                       [[-9.1966e-03]],\n",
       "              \n",
       "                       [[ 1.4409e-02]],\n",
       "              \n",
       "                       [[ 2.0139e-02]],\n",
       "              \n",
       "                       [[-3.9514e-02]],\n",
       "              \n",
       "                       [[ 6.5419e-03]],\n",
       "              \n",
       "                       [[ 5.4512e-02]],\n",
       "              \n",
       "                       [[-4.9048e-02]],\n",
       "              \n",
       "                       [[ 1.7819e-02]],\n",
       "              \n",
       "                       [[ 5.2644e-02]],\n",
       "              \n",
       "                       [[ 2.1358e-02]],\n",
       "              \n",
       "                       [[-6.0687e-02]],\n",
       "              \n",
       "                       [[ 3.7707e-02]],\n",
       "              \n",
       "                       [[-7.5763e-02]],\n",
       "              \n",
       "                       [[ 1.8654e-02]],\n",
       "              \n",
       "                       [[-3.3554e-02]],\n",
       "              \n",
       "                       [[-6.8619e-02]],\n",
       "              \n",
       "                       [[ 2.0641e-02]],\n",
       "              \n",
       "                       [[ 3.6916e-02]],\n",
       "              \n",
       "                       [[-5.6689e-02]],\n",
       "              \n",
       "                       [[ 9.6595e-03]],\n",
       "              \n",
       "                       [[-5.6151e-02]],\n",
       "              \n",
       "                       [[ 2.7189e-02]],\n",
       "              \n",
       "                       [[-5.8222e-02]],\n",
       "              \n",
       "                       [[ 7.9646e-04]],\n",
       "              \n",
       "                       [[-2.4511e-02]],\n",
       "              \n",
       "                       [[-4.7023e-02]],\n",
       "              \n",
       "                       [[-7.0045e-02]],\n",
       "              \n",
       "                       [[ 4.5198e-02]],\n",
       "              \n",
       "                       [[-1.1877e-02]],\n",
       "              \n",
       "                       [[ 4.3516e-03]],\n",
       "              \n",
       "                       [[-4.2240e-02]],\n",
       "              \n",
       "                       [[ 4.5998e-02]],\n",
       "              \n",
       "                       [[ 3.0181e-02]],\n",
       "              \n",
       "                       [[ 3.8982e-02]],\n",
       "              \n",
       "                       [[-3.4127e-02]],\n",
       "              \n",
       "                       [[-4.1027e-02]],\n",
       "              \n",
       "                       [[ 5.0657e-02]],\n",
       "              \n",
       "                       [[-4.6565e-02]],\n",
       "              \n",
       "                       [[-6.4195e-02]],\n",
       "              \n",
       "                       [[ 7.8250e-03]],\n",
       "              \n",
       "                       [[-5.3351e-02]],\n",
       "              \n",
       "                       [[-6.6185e-02]],\n",
       "              \n",
       "                       [[-2.0077e-02]],\n",
       "              \n",
       "                       [[ 1.4425e-02]],\n",
       "              \n",
       "                       [[-4.8547e-02]],\n",
       "              \n",
       "                       [[-5.9796e-02]],\n",
       "              \n",
       "                       [[ 4.6636e-02]],\n",
       "              \n",
       "                       [[ 5.3721e-02]],\n",
       "              \n",
       "                       [[ 1.7433e-02]],\n",
       "              \n",
       "                       [[-5.9006e-03]],\n",
       "              \n",
       "                       [[-3.6555e-02]],\n",
       "              \n",
       "                       [[-3.2454e-02]],\n",
       "              \n",
       "                       [[ 5.0156e-02]],\n",
       "              \n",
       "                       [[ 5.5723e-02]],\n",
       "              \n",
       "                       [[-7.0863e-02]],\n",
       "              \n",
       "                       [[-2.0037e-02]],\n",
       "              \n",
       "                       [[-3.7297e-02]],\n",
       "              \n",
       "                       [[ 4.3129e-02]],\n",
       "              \n",
       "                       [[-4.7309e-02]],\n",
       "              \n",
       "                       [[-1.5557e-02]],\n",
       "              \n",
       "                       [[ 5.3019e-02]],\n",
       "              \n",
       "                       [[ 5.3036e-02]],\n",
       "              \n",
       "                       [[ 9.9560e-04]],\n",
       "              \n",
       "                       [[-4.0785e-02]],\n",
       "              \n",
       "                       [[-2.9687e-02]],\n",
       "              \n",
       "                       [[ 6.5884e-03]],\n",
       "              \n",
       "                       [[ 1.2130e-02]],\n",
       "              \n",
       "                       [[ 2.7914e-03]],\n",
       "              \n",
       "                       [[ 1.1934e-02]],\n",
       "              \n",
       "                       [[-4.6100e-02]],\n",
       "              \n",
       "                       [[ 3.1981e-02]],\n",
       "              \n",
       "                       [[-7.5131e-02]],\n",
       "              \n",
       "                       [[ 1.9933e-02]],\n",
       "              \n",
       "                       [[-2.5038e-02]],\n",
       "              \n",
       "                       [[-5.2048e-02]],\n",
       "              \n",
       "                       [[ 2.7191e-02]],\n",
       "              \n",
       "                       [[-5.7921e-02]],\n",
       "              \n",
       "                       [[ 5.5091e-02]],\n",
       "              \n",
       "                       [[-6.6734e-02]],\n",
       "              \n",
       "                       [[ 1.9581e-02]],\n",
       "              \n",
       "                       [[-7.3112e-02]],\n",
       "              \n",
       "                       [[ 5.1054e-02]],\n",
       "              \n",
       "                       [[-3.1824e-02]],\n",
       "              \n",
       "                       [[ 2.3121e-02]],\n",
       "              \n",
       "                       [[-4.6248e-02]],\n",
       "              \n",
       "                       [[-4.6891e-02]],\n",
       "              \n",
       "                       [[-4.0430e-02]],\n",
       "              \n",
       "                       [[-5.2375e-02]],\n",
       "              \n",
       "                       [[-4.1931e-02]],\n",
       "              \n",
       "                       [[-5.2206e-02]],\n",
       "              \n",
       "                       [[ 4.4157e-02]],\n",
       "              \n",
       "                       [[ 4.3907e-02]],\n",
       "              \n",
       "                       [[ 4.2200e-02]],\n",
       "              \n",
       "                       [[ 1.1693e-02]],\n",
       "              \n",
       "                       [[ 2.5441e-02]],\n",
       "              \n",
       "                       [[-1.3399e-02]],\n",
       "              \n",
       "                       [[ 2.8900e-02]],\n",
       "              \n",
       "                       [[ 4.6733e-02]],\n",
       "              \n",
       "                       [[ 1.8815e-02]],\n",
       "              \n",
       "                       [[-1.2347e-02]],\n",
       "              \n",
       "                       [[-3.8194e-02]],\n",
       "              \n",
       "                       [[-9.5112e-03]],\n",
       "              \n",
       "                       [[-4.3680e-02]],\n",
       "              \n",
       "                       [[-4.7384e-03]],\n",
       "              \n",
       "                       [[ 5.3366e-03]],\n",
       "              \n",
       "                       [[-7.0440e-02]],\n",
       "              \n",
       "                       [[ 6.1651e-03]],\n",
       "              \n",
       "                       [[ 7.5898e-03]],\n",
       "              \n",
       "                       [[ 4.2031e-02]],\n",
       "              \n",
       "                       [[-3.6568e-02]],\n",
       "              \n",
       "                       [[-6.1268e-02]],\n",
       "              \n",
       "                       [[ 2.1315e-02]],\n",
       "              \n",
       "                       [[ 5.6614e-02]],\n",
       "              \n",
       "                       [[ 4.3473e-02]],\n",
       "              \n",
       "                       [[-3.4679e-05]],\n",
       "              \n",
       "                       [[ 3.0501e-02]],\n",
       "              \n",
       "                       [[ 4.7754e-02]],\n",
       "              \n",
       "                       [[-4.2757e-02]],\n",
       "              \n",
       "                       [[ 4.4918e-03]],\n",
       "              \n",
       "                       [[-5.7603e-02]],\n",
       "              \n",
       "                       [[-4.7513e-02]],\n",
       "              \n",
       "                       [[-3.8692e-04]],\n",
       "              \n",
       "                       [[-4.4961e-02]],\n",
       "              \n",
       "                       [[ 4.1463e-03]],\n",
       "              \n",
       "                       [[-2.6144e-02]],\n",
       "              \n",
       "                       [[ 2.9448e-02]],\n",
       "              \n",
       "                       [[-5.4641e-02]],\n",
       "              \n",
       "                       [[ 4.6844e-02]],\n",
       "              \n",
       "                       [[-7.1426e-02]],\n",
       "              \n",
       "                       [[ 2.7395e-02]],\n",
       "              \n",
       "                       [[ 3.7708e-03]],\n",
       "              \n",
       "                       [[-6.0689e-02]],\n",
       "              \n",
       "                       [[-2.1181e-02]],\n",
       "              \n",
       "                       [[-3.3982e-02]],\n",
       "              \n",
       "                       [[-1.2097e-02]],\n",
       "              \n",
       "                       [[-7.3997e-02]],\n",
       "              \n",
       "                       [[-2.4867e-02]],\n",
       "              \n",
       "                       [[ 7.2006e-03]],\n",
       "              \n",
       "                       [[-1.0495e-02]],\n",
       "              \n",
       "                       [[-2.0019e-02]],\n",
       "              \n",
       "                       [[ 6.5240e-03]],\n",
       "              \n",
       "                       [[ 1.8176e-03]],\n",
       "              \n",
       "                       [[ 7.2724e-03]],\n",
       "              \n",
       "                       [[-3.1902e-03]],\n",
       "              \n",
       "                       [[-5.6683e-02]],\n",
       "              \n",
       "                       [[ 1.4416e-02]],\n",
       "              \n",
       "                       [[ 3.8657e-02]],\n",
       "              \n",
       "                       [[-3.9139e-02]],\n",
       "              \n",
       "                       [[-4.2209e-02]],\n",
       "              \n",
       "                       [[ 4.3128e-02]],\n",
       "              \n",
       "                       [[-3.4127e-02]],\n",
       "              \n",
       "                       [[ 3.6954e-02]],\n",
       "              \n",
       "                       [[-3.8638e-02]],\n",
       "              \n",
       "                       [[-4.9175e-02]],\n",
       "              \n",
       "                       [[ 4.3609e-02]],\n",
       "              \n",
       "                       [[-2.4191e-02]],\n",
       "              \n",
       "                       [[-4.0051e-02]],\n",
       "              \n",
       "                       [[-5.7613e-02]],\n",
       "              \n",
       "                       [[ 2.6039e-02]],\n",
       "              \n",
       "                       [[-2.7083e-02]],\n",
       "              \n",
       "                       [[ 6.6117e-03]],\n",
       "              \n",
       "                       [[-5.5056e-02]],\n",
       "              \n",
       "                       [[ 1.1439e-02]],\n",
       "              \n",
       "                       [[ 2.6235e-02]],\n",
       "              \n",
       "                       [[ 4.3205e-02]],\n",
       "              \n",
       "                       [[-3.9487e-03]],\n",
       "              \n",
       "                       [[ 3.1974e-02]],\n",
       "              \n",
       "                       [[-2.2462e-02]],\n",
       "              \n",
       "                       [[-3.7719e-02]],\n",
       "              \n",
       "                       [[ 7.5187e-03]],\n",
       "              \n",
       "                       [[-3.4315e-02]],\n",
       "              \n",
       "                       [[ 1.1404e-02]],\n",
       "              \n",
       "                       [[ 4.2128e-02]],\n",
       "              \n",
       "                       [[ 1.2452e-02]],\n",
       "              \n",
       "                       [[ 4.3304e-02]],\n",
       "              \n",
       "                       [[ 4.6812e-02]],\n",
       "              \n",
       "                       [[ 4.2870e-02]],\n",
       "              \n",
       "                       [[ 1.3316e-02]],\n",
       "              \n",
       "                       [[-5.4567e-02]],\n",
       "              \n",
       "                       [[ 1.9950e-02]],\n",
       "              \n",
       "                       [[-6.7259e-02]],\n",
       "              \n",
       "                       [[-7.4012e-02]],\n",
       "              \n",
       "                       [[ 2.0147e-02]],\n",
       "              \n",
       "                       [[-7.4244e-02]],\n",
       "              \n",
       "                       [[-1.0704e-02]],\n",
       "              \n",
       "                       [[ 1.1525e-02]],\n",
       "              \n",
       "                       [[ 4.6116e-02]],\n",
       "              \n",
       "                       [[-2.0182e-02]],\n",
       "              \n",
       "                       [[-7.3852e-02]],\n",
       "              \n",
       "                       [[-1.4239e-02]],\n",
       "              \n",
       "                       [[ 5.3455e-02]],\n",
       "              \n",
       "                       [[ 1.2758e-02]],\n",
       "              \n",
       "                       [[-3.2452e-03]],\n",
       "              \n",
       "                       [[-1.2181e-02]],\n",
       "              \n",
       "                       [[-2.1957e-02]],\n",
       "              \n",
       "                       [[-5.1999e-02]],\n",
       "              \n",
       "                       [[ 4.3352e-02]],\n",
       "              \n",
       "                       [[ 3.8564e-02]],\n",
       "              \n",
       "                       [[ 5.0307e-02]],\n",
       "              \n",
       "                       [[-2.0002e-02]],\n",
       "              \n",
       "                       [[ 3.2295e-02]],\n",
       "              \n",
       "                       [[ 1.7989e-03]],\n",
       "              \n",
       "                       [[ 4.9031e-02]],\n",
       "              \n",
       "                       [[ 7.3730e-03]],\n",
       "              \n",
       "                       [[-2.7593e-02]],\n",
       "              \n",
       "                       [[-1.3186e-02]],\n",
       "              \n",
       "                       [[ 1.6985e-02]],\n",
       "              \n",
       "                       [[-5.3539e-02]],\n",
       "              \n",
       "                       [[-6.6216e-02]],\n",
       "              \n",
       "                       [[-1.7792e-02]],\n",
       "              \n",
       "                       [[-6.0132e-02]],\n",
       "              \n",
       "                       [[-2.1659e-02]],\n",
       "              \n",
       "                       [[-6.9845e-02]],\n",
       "              \n",
       "                       [[-7.0203e-02]],\n",
       "              \n",
       "                       [[-5.2807e-02]],\n",
       "              \n",
       "                       [[-6.7621e-02]],\n",
       "              \n",
       "                       [[ 1.5241e-02]],\n",
       "              \n",
       "                       [[ 9.4747e-03]],\n",
       "              \n",
       "                       [[ 3.4972e-02]],\n",
       "              \n",
       "                       [[-4.1769e-02]],\n",
       "              \n",
       "                       [[ 5.6310e-02]]]])),\n",
       "             ('classifier.4.bias', tensor([0.0229]))])"
      ]
     },
     "metadata": {},
     "execution_count": 211
    }
   ],
   "source": [
    "tmodel.state_dict()"
   ]
  },
  {
   "cell_type": "code",
   "execution_count": null,
   "metadata": {},
   "outputs": [],
   "source": []
  }
 ]
}
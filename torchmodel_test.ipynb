{
 "metadata": {
  "language_info": {
   "codemirror_mode": {
    "name": "ipython",
    "version": 3
   },
   "file_extension": ".py",
   "mimetype": "text/x-python",
   "name": "python",
   "nbconvert_exporter": "python",
   "pygments_lexer": "ipython3",
   "version": "3.8.5-final"
  },
  "orig_nbformat": 2,
  "kernelspec": {
   "name": "python3",
   "display_name": "Python 3",
   "language": "python"
  }
 },
 "nbformat": 4,
 "nbformat_minor": 2,
 "cells": [
  {
   "cell_type": "code",
   "execution_count": 1,
   "metadata": {},
   "outputs": [],
   "source": [
    "import torch\n",
    "import torchvision.models as models\n",
    "import matplotlib.pyplot as plt\n",
    "import time\n",
    "%matplotlib inline"
   ]
  },
  {
   "cell_type": "code",
   "execution_count": 2,
   "metadata": {},
   "outputs": [
    {
     "output_type": "stream",
     "name": "stdout",
     "text": [
      "7.8 model loaded\n"
     ]
    }
   ],
   "source": [
    "\n",
    "base=time.time()\n",
    "model=models.segmentation.deeplabv3_resnet101(pretrained=True)\n",
    "model.eval()\n",
    "print('{:.1f} model loaded'.format(time.time()-base))"
   ]
  },
  {
   "cell_type": "code",
   "execution_count": 16,
   "metadata": {},
   "outputs": [
    {
     "output_type": "stream",
     "name": "stdout",
     "text": [
      "0.2 image processed\n"
     ]
    }
   ],
   "source": [
    "\n",
    "\n",
    "\n",
    "base=time.time()\n",
    "from PIL import Image\n",
    "from torchvision import transforms\n",
    "\n",
    "input_image = Image.open('a.jpg')\n",
    "#input_image = Image.open(r'.\\CrackForest\\Images\\001.jpg')\n",
    "input_image=input_image.resize((800,1080))\n",
    "\n",
    "preprocess = transforms.Compose([\n",
    "    transforms.ToTensor(),\n",
    "    transforms.Normalize(mean=[0.485, 0.456, 0.406], std=[0.229, 0.224, 0.225]),\n",
    "])\n",
    "\n",
    "input_tensor = preprocess(input_image)\n",
    "input_batch = input_tensor.unsqueeze(0) # create a mini-batch as expected by the model\n",
    "print('{:.1f} image processed'.format(time.time()-base))\n"
   ]
  },
  {
   "cell_type": "code",
   "execution_count": 17,
   "metadata": {},
   "outputs": [
    {
     "output_type": "stream",
     "name": "stdout",
     "text": [
      "77.8 model predicted\n"
     ]
    }
   ],
   "source": [
    "\n",
    "\n",
    "base=time.time()\n",
    "with torch.no_grad():\n",
    "    output = model(input_batch)['out'][0]\n",
    "\n",
    "\n",
    "print('{:.1f} model predicted'.format(time.time()-base))\n",
    "# create a color pallette, selecting a color for each class\n"
   ]
  },
  {
   "cell_type": "code",
   "execution_count": 18,
   "metadata": {},
   "outputs": [
    {
     "output_type": "execute_result",
     "data": {
      "text/plain": [
       "torch.Size([21, 2665, 1999])"
      ]
     },
     "metadata": {},
     "execution_count": 18
    }
   ],
   "source": [
    "output.shape"
   ]
  },
  {
   "cell_type": "code",
   "execution_count": 19,
   "metadata": {},
   "outputs": [],
   "source": [
    "output_predictions = output.argmax(0)"
   ]
  },
  {
   "cell_type": "code",
   "execution_count": 20,
   "metadata": {},
   "outputs": [
    {
     "output_type": "execute_result",
     "data": {
      "text/plain": [
       "(2665, 1999)"
      ]
     },
     "metadata": {},
     "execution_count": 20
    }
   ],
   "source": [
    "out=output_predictions.detach().cpu().numpy()\n",
    "out.shape"
   ]
  },
  {
   "cell_type": "code",
   "execution_count": 21,
   "metadata": {},
   "outputs": [
    {
     "output_type": "execute_result",
     "data": {
      "text/plain": [
       "array([ 0,  3,  5,  9, 15, 18, 20], dtype=int64)"
      ]
     },
     "metadata": {},
     "execution_count": 21
    }
   ],
   "source": [
    "import numpy as np\n",
    "np.unique(out)"
   ]
  },
  {
   "cell_type": "code",
   "execution_count": 22,
   "metadata": {},
   "outputs": [
    {
     "output_type": "execute_result",
     "data": {
      "text/plain": [
       "<matplotlib.image.AxesImage at 0x2c5b2889280>"
      ]
     },
     "metadata": {},
     "execution_count": 22
    },
    {
     "output_type": "display_data",
     "data": {
      "text/plain": "<Figure size 432x288 with 1 Axes>",
      "image/svg+xml": "<?xml version=\"1.0\" encoding=\"utf-8\" standalone=\"no\"?>\r\n<!DOCTYPE svg PUBLIC \"-//W3C//DTD SVG 1.1//EN\"\r\n  \"http://www.w3.org/Graphics/SVG/1.1/DTD/svg11.dtd\">\r\n<!-- Created with matplotlib (https://matplotlib.org/) -->\r\n<svg height=\"252.276548pt\" version=\"1.1\" viewBox=\"0 0 209.950398 252.276548\" width=\"209.950398pt\" xmlns=\"http://www.w3.org/2000/svg\" xmlns:xlink=\"http://www.w3.org/1999/xlink\">\r\n <metadata>\r\n  <rdf:RDF xmlns:cc=\"http://creativecommons.org/ns#\" xmlns:dc=\"http://purl.org/dc/elements/1.1/\" xmlns:rdf=\"http://www.w3.org/1999/02/22-rdf-syntax-ns#\">\r\n   <cc:Work>\r\n    <dc:type rdf:resource=\"http://purl.org/dc/dcmitype/StillImage\"/>\r\n    <dc:date>2021-01-13T18:33:19.402875</dc:date>\r\n    <dc:format>image/svg+xml</dc:format>\r\n    <dc:creator>\r\n     <cc:Agent>\r\n      <dc:title>Matplotlib v3.3.3, https://matplotlib.org/</dc:title>\r\n     </cc:Agent>\r\n    </dc:creator>\r\n   </cc:Work>\r\n  </rdf:RDF>\r\n </metadata>\r\n <defs>\r\n  <style type=\"text/css\">*{stroke-linecap:butt;stroke-linejoin:round;}</style>\r\n </defs>\r\n <g id=\"figure_1\">\r\n  <g id=\"patch_1\">\r\n   <path d=\"M 0 252.276548 \r\nL 209.950398 252.276548 \r\nL 209.950398 0 \r\nL 0 0 \r\nz\r\n\" style=\"fill:none;\"/>\r\n  </g>\r\n  <g id=\"axes_1\">\r\n   <g id=\"patch_2\">\r\n    <path d=\"M 39.65 228.398423 \r\nL 202.750398 228.398423 \r\nL 202.750398 10.958423 \r\nL 39.65 10.958423 \r\nz\r\n\" style=\"fill:#ffffff;\"/>\r\n   </g>\r\n   <g clip-path=\"url(#pbdf6d67c61)\">\r\n    <image height=\"218\" id=\"imagee4c6eaf022\" transform=\"scale(1 -1)translate(0 -218)\" width=\"164\" x=\"39.65\" xlink:href=\"data:image/png;base64,\r\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\" y=\"-10.398423\"/>\r\n   </g>\r\n   <g id=\"matplotlib.axis_1\">\r\n    <g id=\"xtick_1\">\r\n     <g id=\"line2d_1\">\r\n      <defs>\r\n       <path d=\"M 0 0 \r\nL 0 3.5 \r\n\" id=\"m74e174f767\" style=\"stroke:#000000;stroke-width:0.8;\"/>\r\n      </defs>\r\n      <g>\r\n       <use style=\"stroke:#000000;stroke-width:0.8;\" x=\"39.690795\" xlink:href=\"#m74e174f767\" y=\"228.398423\"/>\r\n      </g>\r\n     </g>\r\n     <g id=\"text_1\">\r\n      <!-- 0 -->\r\n      <g transform=\"translate(36.509545 242.996861)scale(0.1 -0.1)\">\r\n       <defs>\r\n        <path d=\"M 31.78125 66.40625 \r\nQ 24.171875 66.40625 20.328125 58.90625 \r\nQ 16.5 51.421875 16.5 36.375 \r\nQ 16.5 21.390625 20.328125 13.890625 \r\nQ 24.171875 6.390625 31.78125 6.390625 \r\nQ 39.453125 6.390625 43.28125 13.890625 \r\nQ 47.125 21.390625 47.125 36.375 \r\nQ 47.125 51.421875 43.28125 58.90625 \r\nQ 39.453125 66.40625 31.78125 66.40625 \r\nz\r\nM 31.78125 74.21875 \r\nQ 44.046875 74.21875 50.515625 64.515625 \r\nQ 56.984375 54.828125 56.984375 36.375 \r\nQ 56.984375 17.96875 50.515625 8.265625 \r\nQ 44.046875 -1.421875 31.78125 -1.421875 \r\nQ 19.53125 -1.421875 13.0625 8.265625 \r\nQ 6.59375 17.96875 6.59375 36.375 \r\nQ 6.59375 54.828125 13.0625 64.515625 \r\nQ 19.53125 74.21875 31.78125 74.21875 \r\nz\r\n\" id=\"DejaVuSans-48\"/>\r\n       </defs>\r\n       <use xlink:href=\"#DejaVuSans-48\"/>\r\n      </g>\r\n     </g>\r\n    </g>\r\n    <g id=\"xtick_2\">\r\n     <g id=\"line2d_2\">\r\n      <g>\r\n       <use style=\"stroke:#000000;stroke-width:0.8;\" x=\"80.486293\" xlink:href=\"#m74e174f767\" y=\"228.398423\"/>\r\n      </g>\r\n     </g>\r\n     <g id=\"text_2\">\r\n      <!-- 500 -->\r\n      <g transform=\"translate(70.942543 242.996861)scale(0.1 -0.1)\">\r\n       <defs>\r\n        <path d=\"M 10.796875 72.90625 \r\nL 49.515625 72.90625 \r\nL 49.515625 64.59375 \r\nL 19.828125 64.59375 \r\nL 19.828125 46.734375 \r\nQ 21.96875 47.46875 24.109375 47.828125 \r\nQ 26.265625 48.1875 28.421875 48.1875 \r\nQ 40.625 48.1875 47.75 41.5 \r\nQ 54.890625 34.8125 54.890625 23.390625 \r\nQ 54.890625 11.625 47.5625 5.09375 \r\nQ 40.234375 -1.421875 26.90625 -1.421875 \r\nQ 22.3125 -1.421875 17.546875 -0.640625 \r\nQ 12.796875 0.140625 7.71875 1.703125 \r\nL 7.71875 11.625 \r\nQ 12.109375 9.234375 16.796875 8.0625 \r\nQ 21.484375 6.890625 26.703125 6.890625 \r\nQ 35.15625 6.890625 40.078125 11.328125 \r\nQ 45.015625 15.765625 45.015625 23.390625 \r\nQ 45.015625 31 40.078125 35.4375 \r\nQ 35.15625 39.890625 26.703125 39.890625 \r\nQ 22.75 39.890625 18.8125 39.015625 \r\nQ 14.890625 38.140625 10.796875 36.28125 \r\nz\r\n\" id=\"DejaVuSans-53\"/>\r\n       </defs>\r\n       <use xlink:href=\"#DejaVuSans-53\"/>\r\n       <use x=\"63.623047\" xlink:href=\"#DejaVuSans-48\"/>\r\n       <use x=\"127.246094\" xlink:href=\"#DejaVuSans-48\"/>\r\n      </g>\r\n     </g>\r\n    </g>\r\n    <g id=\"xtick_3\">\r\n     <g id=\"line2d_3\">\r\n      <g>\r\n       <use style=\"stroke:#000000;stroke-width:0.8;\" x=\"121.28179\" xlink:href=\"#m74e174f767\" y=\"228.398423\"/>\r\n      </g>\r\n     </g>\r\n     <g id=\"text_3\">\r\n      <!-- 1000 -->\r\n      <g transform=\"translate(108.55679 242.996861)scale(0.1 -0.1)\">\r\n       <defs>\r\n        <path d=\"M 12.40625 8.296875 \r\nL 28.515625 8.296875 \r\nL 28.515625 63.921875 \r\nL 10.984375 60.40625 \r\nL 10.984375 69.390625 \r\nL 28.421875 72.90625 \r\nL 38.28125 72.90625 \r\nL 38.28125 8.296875 \r\nL 54.390625 8.296875 \r\nL 54.390625 0 \r\nL 12.40625 0 \r\nz\r\n\" id=\"DejaVuSans-49\"/>\r\n       </defs>\r\n       <use xlink:href=\"#DejaVuSans-49\"/>\r\n       <use x=\"63.623047\" xlink:href=\"#DejaVuSans-48\"/>\r\n       <use x=\"127.246094\" xlink:href=\"#DejaVuSans-48\"/>\r\n       <use x=\"190.869141\" xlink:href=\"#DejaVuSans-48\"/>\r\n      </g>\r\n     </g>\r\n    </g>\r\n    <g id=\"xtick_4\">\r\n     <g id=\"line2d_4\">\r\n      <g>\r\n       <use style=\"stroke:#000000;stroke-width:0.8;\" x=\"162.077287\" xlink:href=\"#m74e174f767\" y=\"228.398423\"/>\r\n      </g>\r\n     </g>\r\n     <g id=\"text_4\">\r\n      <!-- 1500 -->\r\n      <g transform=\"translate(149.352287 242.996861)scale(0.1 -0.1)\">\r\n       <use xlink:href=\"#DejaVuSans-49\"/>\r\n       <use x=\"63.623047\" xlink:href=\"#DejaVuSans-53\"/>\r\n       <use x=\"127.246094\" xlink:href=\"#DejaVuSans-48\"/>\r\n       <use x=\"190.869141\" xlink:href=\"#DejaVuSans-48\"/>\r\n      </g>\r\n     </g>\r\n    </g>\r\n   </g>\r\n   <g id=\"matplotlib.axis_2\">\r\n    <g id=\"ytick_1\">\r\n     <g id=\"line2d_5\">\r\n      <defs>\r\n       <path d=\"M 0 0 \r\nL -3.5 0 \r\n\" id=\"md68cf9644c\" style=\"stroke:#000000;stroke-width:0.8;\"/>\r\n      </defs>\r\n      <g>\r\n       <use style=\"stroke:#000000;stroke-width:0.8;\" x=\"39.65\" xlink:href=\"#md68cf9644c\" y=\"10.999219\"/>\r\n      </g>\r\n     </g>\r\n     <g id=\"text_5\">\r\n      <!-- 0 -->\r\n      <g transform=\"translate(26.2875 14.798438)scale(0.1 -0.1)\">\r\n       <use xlink:href=\"#DejaVuSans-48\"/>\r\n      </g>\r\n     </g>\r\n    </g>\r\n    <g id=\"ytick_2\">\r\n     <g id=\"line2d_6\">\r\n      <g>\r\n       <use style=\"stroke:#000000;stroke-width:0.8;\" x=\"39.65\" xlink:href=\"#md68cf9644c\" y=\"51.794716\"/>\r\n      </g>\r\n     </g>\r\n     <g id=\"text_6\">\r\n      <!-- 500 -->\r\n      <g transform=\"translate(13.5625 55.593935)scale(0.1 -0.1)\">\r\n       <use xlink:href=\"#DejaVuSans-53\"/>\r\n       <use x=\"63.623047\" xlink:href=\"#DejaVuSans-48\"/>\r\n       <use x=\"127.246094\" xlink:href=\"#DejaVuSans-48\"/>\r\n      </g>\r\n     </g>\r\n    </g>\r\n    <g id=\"ytick_3\">\r\n     <g id=\"line2d_7\">\r\n      <g>\r\n       <use style=\"stroke:#000000;stroke-width:0.8;\" x=\"39.65\" xlink:href=\"#md68cf9644c\" y=\"92.590213\"/>\r\n      </g>\r\n     </g>\r\n     <g id=\"text_7\">\r\n      <!-- 1000 -->\r\n      <g transform=\"translate(7.2 96.389432)scale(0.1 -0.1)\">\r\n       <use xlink:href=\"#DejaVuSans-49\"/>\r\n       <use x=\"63.623047\" xlink:href=\"#DejaVuSans-48\"/>\r\n       <use x=\"127.246094\" xlink:href=\"#DejaVuSans-48\"/>\r\n       <use x=\"190.869141\" xlink:href=\"#DejaVuSans-48\"/>\r\n      </g>\r\n     </g>\r\n    </g>\r\n    <g id=\"ytick_4\">\r\n     <g id=\"line2d_8\">\r\n      <g>\r\n       <use style=\"stroke:#000000;stroke-width:0.8;\" x=\"39.65\" xlink:href=\"#md68cf9644c\" y=\"133.38571\"/>\r\n      </g>\r\n     </g>\r\n     <g id=\"text_8\">\r\n      <!-- 1500 -->\r\n      <g transform=\"translate(7.2 137.184929)scale(0.1 -0.1)\">\r\n       <use xlink:href=\"#DejaVuSans-49\"/>\r\n       <use x=\"63.623047\" xlink:href=\"#DejaVuSans-53\"/>\r\n       <use x=\"127.246094\" xlink:href=\"#DejaVuSans-48\"/>\r\n       <use x=\"190.869141\" xlink:href=\"#DejaVuSans-48\"/>\r\n      </g>\r\n     </g>\r\n    </g>\r\n    <g id=\"ytick_5\">\r\n     <g id=\"line2d_9\">\r\n      <g>\r\n       <use style=\"stroke:#000000;stroke-width:0.8;\" x=\"39.65\" xlink:href=\"#md68cf9644c\" y=\"174.181207\"/>\r\n      </g>\r\n     </g>\r\n     <g id=\"text_9\">\r\n      <!-- 2000 -->\r\n      <g transform=\"translate(7.2 177.980426)scale(0.1 -0.1)\">\r\n       <defs>\r\n        <path d=\"M 19.1875 8.296875 \r\nL 53.609375 8.296875 \r\nL 53.609375 0 \r\nL 7.328125 0 \r\nL 7.328125 8.296875 \r\nQ 12.9375 14.109375 22.625 23.890625 \r\nQ 32.328125 33.6875 34.8125 36.53125 \r\nQ 39.546875 41.84375 41.421875 45.53125 \r\nQ 43.3125 49.21875 43.3125 52.78125 \r\nQ 43.3125 58.59375 39.234375 62.25 \r\nQ 35.15625 65.921875 28.609375 65.921875 \r\nQ 23.96875 65.921875 18.8125 64.3125 \r\nQ 13.671875 62.703125 7.8125 59.421875 \r\nL 7.8125 69.390625 \r\nQ 13.765625 71.78125 18.9375 73 \r\nQ 24.125 74.21875 28.421875 74.21875 \r\nQ 39.75 74.21875 46.484375 68.546875 \r\nQ 53.21875 62.890625 53.21875 53.421875 \r\nQ 53.21875 48.921875 51.53125 44.890625 \r\nQ 49.859375 40.875 45.40625 35.40625 \r\nQ 44.1875 33.984375 37.640625 27.21875 \r\nQ 31.109375 20.453125 19.1875 8.296875 \r\nz\r\n\" id=\"DejaVuSans-50\"/>\r\n       </defs>\r\n       <use xlink:href=\"#DejaVuSans-50\"/>\r\n       <use x=\"63.623047\" xlink:href=\"#DejaVuSans-48\"/>\r\n       <use x=\"127.246094\" xlink:href=\"#DejaVuSans-48\"/>\r\n       <use x=\"190.869141\" xlink:href=\"#DejaVuSans-48\"/>\r\n      </g>\r\n     </g>\r\n    </g>\r\n    <g id=\"ytick_6\">\r\n     <g id=\"line2d_10\">\r\n      <g>\r\n       <use style=\"stroke:#000000;stroke-width:0.8;\" x=\"39.65\" xlink:href=\"#md68cf9644c\" y=\"214.976705\"/>\r\n      </g>\r\n     </g>\r\n     <g id=\"text_10\">\r\n      <!-- 2500 -->\r\n      <g transform=\"translate(7.2 218.775923)scale(0.1 -0.1)\">\r\n       <use xlink:href=\"#DejaVuSans-50\"/>\r\n       <use x=\"63.623047\" xlink:href=\"#DejaVuSans-53\"/>\r\n       <use x=\"127.246094\" xlink:href=\"#DejaVuSans-48\"/>\r\n       <use x=\"190.869141\" xlink:href=\"#DejaVuSans-48\"/>\r\n      </g>\r\n     </g>\r\n    </g>\r\n   </g>\r\n   <g id=\"patch_3\">\r\n    <path d=\"M 39.65 228.398423 \r\nL 39.65 10.958423 \r\n\" style=\"fill:none;stroke:#000000;stroke-linecap:square;stroke-linejoin:miter;stroke-width:0.8;\"/>\r\n   </g>\r\n   <g id=\"patch_4\">\r\n    <path d=\"M 202.750398 228.398423 \r\nL 202.750398 10.958423 \r\n\" style=\"fill:none;stroke:#000000;stroke-linecap:square;stroke-linejoin:miter;stroke-width:0.8;\"/>\r\n   </g>\r\n   <g id=\"patch_5\">\r\n    <path d=\"M 39.65 228.398423 \r\nL 202.750398 228.398423 \r\n\" style=\"fill:none;stroke:#000000;stroke-linecap:square;stroke-linejoin:miter;stroke-width:0.8;\"/>\r\n   </g>\r\n   <g id=\"patch_6\">\r\n    <path d=\"M 39.65 10.958423 \r\nL 202.750398 10.958423 \r\n\" style=\"fill:none;stroke:#000000;stroke-linecap:square;stroke-linejoin:miter;stroke-width:0.8;\"/>\r\n   </g>\r\n  </g>\r\n </g>\r\n <defs>\r\n  <clipPath id=\"pbdf6d67c61\">\r\n   <rect height=\"217.44\" width=\"163.100398\" x=\"39.65\" y=\"10.958423\"/>\r\n  </clipPath>\r\n </defs>\r\n</svg>\r\n",
      "image/png": "[encoded data removed]"
     },
     "metadata": {
      "needs_background": "light"
     }
    }
   ],
   "source": [
    "plt.imshow(output_predictions)"
   ]
  },
  {
   "cell_type": "code",
   "execution_count": 23,
   "metadata": {},
   "outputs": [
    {
     "output_type": "execute_result",
     "data": {
      "text/plain": [
       "128, eps=1e-05, momentum=0.1, affine=True, track_running_stats=True)\n",
       "        (conv2): Conv2d(128, 128, kernel_size=(3, 3), stride=(1, 1), padding=(1, 1), bias=False)\n",
       "        (bn2): BatchNorm2d(128, eps=1e-05, momentum=0.1, affine=True, track_running_stats=True)\n",
       "        (conv3): Conv2d(128, 512, kernel_size=(1, 1), stride=(1, 1), bias=False)\n",
       "        (bn3): BatchNorm2d(512, eps=1e-05, momentum=0.1, affine=True, track_running_stats=True)\n",
       "        (relu): ReLU(inplace=True)\n",
       "      )\n",
       "      (3): Bottleneck(\n",
       "        (conv1): Conv2d(512, 128, kernel_size=(1, 1), stride=(1, 1), bias=False)\n",
       "        (bn1): BatchNorm2d(128, eps=1e-05, momentum=0.1, affine=True, track_running_stats=True)\n",
       "        (conv2): Conv2d(128, 128, kernel_size=(3, 3), stride=(1, 1), padding=(1, 1), bias=False)\n",
       "        (bn2): BatchNorm2d(128, eps=1e-05, momentum=0.1, affine=True, track_running_stats=True)\n",
       "        (conv3): Conv2d(128, 512, kernel_size=(1, 1), stride=(1, 1), bias=False)\n",
       "        (bn3): BatchNorm2d(512, eps=1e-05, momentum=0.1, affine=True, track_running_stats=True)\n",
       "        (relu): ReLU(inplace=True)\n",
       "      )\n",
       "    )\n",
       "    (layer3): Sequential(\n",
       "      (0): Bottleneck(\n",
       "        (conv1): Conv2d(512, 256, kernel_size=(1, 1), stride=(1, 1), bias=False)\n",
       "        (bn1): BatchNorm2d(256, eps=1e-05, momentum=0.1, affine=True, track_running_stats=True)\n",
       "        (conv2): Conv2d(256, 256, kernel_size=(3, 3), stride=(1, 1), padding=(1, 1), bias=False)\n",
       "        (bn2): BatchNorm2d(256, eps=1e-05, momentum=0.1, affine=True, track_running_stats=True)\n",
       "        (conv3): Conv2d(256, 1024, kernel_size=(1, 1), stride=(1, 1), bias=False)\n",
       "        (bn3): BatchNorm2d(1024, eps=1e-05, momentum=0.1, affine=True, track_running_stats=True)\n",
       "        (relu): ReLU(inplace=True)\n",
       "        (downsample): Sequential(\n",
       "          (0): Conv2d(512, 1024, kernel_size=(1, 1), stride=(1, 1), bias=False)\n",
       "          (1): BatchNorm2d(1024, eps=1e-05, momentum=0.1, affine=True, track_running_stats=True)\n",
       "        )\n",
       "      )\n",
       "      (1): Bottleneck(\n",
       "        (conv1): Conv2d(1024, 256, kernel_size=(1, 1), stride=(1, 1), bias=False)\n",
       "        (bn1): BatchNorm2d(256, eps=1e-05, momentum=0.1, affine=True, track_running_stats=True)\n",
       "        (conv2): Conv2d(256, 256, kernel_size=(3, 3), stride=(1, 1), padding=(2, 2), dilation=(2, 2), bias=False)\n",
       "        (bn2): BatchNorm2d(256, eps=1e-05, momentum=0.1, affine=True, track_running_stats=True)\n",
       "        (conv3): Conv2d(256, 1024, kernel_size=(1, 1), stride=(1, 1), bias=False)\n",
       "        (bn3): BatchNorm2d(1024, eps=1e-05, momentum=0.1, affine=True, track_running_stats=True)\n",
       "        (relu): ReLU(inplace=True)\n",
       "      )\n",
       "      (2): Bottleneck(\n",
       "        (conv1): Conv2d(1024, 256, kernel_size=(1, 1), stride=(1, 1), bias=False)\n",
       "        (bn1): BatchNorm2d(256, eps=1e-05, momentum=0.1, affine=True, track_running_stats=True)\n",
       "        (conv2): Conv2d(256, 256, kernel_size=(3, 3), stride=(1, 1), padding=(2, 2), dilation=(2, 2), bias=False)\n",
       "        (bn2): BatchNorm2d(256, eps=1e-05, momentum=0.1, affine=True, track_running_stats=True)\n",
       "        (conv3): Conv2d(256, 1024, kernel_size=(1, 1), stride=(1, 1), bias=False)\n",
       "        (bn3): BatchNorm2d(1024, eps=1e-05, momentum=0.1, affine=True, track_running_stats=True)\n",
       "        (relu): ReLU(inplace=True)\n",
       "      )\n",
       "      (3): Bottleneck(\n",
       "        (conv1): Conv2d(1024, 256, kernel_size=(1, 1), stride=(1, 1), bias=False)\n",
       "        (bn1): BatchNorm2d(256, eps=1e-05, momentum=0.1, affine=True, track_running_stats=True)\n",
       "        (conv2): Conv2d(256, 256, kernel_size=(3, 3), stride=(1, 1), padding=(2, 2), dilation=(2, 2), bias=False)\n",
       "        (bn2): BatchNorm2d(256, eps=1e-05, momentum=0.1, affine=True, track_running_stats=True)\n",
       "        (conv3): Conv2d(256, 1024, kernel_size=(1, 1), stride=(1, 1), bias=False)\n",
       "        (bn3): BatchNorm2d(1024, eps=1e-05, momentum=0.1, affine=True, track_running_stats=True)\n",
       "        (relu): ReLU(inplace=True)\n",
       "      )\n",
       "      (4): Bottleneck(\n",
       "        (conv1): Conv2d(1024, 256, kernel_size=(1, 1), stride=(1, 1), bias=False)\n",
       "        (bn1): BatchNorm2d(256, eps=1e-05, momentum=0.1, affine=True, track_running_stats=True)\n",
       "        (conv2): Conv2d(256, 256, kernel_size=(3, 3), stride=(1, 1), padding=(2, 2), dilation=(2, 2), bias=False)\n",
       "        (bn2): BatchNorm2d(256, eps=1e-05, momentum=0.1, affine=True, track_running_stats=True)\n",
       "        (conv3): Conv2d(256, 1024, kernel_size=(1, 1), stride=(1, 1), bias=False)\n",
       "        (bn3): BatchNorm2d(1024, eps=1e-05, momentum=0.1, affine=True, track_running_stats=True)\n",
       "        (relu): ReLU(inplace=True)\n",
       "      )\n",
       "      (5): Bottleneck(\n",
       "        (conv1): Conv2d(1024, 256, kernel_size=(1, 1), stride=(1, 1), bias=False)\n",
       "        (bn1): BatchNorm2d(256, eps=1e-05, momentum=0.1, affine=True, track_running_stats=True)\n",
       "        (conv2): Conv2d(256, 256, kernel_size=(3, 3), stride=(1, 1), padding=(2, 2), dilation=(2, 2), bias=False)\n",
       "        (bn2): BatchNorm2d(256, eps=1e-05, momentum=0.1, affine=True, track_running_stats=True)\n",
       "        (conv3): Conv2d(256, 1024, kernel_size=(1, 1), stride=(1, 1), bias=False)\n",
       "        (bn3): BatchNorm2d(1024, eps=1e-05, momentum=0.1, affine=True, track_running_stats=True)\n",
       "        (relu): ReLU(inplace=True)\n",
       "      )\n",
       "      (6): Bottleneck(\n",
       "        (conv1): Conv2d(1024, 256, kernel_size=(1, 1), stride=(1, 1), bias=False)\n",
       "        (bn1): BatchNorm2d(256, eps=1e-05, momentum=0.1, affine=True, track_running_stats=True)\n",
       "        (conv2): Conv2d(256, 256, kernel_size=(3, 3), stride=(1, 1), padding=(2, 2), dilation=(2, 2), bias=False)\n",
       "        (bn2): BatchNorm2d(256, eps=1e-05, momentum=0.1, affine=True, track_running_stats=True)\n",
       "        (conv3): Conv2d(256, 1024, kernel_size=(1, 1), stride=(1, 1), bias=False)\n",
       "        (bn3): BatchNorm2d(1024, eps=1e-05, momentum=0.1, affine=True, track_running_stats=True)\n",
       "        (relu): ReLU(inplace=True)\n",
       "      )\n",
       "      (7): Bottleneck(\n",
       "        (conv1): Conv2d(1024, 256, kernel_size=(1, 1), stride=(1, 1), bias=False)\n",
       "        (bn1): BatchNorm2d(256, eps=1e-05, momentum=0.1, affine=True, track_running_stats=True)\n",
       "        (conv2): Conv2d(256, 256, kernel_size=(3, 3), stride=(1, 1), padding=(2, 2), dilation=(2, 2), bias=False)\n",
       "        (bn2): BatchNorm2d(256, eps=1e-05, momentum=0.1, affine=True, track_running_stats=True)\n",
       "        (conv3): Conv2d(256, 1024, kernel_size=(1, 1), stride=(1, 1), bias=False)\n",
       "        (bn3): BatchNorm2d(1024, eps=1e-05, momentum=0.1, affine=True, track_running_stats=True)\n",
       "        (relu): ReLU(inplace=True)\n",
       "      )\n",
       "      (8): Bottleneck(\n",
       "        (conv1): Conv2d(1024, 256, kernel_size=(1, 1), stride=(1, 1), bias=False)\n",
       "        (bn1): BatchNorm2d(256, eps=1e-05, momentum=0.1, affine=True, track_running_stats=True)\n",
       "        (conv2): Conv2d(256, 256, kernel_size=(3, 3), stride=(1, 1), padding=(2, 2), dilation=(2, 2), bias=False)\n",
       "        (bn2): BatchNorm2d(256, eps=1e-05, momentum=0.1, affine=True, track_running_stats=True)\n",
       "        (conv3): Conv2d(256, 1024, kernel_size=(1, 1), stride=(1, 1), bias=False)\n",
       "        (bn3): BatchNorm2d(1024, eps=1e-05, momentum=0.1, affine=True, track_running_stats=True)\n",
       "        (relu): ReLU(inplace=True)\n",
       "      )\n",
       "      (9): Bottleneck(\n",
       "        (conv1): Conv2d(1024, 256, kernel_size=(1, 1), stride=(1, 1), bias=False)\n",
       "        (bn1): BatchNorm2d(256, eps=1e-05, momentum=0.1, affine=True, track_running_stats=True)\n",
       "        (conv2): Conv2d(256, 256, kernel_size=(3, 3), stride=(1, 1), padding=(2, 2), dilation=(2, 2), bias=False)\n",
       "        (bn2): BatchNorm2d(256, eps=1e-05, momentum=0.1, affine=True, track_running_stats=True)\n",
       "        (conv3): Conv2d(256, 1024, kernel_size=(1, 1), stride=(1, 1), bias=False)\n",
       "        (bn3): BatchNorm2d(1024, eps=1e-05, momentum=0.1, affine=True, track_running_stats=True)\n",
       "        (relu): ReLU(inplace=True)\n",
       "      )\n",
       "      (10): Bottleneck(\n",
       "        (conv1): Conv2d(1024, 256, kernel_size=(1, 1), stride=(1, 1), bias=False)\n",
       "        (bn1): BatchNorm2d(256, eps=1e-05, momentum=0.1, affine=True, track_running_stats=True)\n",
       "        (conv2): Conv2d(256, 256, kernel_size=(3, 3), stride=(1, 1), padding=(2, 2), dilation=(2, 2), bias=False)\n",
       "        (bn2): BatchNorm2d(256, eps=1e-05, momentum=0.1, affine=True, track_running_stats=True)\n",
       "        (conv3): Conv2d(256, 1024, kernel_size=(1, 1), stride=(1, 1), bias=False)\n",
       "        (bn3): BatchNorm2d(1024, eps=1e-05, momentum=0.1, affine=True, track_running_stats=True)\n",
       "        (relu): ReLU(inplace=True)\n",
       "      )\n",
       "      (11): Bottleneck(\n",
       "        (conv1): Conv2d(1024, 256, kernel_size=(1, 1), stride=(1, 1), bias=False)\n",
       "        (bn1): BatchNorm2d(256, eps=1e-05, momentum=0.1, affine=True, track_running_stats=True)\n",
       "        (conv2): Conv2d(256, 256, kernel_size=(3, 3), stride=(1, 1), padding=(2, 2), dilation=(2, 2), bias=False)\n",
       "        (bn2): BatchNorm2d(256, eps=1e-05, momentum=0.1, affine=True, track_running_stats=True)\n",
       "        (conv3): Conv2d(256, 1024, kernel_size=(1, 1), stride=(1, 1), bias=False)\n",
       "        (bn3): BatchNorm2d(1024, eps=1e-05, momentum=0.1, affine=True, track_running_stats=True)\n",
       "        (relu): ReLU(inplace=True)\n",
       "      )\n",
       "      (12): Bottleneck(\n",
       "        (conv1): Conv2d(1024, 256, kernel_size=(1, 1), stride=(1, 1), bias=False)\n",
       "        (bn1): BatchNorm2d(256, eps=1e-05, momentum=0.1, affine=True, track_running_stats=True)\n",
       "        (conv2): Conv2d(256, 256, kernel_size=(3, 3), stride=(1, 1), padding=(2, 2), dilation=(2, 2), bias=False)\n",
       "        (bn2): BatchNorm2d(256, eps=1e-05, momentum=0.1, affine=True, track_running_stats=True)\n",
       "        (conv3): Conv2d(256, 1024, kernel_size=(1, 1), stride=(1, 1), bias=False)\n",
       "        (bn3): BatchNorm2d(1024, eps=1e-05, momentum=0.1, affine=True, track_running_stats=True)\n",
       "        (relu): ReLU(inplace=True)\n",
       "      )\n",
       "      (13): Bottleneck(\n",
       "        (conv1): Conv2d(1024, 256, kernel_size=(1, 1), stride=(1, 1), bias=False)\n",
       "        (bn1): BatchNorm2d(256, eps=1e-05, momentum=0.1, affine=True, track_running_stats=True)\n",
       "        (conv2): Conv2d(256, 256, kernel_size=(3, 3), stride=(1, 1), padding=(2, 2), dilation=(2, 2), bias=False)\n",
       "        (bn2): BatchNorm2d(256, eps=1e-05, momentum=0.1, affine=True, track_running_stats=True)\n",
       "        (conv3): Conv2d(256, 1024, kernel_size=(1, 1), stride=(1, 1), bias=False)\n",
       "        (bn3): BatchNorm2d(1024, eps=1e-05, momentum=0.1, affine=True, track_running_stats=True)\n",
       "        (relu): ReLU(inplace=True)\n",
       "      )\n",
       "      (14): Bottleneck(\n",
       "        (conv1): Conv2d(1024, 256, kernel_size=(1, 1), stride=(1, 1), bias=False)\n",
       "        (bn1): BatchNorm2d(256, eps=1e-05, momentum=0.1, affine=True, track_running_stats=True)\n",
       "        (conv2): Conv2d(256, 256, kernel_size=(3, 3), stride=(1, 1), padding=(2, 2), dilation=(2, 2), bias=False)\n",
       "        (bn2): BatchNorm2d(256, eps=1e-05, momentum=0.1, affine=True, track_running_stats=True)\n",
       "        (conv3): Conv2d(256, 1024, kernel_size=(1, 1), stride=(1, 1), bias=False)\n",
       "        (bn3): BatchNorm2d(1024, eps=1e-05, momentum=0.1, affine=True, track_running_stats=True)\n",
       "        (relu): ReLU(inplace=True)\n",
       "      )\n",
       "      (15): Bottleneck(\n",
       "        (conv1): Conv2d(1024, 256, kernel_size=(1, 1), stride=(1, 1), bias=False)\n",
       "        (bn1): BatchNorm2d(256, eps=1e-05, momentum=0.1, affine=True, track_running_stats=True)\n",
       "        (conv2): Conv2d(256, 256, kernel_size=(3, 3), stride=(1, 1), padding=(2, 2), dilation=(2, 2), bias=False)\n",
       "        (bn2): BatchNorm2d(256, eps=1e-05, momentum=0.1, affine=True, track_running_stats=True)\n",
       "        (conv3): Conv2d(256, 1024, kernel_size=(1, 1), stride=(1, 1), bias=False)\n",
       "        (bn3): BatchNorm2d(1024, eps=1e-05, momentum=0.1, affine=True, track_running_stats=True)\n",
       "        (relu): ReLU(inplace=True)\n",
       "      )\n",
       "      (16): Bottleneck(\n",
       "        (conv1): Conv2d(1024, 256, kernel_size=(1, 1), stride=(1, 1), bias=False)\n",
       "        (bn1): BatchNorm2d(256, eps=1e-05, momentum=0.1, affine=True, track_running_stats=True)\n",
       "        (conv2): Conv2d(256, 256, kernel_size=(3, 3), stride=(1, 1), padding=(2, 2), dilation=(2, 2), bias=False)\n",
       "        (bn2): BatchNorm2d(256, eps=1e-05, momentum=0.1, affine=True, track_running_stats=True)\n",
       "        (conv3): Conv2d(256, 1024, kernel_size=(1, 1), stride=(1, 1), bias=False)\n",
       "        (bn3): BatchNorm2d(1024, eps=1e-05, momentum=0.1, affine=True, track_running_stats=True)\n",
       "        (relu): ReLU(inplace=True)\n",
       "      )\n",
       "      (17): Bottleneck(\n",
       "        (conv1): Conv2d(1024, 256, kernel_size=(1, 1), stride=(1, 1), bias=False)\n",
       "        (bn1): BatchNorm2d(256, eps=1e-05, momentum=0.1, affine=True, track_running_stats=True)\n",
       "        (conv2): Conv2d(256, 256, kernel_size=(3, 3), stride=(1, 1), padding=(2, 2), dilation=(2, 2), bias=False)\n",
       "        (bn2): BatchNorm2d(256, eps=1e-05, momentum=0.1, affine=True, track_running_stats=True)\n",
       "        (conv3): Conv2d(256, 1024, kernel_size=(1, 1), stride=(1, 1), bias=False)\n",
       "        (bn3): BatchNorm2d(1024, eps=1e-05, momentum=0.1, affine=True, track_running_stats=True)\n",
       "        (relu): ReLU(inplace=True)\n",
       "      )\n",
       "      (18): Bottleneck(\n",
       "        (conv1): Conv2d(1024, 256, kernel_size=(1, 1), stride=(1, 1), bias=False)\n",
       "        (bn1): BatchNorm2d(256, eps=1e-05, momentum=0.1, affine=True, track_running_stats=True)\n",
       "        (conv2): Conv2d(256, 256, kernel_size=(3, 3), stride=(1, 1), padding=(2, 2), dilation=(2, 2), bias=False)\n",
       "        (bn2): BatchNorm2d(256, eps=1e-05, momentum=0.1, affine=True, track_running_stats=True)\n",
       "        (conv3): Conv2d(256, 1024, kernel_size=(1, 1), stride=(1, 1), bias=False)\n",
       "        (bn3): BatchNorm2d(1024, eps=1e-05, momentum=0.1, affine=True, track_running_stats=True)\n",
       "        (relu): ReLU(inplace=True)\n",
       "      )\n",
       "      (19): Bottleneck(\n",
       "        (conv1): Conv2d(1024, 256, kernel_size=(1, 1), stride=(1, 1), bias=False)\n",
       "        (bn1): BatchNorm2d(256, eps=1e-05, momentum=0.1, affine=True, track_running_stats=True)\n",
       "        (conv2): Conv2d(256, 256, kernel_size=(3, 3), stride=(1, 1), padding=(2, 2), dilation=(2, 2), bias=False)\n",
       "        (bn2): BatchNorm2d(256, eps=1e-05, momentum=0.1, affine=True, track_running_stats=True)\n",
       "        (conv3): Conv2d(256, 1024, kernel_size=(1, 1), stride=(1, 1), bias=False)\n",
       "        (bn3): BatchNorm2d(1024, eps=1e-05, momentum=0.1, affine=True, track_running_stats=True)\n",
       "        (relu): ReLU(inplace=True)\n",
       "      )\n",
       "      (20): Bottleneck(\n",
       "        (conv1): Conv2d(1024, 256, kernel_size=(1, 1), stride=(1, 1), bias=False)\n",
       "        (bn1): BatchNorm2d(256, eps=1e-05, momentum=0.1, affine=True, track_running_stats=True)\n",
       "        (conv2): Conv2d(256, 256, kernel_size=(3, 3), stride=(1, 1), padding=(2, 2), dilation=(2, 2), bias=False)\n",
       "        (bn2): BatchNorm2d(256, eps=1e-05, momentum=0.1, affine=True, track_running_stats=True)\n",
       "        (conv3): Conv2d(256, 1024, kernel_size=(1, 1), stride=(1, 1), bias=False)\n",
       "        (bn3): BatchNorm2d(1024, eps=1e-05, momentum=0.1, affine=True, track_running_stats=True)\n",
       "        (relu): ReLU(inplace=True)\n",
       "      )\n",
       "      (21): Bottleneck(\n",
       "        (conv1): Conv2d(1024, 256, kernel_size=(1, 1), stride=(1, 1), bias=False)\n",
       "        (bn1): BatchNorm2d(256, eps=1e-05, momentum=0.1, affine=True, track_running_stats=True)\n",
       "        (conv2): Conv2d(256, 256, kernel_size=(3, 3), stride=(1, 1), padding=(2, 2), dilation=(2, 2), bias=False)\n",
       "        (bn2): BatchNorm2d(256, eps=1e-05, momentum=0.1, affine=True, track_running_stats=True)\n",
       "        (conv3): Conv2d(256, 1024, kernel_size=(1, 1), stride=(1, 1), bias=False)\n",
       "        (bn3): BatchNorm2d(1024, eps=1e-05, momentum=0.1, affine=True, track_running_stats=True)\n",
       "        (relu): ReLU(inplace=True)\n",
       "      )\n",
       "      (22): Bottleneck(\n",
       "        (conv1): Conv2d(1024, 256, kernel_size=(1, 1), stride=(1, 1), bias=False)\n",
       "        (bn1): BatchNorm2d(256, eps=1e-05, momentum=0.1, affine=True, track_running_stats=True)\n",
       "        (conv2): Conv2d(256, 256, kernel_size=(3, 3), stride=(1, 1), padding=(2, 2), dilation=(2, 2), bias=False)\n",
       "        (bn2): BatchNorm2d(256, eps=1e-05, momentum=0.1, affine=True, track_running_stats=True)\n",
       "        (conv3): Conv2d(256, 1024, kernel_size=(1, 1), stride=(1, 1), bias=False)\n",
       "        (bn3): BatchNorm2d(1024, eps=1e-05, momentum=0.1, affine=True, track_running_stats=True)\n",
       "        (relu): ReLU(inplace=True)\n",
       "      )\n",
       "    )\n",
       "    (layer4): Sequential(\n",
       "      (0): Bottleneck(\n",
       "        (conv1): Conv2d(1024, 512, kernel_size=(1, 1), stride=(1, 1), bias=False)\n",
       "        (bn1): BatchNorm2d(512, eps=1e-05, momentum=0.1, affine=True, track_running_stats=True)\n",
       "        (conv2): Conv2d(512, 512, kernel_size=(3, 3), stride=(1, 1), padding=(2, 2), dilation=(2, 2), bias=False)\n",
       "        (bn2): BatchNorm2d(512, eps=1e-05, momentum=0.1, affine=True, track_running_stats=True)\n",
       "        (conv3): Conv2d(512, 2048, kernel_size=(1, 1), stride=(1, 1), bias=False)\n",
       "        (bn3): BatchNorm2d(2048, eps=1e-05, momentum=0.1, affine=True, track_running_stats=True)\n",
       "        (relu): ReLU(inplace=True)\n",
       "        (downsample): Sequential(\n",
       "          (0): Conv2d(1024, 2048, kernel_size=(1, 1), stride=(1, 1), bias=False)\n",
       "          (1): BatchNorm2d(2048, eps=1e-05, momentum=0.1, affine=True, track_running_stats=True)\n",
       "        )\n",
       "      )\n",
       "      (1): Bottleneck(\n",
       "        (conv1): Conv2d(2048, 512, kernel_size=(1, 1), stride=(1, 1), bias=False)\n",
       "        (bn1): BatchNorm2d(512, eps=1e-05, momentum=0.1, affine=True, track_running_stats=True)\n",
       "        (conv2): Conv2d(512, 512, kernel_size=(3, 3), stride=(1, 1), padding=(4, 4), dilation=(4, 4), bias=False)\n",
       "        (bn2): BatchNorm2d(512, eps=1e-05, momentum=0.1, affine=True, track_running_stats=True)\n",
       "        (conv3): Conv2d(512, 2048, kernel_size=(1, 1), stride=(1, 1), bias=False)\n",
       "        (bn3): BatchNorm2d(2048, eps=1e-05, momentum=0.1, affine=True, track_running_stats=True)\n",
       "        (relu): ReLU(inplace=True)\n",
       "      )\n",
       "      (2): Bottleneck(\n",
       "        (conv1): Conv2d(2048, 512, kernel_size=(1, 1), stride=(1, 1), bias=False)\n",
       "        (bn1): BatchNorm2d(512, eps=1e-05, momentum=0.1, affine=True, track_running_stats=True)\n",
       "        (conv2): Conv2d(512, 512, kernel_size=(3, 3), stride=(1, 1), padding=(4, 4), dilation=(4, 4), bias=False)\n",
       "        (bn2): BatchNorm2d(512, eps=1e-05, momentum=0.1, affine=True, track_running_stats=True)\n",
       "        (conv3): Conv2d(512, 2048, kernel_size=(1, 1), stride=(1, 1), bias=False)\n",
       "        (bn3): BatchNorm2d(2048, eps=1e-05, momentum=0.1, affine=True, track_running_stats=True)\n",
       "        (relu): ReLU(inplace=True)\n",
       "      )\n",
       "    )\n",
       "  )\n",
       "  (classifier): DeepLabHead(\n",
       "    (0): ASPP(\n",
       "      (convs): ModuleList(\n",
       "        (0): Sequential(\n",
       "          (0): Conv2d(2048, 256, kernel_size=(1, 1), stride=(1, 1), bias=False)\n",
       "          (1): BatchNorm2d(256, eps=1e-05, momentum=0.1, affine=True, track_running_stats=True)\n",
       "          (2): ReLU()\n",
       "        )\n",
       "        (1): ASPPConv(\n",
       "          (0): Conv2d(2048, 256, kernel_size=(3, 3), stride=(1, 1), padding=(12, 12), dilation=(12, 12), bias=False)\n",
       "          (1): BatchNorm2d(256, eps=1e-05, momentum=0.1, affine=True, track_running_stats=True)\n",
       "          (2): ReLU()\n",
       "        )\n",
       "        (2): ASPPConv(\n",
       "          (0): Conv2d(2048, 256, kernel_size=(3, 3), stride=(1, 1), padding=(24, 24), dilation=(24, 24), bias=False)\n",
       "          (1): BatchNorm2d(256, eps=1e-05, momentum=0.1, affine=True, track_running_stats=True)\n",
       "          (2): ReLU()\n",
       "        )\n",
       "        (3): ASPPConv(\n",
       "          (0): Conv2d(2048, 256, kernel_size=(3, 3), stride=(1, 1), padding=(36, 36), dilation=(36, 36), bias=False)\n",
       "          (1): BatchNorm2d(256, eps=1e-05, momentum=0.1, affine=True, track_running_stats=True)\n",
       "          (2): ReLU()\n",
       "        )\n",
       "        (4): ASPPPooling(\n",
       "          (0): AdaptiveAvgPool2d(output_size=1)\n",
       "          (1): Conv2d(2048, 256, kernel_size=(1, 1), stride=(1, 1), bias=False)\n",
       "          (2): BatchNorm2d(256, eps=1e-05, momentum=0.1, affine=True, track_running_stats=True)\n",
       "          (3): ReLU()\n",
       "        )\n",
       "      )\n",
       "      (project): Sequential(\n",
       "        (0): Conv2d(1280, 256, kernel_size=(1, 1), stride=(1, 1), bias=False)\n",
       "        (1): BatchNorm2d(256, eps=1e-05, momentum=0.1, affine=True, track_running_stats=True)\n",
       "        (2): ReLU()\n",
       "        (3): Dropout(p=0.5, inplace=False)\n",
       "      )\n",
       "    )\n",
       "    (1): Conv2d(256, 256, kernel_size=(3, 3), stride=(1, 1), padding=(1, 1), bias=False)\n",
       "    (2): BatchNorm2d(256, eps=1e-05, momentum=0.1, affine=True, track_running_stats=True)\n",
       "    (3): ReLU()\n",
       "    (4): Conv2d(256, 1, kernel_size=(1, 1), stride=(1, 1))\n",
       "  )\n",
       ")"
      ]
     },
     "metadata": {},
     "execution_count": 23
    }
   ],
   "source": [
    "tmodel=torch.load('FloorExp\\weights.pt')\n",
    "tmodel.eval()"
   ]
  },
  {
   "cell_type": "code",
   "execution_count": 6,
   "metadata": {},
   "outputs": [
    {
     "output_type": "execute_result",
     "data": {
      "text/plain": [
       "<matplotlib.image.AxesImage at 0x16712865df0>"
      ]
     },
     "metadata": {},
     "execution_count": 6
    },
    {
     "output_type": "display_data",
     "data": {
      "text/plain": "<Figure size 432x288 with 1 Axes>",
      "image/svg+xml": "<?xml version=\"1.0\" encoding=\"utf-8\" standalone=\"no\"?>\r\n<!DOCTYPE svg PUBLIC \"-//W3C//DTD SVG 1.1//EN\"\r\n  \"http://www.w3.org/Graphics/SVG/1.1/DTD/svg11.dtd\">\r\n<!-- Created with matplotlib (https://matplotlib.org/) -->\r\n<svg height=\"251.637844pt\" version=\"1.1\" viewBox=\"0 0 203.5675 251.637844\" width=\"203.5675pt\" xmlns=\"http://www.w3.org/2000/svg\" xmlns:xlink=\"http://www.w3.org/1999/xlink\">\r\n <metadata>\r\n  <rdf:RDF xmlns:cc=\"http://creativecommons.org/ns#\" xmlns:dc=\"http://purl.org/dc/elements/1.1/\" xmlns:rdf=\"http://www.w3.org/1999/02/22-rdf-syntax-ns#\">\r\n   <cc:Work>\r\n    <dc:type rdf:resource=\"http://purl.org/dc/dcmitype/StillImage\"/>\r\n    <dc:date>2021-01-07T09:41:43.856956</dc:date>\r\n    <dc:format>image/svg+xml</dc:format>\r\n    <dc:creator>\r\n     <cc:Agent>\r\n      <dc:title>Matplotlib v3.3.3, https://matplotlib.org/</dc:title>\r\n     </cc:Agent>\r\n    </dc:creator>\r\n   </cc:Work>\r\n  </rdf:RDF>\r\n </metadata>\r\n <defs>\r\n  <style type=\"text/css\">*{stroke-linecap:butt;stroke-linejoin:round;}</style>\r\n </defs>\r\n <g id=\"figure_1\">\r\n  <g id=\"patch_1\">\r\n   <path d=\"M 0 251.637844 \r\nL 203.5675 251.637844 \r\nL 203.5675 0 \r\nL 0 0 \r\nz\r\n\" style=\"fill:none;\"/>\r\n  </g>\r\n  <g id=\"axes_1\">\r\n   <g id=\"patch_2\">\r\n    <path d=\"M 33.2875 227.759719 \r\nL 196.3675 227.759719 \r\nL 196.3675 10.319719 \r\nL 33.2875 10.319719 \r\nz\r\n\" style=\"fill:#ffffff;\"/>\r\n   </g>\r\n   <g clip-path=\"url(#pabc0f7c438)\">\r\n    <image height=\"218\" id=\"image309142726a\" transform=\"scale(1 -1)translate(0 -218)\" width=\"164\" x=\"33.2875\" xlink:href=\"data:image/png;base64,\r\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\" y=\"-9.759719\"/>\r\n   </g>\r\n   <g id=\"matplotlib.axis_1\">\r\n    <g id=\"xtick_1\">\r\n     <g id=\"line2d_1\">\r\n      <defs>\r\n       <path d=\"M 0 0 \r\nL 0 3.5 \r\n\" id=\"m06f0319c05\" style=\"stroke:#000000;stroke-width:0.8;\"/>\r\n      </defs>\r\n      <g>\r\n       <use style=\"stroke:#000000;stroke-width:0.8;\" x=\"33.967\" xlink:href=\"#m06f0319c05\" y=\"227.759719\"/>\r\n      </g>\r\n     </g>\r\n     <g id=\"text_1\">\r\n      <!-- 0 -->\r\n      <g transform=\"translate(30.78575 242.358156)scale(0.1 -0.1)\">\r\n       <defs>\r\n        <path d=\"M 31.78125 66.40625 \r\nQ 24.171875 66.40625 20.328125 58.90625 \r\nQ 16.5 51.421875 16.5 36.375 \r\nQ 16.5 21.390625 20.328125 13.890625 \r\nQ 24.171875 6.390625 31.78125 6.390625 \r\nQ 39.453125 6.390625 43.28125 13.890625 \r\nQ 47.125 21.390625 47.125 36.375 \r\nQ 47.125 51.421875 43.28125 58.90625 \r\nQ 39.453125 66.40625 31.78125 66.40625 \r\nz\r\nM 31.78125 74.21875 \r\nQ 44.046875 74.21875 50.515625 64.515625 \r\nQ 56.984375 54.828125 56.984375 36.375 \r\nQ 56.984375 17.96875 50.515625 8.265625 \r\nQ 44.046875 -1.421875 31.78125 -1.421875 \r\nQ 19.53125 -1.421875 13.0625 8.265625 \r\nQ 6.59375 17.96875 6.59375 36.375 \r\nQ 6.59375 54.828125 13.0625 64.515625 \r\nQ 19.53125 74.21875 31.78125 74.21875 \r\nz\r\n\" id=\"DejaVuSans-48\"/>\r\n       </defs>\r\n       <use xlink:href=\"#DejaVuSans-48\"/>\r\n      </g>\r\n     </g>\r\n    </g>\r\n    <g id=\"xtick_2\">\r\n     <g id=\"line2d_2\">\r\n      <g>\r\n       <use style=\"stroke:#000000;stroke-width:0.8;\" x=\"67.942\" xlink:href=\"#m06f0319c05\" y=\"227.759719\"/>\r\n      </g>\r\n     </g>\r\n     <g id=\"text_2\">\r\n      <!-- 25 -->\r\n      <g transform=\"translate(61.5795 242.358156)scale(0.1 -0.1)\">\r\n       <defs>\r\n        <path d=\"M 19.1875 8.296875 \r\nL 53.609375 8.296875 \r\nL 53.609375 0 \r\nL 7.328125 0 \r\nL 7.328125 8.296875 \r\nQ 12.9375 14.109375 22.625 23.890625 \r\nQ 32.328125 33.6875 34.8125 36.53125 \r\nQ 39.546875 41.84375 41.421875 45.53125 \r\nQ 43.3125 49.21875 43.3125 52.78125 \r\nQ 43.3125 58.59375 39.234375 62.25 \r\nQ 35.15625 65.921875 28.609375 65.921875 \r\nQ 23.96875 65.921875 18.8125 64.3125 \r\nQ 13.671875 62.703125 7.8125 59.421875 \r\nL 7.8125 69.390625 \r\nQ 13.765625 71.78125 18.9375 73 \r\nQ 24.125 74.21875 28.421875 74.21875 \r\nQ 39.75 74.21875 46.484375 68.546875 \r\nQ 53.21875 62.890625 53.21875 53.421875 \r\nQ 53.21875 48.921875 51.53125 44.890625 \r\nQ 49.859375 40.875 45.40625 35.40625 \r\nQ 44.1875 33.984375 37.640625 27.21875 \r\nQ 31.109375 20.453125 19.1875 8.296875 \r\nz\r\n\" id=\"DejaVuSans-50\"/>\r\n        <path d=\"M 10.796875 72.90625 \r\nL 49.515625 72.90625 \r\nL 49.515625 64.59375 \r\nL 19.828125 64.59375 \r\nL 19.828125 46.734375 \r\nQ 21.96875 47.46875 24.109375 47.828125 \r\nQ 26.265625 48.1875 28.421875 48.1875 \r\nQ 40.625 48.1875 47.75 41.5 \r\nQ 54.890625 34.8125 54.890625 23.390625 \r\nQ 54.890625 11.625 47.5625 5.09375 \r\nQ 40.234375 -1.421875 26.90625 -1.421875 \r\nQ 22.3125 -1.421875 17.546875 -0.640625 \r\nQ 12.796875 0.140625 7.71875 1.703125 \r\nL 7.71875 11.625 \r\nQ 12.109375 9.234375 16.796875 8.0625 \r\nQ 21.484375 6.890625 26.703125 6.890625 \r\nQ 35.15625 6.890625 40.078125 11.328125 \r\nQ 45.015625 15.765625 45.015625 23.390625 \r\nQ 45.015625 31 40.078125 35.4375 \r\nQ 35.15625 39.890625 26.703125 39.890625 \r\nQ 22.75 39.890625 18.8125 39.015625 \r\nQ 14.890625 38.140625 10.796875 36.28125 \r\nz\r\n\" id=\"DejaVuSans-53\"/>\r\n       </defs>\r\n       <use xlink:href=\"#DejaVuSans-50\"/>\r\n       <use x=\"63.623047\" xlink:href=\"#DejaVuSans-53\"/>\r\n      </g>\r\n     </g>\r\n    </g>\r\n    <g id=\"xtick_3\">\r\n     <g id=\"line2d_3\">\r\n      <g>\r\n       <use style=\"stroke:#000000;stroke-width:0.8;\" x=\"101.917\" xlink:href=\"#m06f0319c05\" y=\"227.759719\"/>\r\n      </g>\r\n     </g>\r\n     <g id=\"text_3\">\r\n      <!-- 50 -->\r\n      <g transform=\"translate(95.5545 242.358156)scale(0.1 -0.1)\">\r\n       <use xlink:href=\"#DejaVuSans-53\"/>\r\n       <use x=\"63.623047\" xlink:href=\"#DejaVuSans-48\"/>\r\n      </g>\r\n     </g>\r\n    </g>\r\n    <g id=\"xtick_4\">\r\n     <g id=\"line2d_4\">\r\n      <g>\r\n       <use style=\"stroke:#000000;stroke-width:0.8;\" x=\"135.892\" xlink:href=\"#m06f0319c05\" y=\"227.759719\"/>\r\n      </g>\r\n     </g>\r\n     <g id=\"text_4\">\r\n      <!-- 75 -->\r\n      <g transform=\"translate(129.5295 242.358156)scale(0.1 -0.1)\">\r\n       <defs>\r\n        <path d=\"M 8.203125 72.90625 \r\nL 55.078125 72.90625 \r\nL 55.078125 68.703125 \r\nL 28.609375 0 \r\nL 18.3125 0 \r\nL 43.21875 64.59375 \r\nL 8.203125 64.59375 \r\nz\r\n\" id=\"DejaVuSans-55\"/>\r\n       </defs>\r\n       <use xlink:href=\"#DejaVuSans-55\"/>\r\n       <use x=\"63.623047\" xlink:href=\"#DejaVuSans-53\"/>\r\n      </g>\r\n     </g>\r\n    </g>\r\n    <g id=\"xtick_5\">\r\n     <g id=\"line2d_5\">\r\n      <g>\r\n       <use style=\"stroke:#000000;stroke-width:0.8;\" x=\"169.867\" xlink:href=\"#m06f0319c05\" y=\"227.759719\"/>\r\n      </g>\r\n     </g>\r\n     <g id=\"text_5\">\r\n      <!-- 100 -->\r\n      <g transform=\"translate(160.32325 242.358156)scale(0.1 -0.1)\">\r\n       <defs>\r\n        <path d=\"M 12.40625 8.296875 \r\nL 28.515625 8.296875 \r\nL 28.515625 63.921875 \r\nL 10.984375 60.40625 \r\nL 10.984375 69.390625 \r\nL 28.421875 72.90625 \r\nL 38.28125 72.90625 \r\nL 38.28125 8.296875 \r\nL 54.390625 8.296875 \r\nL 54.390625 0 \r\nL 12.40625 0 \r\nz\r\n\" id=\"DejaVuSans-49\"/>\r\n       </defs>\r\n       <use xlink:href=\"#DejaVuSans-49\"/>\r\n       <use x=\"63.623047\" xlink:href=\"#DejaVuSans-48\"/>\r\n       <use x=\"127.246094\" xlink:href=\"#DejaVuSans-48\"/>\r\n      </g>\r\n     </g>\r\n    </g>\r\n   </g>\r\n   <g id=\"matplotlib.axis_2\">\r\n    <g id=\"ytick_1\">\r\n     <g id=\"line2d_6\">\r\n      <defs>\r\n       <path d=\"M 0 0 \r\nL -3.5 0 \r\n\" id=\"me81a469fc1\" style=\"stroke:#000000;stroke-width:0.8;\"/>\r\n      </defs>\r\n      <g>\r\n       <use style=\"stroke:#000000;stroke-width:0.8;\" x=\"33.2875\" xlink:href=\"#me81a469fc1\" y=\"10.999219\"/>\r\n      </g>\r\n     </g>\r\n     <g id=\"text_6\">\r\n      <!-- 0 -->\r\n      <g transform=\"translate(19.925 14.798437)scale(0.1 -0.1)\">\r\n       <use xlink:href=\"#DejaVuSans-48\"/>\r\n      </g>\r\n     </g>\r\n    </g>\r\n    <g id=\"ytick_2\">\r\n     <g id=\"line2d_7\">\r\n      <g>\r\n       <use style=\"stroke:#000000;stroke-width:0.8;\" x=\"33.2875\" xlink:href=\"#me81a469fc1\" y=\"38.179219\"/>\r\n      </g>\r\n     </g>\r\n     <g id=\"text_7\">\r\n      <!-- 20 -->\r\n      <g transform=\"translate(13.5625 41.978437)scale(0.1 -0.1)\">\r\n       <use xlink:href=\"#DejaVuSans-50\"/>\r\n       <use x=\"63.623047\" xlink:href=\"#DejaVuSans-48\"/>\r\n      </g>\r\n     </g>\r\n    </g>\r\n    <g id=\"ytick_3\">\r\n     <g id=\"line2d_8\">\r\n      <g>\r\n       <use style=\"stroke:#000000;stroke-width:0.8;\" x=\"33.2875\" xlink:href=\"#me81a469fc1\" y=\"65.359219\"/>\r\n      </g>\r\n     </g>\r\n     <g id=\"text_8\">\r\n      <!-- 40 -->\r\n      <g transform=\"translate(13.5625 69.158437)scale(0.1 -0.1)\">\r\n       <defs>\r\n        <path d=\"M 37.796875 64.3125 \r\nL 12.890625 25.390625 \r\nL 37.796875 25.390625 \r\nz\r\nM 35.203125 72.90625 \r\nL 47.609375 72.90625 \r\nL 47.609375 25.390625 \r\nL 58.015625 25.390625 \r\nL 58.015625 17.1875 \r\nL 47.609375 17.1875 \r\nL 47.609375 0 \r\nL 37.796875 0 \r\nL 37.796875 17.1875 \r\nL 4.890625 17.1875 \r\nL 4.890625 26.703125 \r\nz\r\n\" id=\"DejaVuSans-52\"/>\r\n       </defs>\r\n       <use xlink:href=\"#DejaVuSans-52\"/>\r\n       <use x=\"63.623047\" xlink:href=\"#DejaVuSans-48\"/>\r\n      </g>\r\n     </g>\r\n    </g>\r\n    <g id=\"ytick_4\">\r\n     <g id=\"line2d_9\">\r\n      <g>\r\n       <use style=\"stroke:#000000;stroke-width:0.8;\" x=\"33.2875\" xlink:href=\"#me81a469fc1\" y=\"92.539219\"/>\r\n      </g>\r\n     </g>\r\n     <g id=\"text_9\">\r\n      <!-- 60 -->\r\n      <g transform=\"translate(13.5625 96.338437)scale(0.1 -0.1)\">\r\n       <defs>\r\n        <path d=\"M 33.015625 40.375 \r\nQ 26.375 40.375 22.484375 35.828125 \r\nQ 18.609375 31.296875 18.609375 23.390625 \r\nQ 18.609375 15.53125 22.484375 10.953125 \r\nQ 26.375 6.390625 33.015625 6.390625 \r\nQ 39.65625 6.390625 43.53125 10.953125 \r\nQ 47.40625 15.53125 47.40625 23.390625 \r\nQ 47.40625 31.296875 43.53125 35.828125 \r\nQ 39.65625 40.375 33.015625 40.375 \r\nz\r\nM 52.59375 71.296875 \r\nL 52.59375 62.3125 \r\nQ 48.875 64.0625 45.09375 64.984375 \r\nQ 41.3125 65.921875 37.59375 65.921875 \r\nQ 27.828125 65.921875 22.671875 59.328125 \r\nQ 17.53125 52.734375 16.796875 39.40625 \r\nQ 19.671875 43.65625 24.015625 45.921875 \r\nQ 28.375 48.1875 33.59375 48.1875 \r\nQ 44.578125 48.1875 50.953125 41.515625 \r\nQ 57.328125 34.859375 57.328125 23.390625 \r\nQ 57.328125 12.15625 50.6875 5.359375 \r\nQ 44.046875 -1.421875 33.015625 -1.421875 \r\nQ 20.359375 -1.421875 13.671875 8.265625 \r\nQ 6.984375 17.96875 6.984375 36.375 \r\nQ 6.984375 53.65625 15.1875 63.9375 \r\nQ 23.390625 74.21875 37.203125 74.21875 \r\nQ 40.921875 74.21875 44.703125 73.484375 \r\nQ 48.484375 72.75 52.59375 71.296875 \r\nz\r\n\" id=\"DejaVuSans-54\"/>\r\n       </defs>\r\n       <use xlink:href=\"#DejaVuSans-54\"/>\r\n       <use x=\"63.623047\" xlink:href=\"#DejaVuSans-48\"/>\r\n      </g>\r\n     </g>\r\n    </g>\r\n    <g id=\"ytick_5\">\r\n     <g id=\"line2d_10\">\r\n      <g>\r\n       <use style=\"stroke:#000000;stroke-width:0.8;\" x=\"33.2875\" xlink:href=\"#me81a469fc1\" y=\"119.719219\"/>\r\n      </g>\r\n     </g>\r\n     <g id=\"text_10\">\r\n      <!-- 80 -->\r\n      <g transform=\"translate(13.5625 123.518437)scale(0.1 -0.1)\">\r\n       <defs>\r\n        <path d=\"M 31.78125 34.625 \r\nQ 24.75 34.625 20.71875 30.859375 \r\nQ 16.703125 27.09375 16.703125 20.515625 \r\nQ 16.703125 13.921875 20.71875 10.15625 \r\nQ 24.75 6.390625 31.78125 6.390625 \r\nQ 38.8125 6.390625 42.859375 10.171875 \r\nQ 46.921875 13.96875 46.921875 20.515625 \r\nQ 46.921875 27.09375 42.890625 30.859375 \r\nQ 38.875 34.625 31.78125 34.625 \r\nz\r\nM 21.921875 38.8125 \r\nQ 15.578125 40.375 12.03125 44.71875 \r\nQ 8.5 49.078125 8.5 55.328125 \r\nQ 8.5 64.0625 14.71875 69.140625 \r\nQ 20.953125 74.21875 31.78125 74.21875 \r\nQ 42.671875 74.21875 48.875 69.140625 \r\nQ 55.078125 64.0625 55.078125 55.328125 \r\nQ 55.078125 49.078125 51.53125 44.71875 \r\nQ 48 40.375 41.703125 38.8125 \r\nQ 48.828125 37.15625 52.796875 32.3125 \r\nQ 56.78125 27.484375 56.78125 20.515625 \r\nQ 56.78125 9.90625 50.3125 4.234375 \r\nQ 43.84375 -1.421875 31.78125 -1.421875 \r\nQ 19.734375 -1.421875 13.25 4.234375 \r\nQ 6.78125 9.90625 6.78125 20.515625 \r\nQ 6.78125 27.484375 10.78125 32.3125 \r\nQ 14.796875 37.15625 21.921875 38.8125 \r\nz\r\nM 18.3125 54.390625 \r\nQ 18.3125 48.734375 21.84375 45.5625 \r\nQ 25.390625 42.390625 31.78125 42.390625 \r\nQ 38.140625 42.390625 41.71875 45.5625 \r\nQ 45.3125 48.734375 45.3125 54.390625 \r\nQ 45.3125 60.0625 41.71875 63.234375 \r\nQ 38.140625 66.40625 31.78125 66.40625 \r\nQ 25.390625 66.40625 21.84375 63.234375 \r\nQ 18.3125 60.0625 18.3125 54.390625 \r\nz\r\n\" id=\"DejaVuSans-56\"/>\r\n       </defs>\r\n       <use xlink:href=\"#DejaVuSans-56\"/>\r\n       <use x=\"63.623047\" xlink:href=\"#DejaVuSans-48\"/>\r\n      </g>\r\n     </g>\r\n    </g>\r\n    <g id=\"ytick_6\">\r\n     <g id=\"line2d_11\">\r\n      <g>\r\n       <use style=\"stroke:#000000;stroke-width:0.8;\" x=\"33.2875\" xlink:href=\"#me81a469fc1\" y=\"146.899219\"/>\r\n      </g>\r\n     </g>\r\n     <g id=\"text_11\">\r\n      <!-- 100 -->\r\n      <g transform=\"translate(7.2 150.698437)scale(0.1 -0.1)\">\r\n       <use xlink:href=\"#DejaVuSans-49\"/>\r\n       <use x=\"63.623047\" xlink:href=\"#DejaVuSans-48\"/>\r\n       <use x=\"127.246094\" xlink:href=\"#DejaVuSans-48\"/>\r\n      </g>\r\n     </g>\r\n    </g>\r\n    <g id=\"ytick_7\">\r\n     <g id=\"line2d_12\">\r\n      <g>\r\n       <use style=\"stroke:#000000;stroke-width:0.8;\" x=\"33.2875\" xlink:href=\"#me81a469fc1\" y=\"174.079219\"/>\r\n      </g>\r\n     </g>\r\n     <g id=\"text_12\">\r\n      <!-- 120 -->\r\n      <g transform=\"translate(7.2 177.878437)scale(0.1 -0.1)\">\r\n       <use xlink:href=\"#DejaVuSans-49\"/>\r\n       <use x=\"63.623047\" xlink:href=\"#DejaVuSans-50\"/>\r\n       <use x=\"127.246094\" xlink:href=\"#DejaVuSans-48\"/>\r\n      </g>\r\n     </g>\r\n    </g>\r\n    <g id=\"ytick_8\">\r\n     <g id=\"line2d_13\">\r\n      <g>\r\n       <use style=\"stroke:#000000;stroke-width:0.8;\" x=\"33.2875\" xlink:href=\"#me81a469fc1\" y=\"201.259219\"/>\r\n      </g>\r\n     </g>\r\n     <g id=\"text_13\">\r\n      <!-- 140 -->\r\n      <g transform=\"translate(7.2 205.058437)scale(0.1 -0.1)\">\r\n       <use xlink:href=\"#DejaVuSans-49\"/>\r\n       <use x=\"63.623047\" xlink:href=\"#DejaVuSans-52\"/>\r\n       <use x=\"127.246094\" xlink:href=\"#DejaVuSans-48\"/>\r\n      </g>\r\n     </g>\r\n    </g>\r\n   </g>\r\n   <g id=\"patch_3\">\r\n    <path d=\"M 33.2875 227.759719 \r\nL 33.2875 10.319719 \r\n\" style=\"fill:none;stroke:#000000;stroke-linecap:square;stroke-linejoin:miter;stroke-width:0.8;\"/>\r\n   </g>\r\n   <g id=\"patch_4\">\r\n    <path d=\"M 196.3675 227.759719 \r\nL 196.3675 10.319719 \r\n\" style=\"fill:none;stroke:#000000;stroke-linecap:square;stroke-linejoin:miter;stroke-width:0.8;\"/>\r\n   </g>\r\n   <g id=\"patch_5\">\r\n    <path d=\"M 33.2875 227.759719 \r\nL 196.3675 227.759719 \r\n\" style=\"fill:none;stroke:#000000;stroke-linecap:square;stroke-linejoin:miter;stroke-width:0.8;\"/>\r\n   </g>\r\n   <g id=\"patch_6\">\r\n    <path d=\"M 33.2875 10.319719 \r\nL 196.3675 10.319719 \r\n\" style=\"fill:none;stroke:#000000;stroke-linecap:square;stroke-linejoin:miter;stroke-width:0.8;\"/>\r\n   </g>\r\n  </g>\r\n </g>\r\n <defs>\r\n  <clipPath id=\"pabc0f7c438\">\r\n   <rect height=\"217.44\" width=\"163.08\" x=\"33.2875\" y=\"10.319719\"/>\r\n  </clipPath>\r\n </defs>\r\n</svg>\r\n",
      "image/png": "[encoded data removed]"
     },
     "metadata": {
      "needs_background": "light"
     }
    }
   ],
   "source": [
    "palette = torch.tensor([2 ** 25 - 1, 2 ** 15 - 1, 2 ** 21 - 1])\n",
    "colors = torch.as_tensor([i for i in range(21)])[:, None] * palette\n",
    "colors = (colors % 255).numpy().astype(\"uint8\")\n",
    "\n",
    "# plot the semantic segmentation predictions of 21 classes in each color\n",
    "r = Image.fromarray(output_predictions.byte().cpu().numpy()).resize(input_image.size)\n",
    "r.putpalette(colors)\n",
    "\n",
    "plt.imshow(r)\n"
   ]
  },
  {
   "cell_type": "code",
   "execution_count": null,
   "metadata": {},
   "outputs": [],
   "source": []
  }
 ]
}